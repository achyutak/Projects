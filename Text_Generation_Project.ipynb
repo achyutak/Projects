{
  "nbformat": 4,
  "nbformat_minor": 0,
  "metadata": {
    "colab": {
      "name": "Text Generation Project",
      "provenance": [],
      "collapsed_sections": [],
      "authorship_tag": "ABX9TyM2GaN3j01KEZ7QOHdCrkKS",
      "include_colab_link": true
    },
    "kernelspec": {
      "name": "python3",
      "display_name": "Python 3"
    }
  },
  "cells": [
    {
      "cell_type": "markdown",
      "metadata": {
        "id": "view-in-github",
        "colab_type": "text"
      },
      "source": [
        "<a href=\"https://colab.research.google.com/github/achyutak/Projects/blob/main/Text_Generation_Project.ipynb\" target=\"_parent\"><img src=\"https://colab.research.google.com/assets/colab-badge.svg\" alt=\"Open In Colab\"/></a>"
      ]
    },
    {
      "cell_type": "markdown",
      "metadata": {
        "id": "CENoT4h9toaA"
      },
      "source": [
        "## Importing dataset"
      ]
    },
    {
      "cell_type": "code",
      "metadata": {
        "colab": {
          "base_uri": "https://localhost:8080/"
        },
        "id": "PnVAJQfOr1x2",
        "outputId": "fcc97233-1146-4d42-e7b3-8d7a4d21e1d8"
      },
      "source": [
        "from keras.utils.data_utils import get_file\r\n",
        "path = get_file('shakespeare.txt',\r\n",
        "                origin = 'https://storage.googleapis.com/download.tensorflow.org/data/shakespeare.txt')"
      ],
      "execution_count": 1,
      "outputs": [
        {
          "output_type": "stream",
          "text": [
            "Downloading data from https://storage.googleapis.com/download.tensorflow.org/data/shakespeare.txt\n",
            "1122304/1115394 [==============================] - 0s 0us/step\n"
          ],
          "name": "stdout"
        }
      ]
    },
    {
      "cell_type": "code",
      "metadata": {
        "colab": {
          "base_uri": "https://localhost:8080/"
        },
        "id": "TroNwASysXqY",
        "outputId": "1b664661-df1a-4c3f-c461-dd596855fac9"
      },
      "source": [
        "with open(path, encoding='utf-8') as f:\r\n",
        "  text = f.read().lower()\r\n",
        "print('Length of Text: {} characters'.format(len(text)))"
      ],
      "execution_count": 2,
      "outputs": [
        {
          "output_type": "stream",
          "text": [
            "Length of Text: 1115394 characters\n"
          ],
          "name": "stdout"
        }
      ]
    },
    {
      "cell_type": "markdown",
      "metadata": {
        "id": "btbVFrCl9K1U"
      },
      "source": [
        "## Creating a list of sentences from data taken"
      ]
    },
    {
      "cell_type": "code",
      "metadata": {
        "colab": {
          "base_uri": "https://localhost:8080/"
        },
        "id": "r3GyF6YetMkH",
        "outputId": "f5f188c7-f622-4073-aa0e-c90c1ff6ef31"
      },
      "source": [
        "print(text[:500])"
      ],
      "execution_count": 3,
      "outputs": [
        {
          "output_type": "stream",
          "text": [
            "first citizen:\n",
            "before we proceed any further, hear me speak.\n",
            "\n",
            "all:\n",
            "speak, speak.\n",
            "\n",
            "first citizen:\n",
            "you are all resolved rather to die than to famish?\n",
            "\n",
            "all:\n",
            "resolved. resolved.\n",
            "\n",
            "first citizen:\n",
            "first, you know caius marcius is chief enemy to the people.\n",
            "\n",
            "all:\n",
            "we know't, we know't.\n",
            "\n",
            "first citizen:\n",
            "let us kill him, and we'll have corn at our own price.\n",
            "is't a verdict?\n",
            "\n",
            "all:\n",
            "no more talking on't; let it be done: away, away!\n",
            "\n",
            "second citizen:\n",
            "one word, good citizens.\n",
            "\n",
            "first citizen:\n",
            "we are accounted poor\n"
          ],
          "name": "stdout"
        }
      ]
    },
    {
      "cell_type": "code",
      "metadata": {
        "id": "GNgkCnlMtWdq"
      },
      "source": [
        "data = text[:5000]\r\n",
        "# Taking only the first 5000 characters for building the model"
      ],
      "execution_count": 4,
      "outputs": []
    },
    {
      "cell_type": "code",
      "metadata": {
        "colab": {
          "base_uri": "https://localhost:8080/"
        },
        "id": "4E9GZ_tmtgYS",
        "outputId": "edffd499-3a34-44f1-e139-826ea7b290f4"
      },
      "source": [
        "print(data)\r\n",
        "# The data we are taking to build the model."
      ],
      "execution_count": 5,
      "outputs": [
        {
          "output_type": "stream",
          "text": [
            "first citizen:\n",
            "before we proceed any further, hear me speak.\n",
            "\n",
            "all:\n",
            "speak, speak.\n",
            "\n",
            "first citizen:\n",
            "you are all resolved rather to die than to famish?\n",
            "\n",
            "all:\n",
            "resolved. resolved.\n",
            "\n",
            "first citizen:\n",
            "first, you know caius marcius is chief enemy to the people.\n",
            "\n",
            "all:\n",
            "we know't, we know't.\n",
            "\n",
            "first citizen:\n",
            "let us kill him, and we'll have corn at our own price.\n",
            "is't a verdict?\n",
            "\n",
            "all:\n",
            "no more talking on't; let it be done: away, away!\n",
            "\n",
            "second citizen:\n",
            "one word, good citizens.\n",
            "\n",
            "first citizen:\n",
            "we are accounted poor citizens, the patricians good.\n",
            "what authority surfeits on would relieve us: if they\n",
            "would yield us but the superfluity, while it were\n",
            "wholesome, we might guess they relieved us humanely;\n",
            "but they think we are too dear: the leanness that\n",
            "afflicts us, the object of our misery, is as an\n",
            "inventory to particularise their abundance; our\n",
            "sufferance is a gain to them let us revenge this with\n",
            "our pikes, ere we become rakes: for the gods know i\n",
            "speak this in hunger for bread, not in thirst for revenge.\n",
            "\n",
            "second citizen:\n",
            "would you proceed especially against caius marcius?\n",
            "\n",
            "all:\n",
            "against him first: he's a very dog to the commonalty.\n",
            "\n",
            "second citizen:\n",
            "consider you what services he has done for his country?\n",
            "\n",
            "first citizen:\n",
            "very well; and could be content to give him good\n",
            "report fort, but that he pays himself with being proud.\n",
            "\n",
            "second citizen:\n",
            "nay, but speak not maliciously.\n",
            "\n",
            "first citizen:\n",
            "i say unto you, what he hath done famously, he did\n",
            "it to that end: though soft-conscienced men can be\n",
            "content to say it was for his country he did it to\n",
            "please his mother and to be partly proud; which he\n",
            "is, even till the altitude of his virtue.\n",
            "\n",
            "second citizen:\n",
            "what he cannot help in his nature, you account a\n",
            "vice in him. you must in no way say he is covetous.\n",
            "\n",
            "first citizen:\n",
            "if i must not, i need not be barren of accusations;\n",
            "he hath faults, with surplus, to tire in repetition.\n",
            "what shouts are these? the other side o' the city\n",
            "is risen: why stay we prating here? to the capitol!\n",
            "\n",
            "all:\n",
            "come, come.\n",
            "\n",
            "first citizen:\n",
            "soft! who comes here?\n",
            "\n",
            "second citizen:\n",
            "worthy menenius agrippa; one that hath always loved\n",
            "the people.\n",
            "\n",
            "first citizen:\n",
            "he's one honest enough: would all the rest were so!\n",
            "\n",
            "menenius:\n",
            "what work's, my countrymen, in hand? where go you\n",
            "with bats and clubs? the matter? speak, i pray you.\n",
            "\n",
            "first citizen:\n",
            "our business is not unknown to the senate; they have\n",
            "had inkling this fortnight what we intend to do,\n",
            "which now we'll show 'em in deeds. they say poor\n",
            "suitors have strong breaths: they shall know we\n",
            "have strong arms too.\n",
            "\n",
            "menenius:\n",
            "why, masters, my good friends, mine honest neighbours,\n",
            "will you undo yourselves?\n",
            "\n",
            "first citizen:\n",
            "we cannot, sir, we are undone already.\n",
            "\n",
            "menenius:\n",
            "i tell you, friends, most charitable care\n",
            "have the patricians of you. for your wants,\n",
            "your suffering in this dearth, you may as well\n",
            "strike at the heaven with your staves as lift them\n",
            "against the roman state, whose course will on\n",
            "the way it takes, cracking ten thousand curbs\n",
            "of more strong link asunder than can ever\n",
            "appear in your impediment. for the dearth,\n",
            "the gods, not the patricians, make it, and\n",
            "your knees to them, not arms, must help. alack,\n",
            "you are transported by calamity\n",
            "thither where more attends you, and you slander\n",
            "the helms o' the state, who care for you like fathers,\n",
            "when you curse them as enemies.\n",
            "\n",
            "first citizen:\n",
            "care for us! true, indeed! they ne'er cared for us\n",
            "yet: suffer us to famish, and their store-houses\n",
            "crammed with grain; make edicts for usury, to\n",
            "support usurers; repeal daily any wholesome act\n",
            "established against the rich, and provide more\n",
            "piercing statutes daily, to chain up and restrain\n",
            "the poor. if the wars eat us not up, they will; and\n",
            "there's all the love they bear us.\n",
            "\n",
            "menenius:\n",
            "either you must\n",
            "confess yourselves wondrous malicious,\n",
            "or be accused of folly. i shall tell you\n",
            "a pretty tale: it may be you have heard it;\n",
            "but, since it serves my purpose, i will venture\n",
            "to stale 't a little more.\n",
            "\n",
            "first citizen:\n",
            "well, i'll hear it, sir: yet you must not think to\n",
            "fob off our disgrace with a tale: but, an 't please\n",
            "you, deliver.\n",
            "\n",
            "menenius:\n",
            "there was a time when all the body's members\n",
            "rebell'd against the belly, thus accused it:\n",
            "that only like a gulf it did remain\n",
            "i' the midst o' the body, idle and unactive,\n",
            "still cupboarding the viand, never bearing\n",
            "like labour with the rest, where the other instruments\n",
            "did see and hear, devise, instruct, walk, feel,\n",
            "and, mutually participate, did minister\n",
            "unto the appetite and affection common\n",
            "of the whole body. the belly answer'd--\n",
            "\n",
            "first citizen:\n",
            "well, sir, what answer made the belly?\n",
            "\n",
            "menenius:\n",
            "sir, i shall tell you. with a kind of smile,\n",
            "which ne'er came from the lungs, but even thus--\n",
            "for, look you, i may make the belly smile\n",
            "as well as speak--it tauntingly replied\n",
            "to the discontented members, the mutinous parts\n",
            "that envied his receipt; even so most fitly\n",
            "as you malign our senators for that\n",
            "they are not such as you.\n",
            "\n",
            "first citizen:\n",
            "your belly's answer? what!\n",
            "the kingly-crowned head, the vigilant eye,\n",
            "the counsell\n"
          ],
          "name": "stdout"
        }
      ]
    },
    {
      "cell_type": "code",
      "metadata": {
        "id": "kgpXmIqItje9",
        "colab": {
          "base_uri": "https://localhost:8080/",
          "height": 137
        },
        "outputId": "217dc33a-c6e0-4cc0-96af-a92b52626cc9"
      },
      "source": [
        "# Understanding the data\r\n",
        "data"
      ],
      "execution_count": 6,
      "outputs": [
        {
          "output_type": "execute_result",
          "data": {
            "application/vnd.google.colaboratory.intrinsic+json": {
              "type": "string"
            },
            "text/plain": [
              "\"first citizen:\\nbefore we proceed any further, hear me speak.\\n\\nall:\\nspeak, speak.\\n\\nfirst citizen:\\nyou are all resolved rather to die than to famish?\\n\\nall:\\nresolved. resolved.\\n\\nfirst citizen:\\nfirst, you know caius marcius is chief enemy to the people.\\n\\nall:\\nwe know't, we know't.\\n\\nfirst citizen:\\nlet us kill him, and we'll have corn at our own price.\\nis't a verdict?\\n\\nall:\\nno more talking on't; let it be done: away, away!\\n\\nsecond citizen:\\none word, good citizens.\\n\\nfirst citizen:\\nwe are accounted poor citizens, the patricians good.\\nwhat authority surfeits on would relieve us: if they\\nwould yield us but the superfluity, while it were\\nwholesome, we might guess they relieved us humanely;\\nbut they think we are too dear: the leanness that\\nafflicts us, the object of our misery, is as an\\ninventory to particularise their abundance; our\\nsufferance is a gain to them let us revenge this with\\nour pikes, ere we become rakes: for the gods know i\\nspeak this in hunger for bread, not in thirst for revenge.\\n\\nsecond citizen:\\nwould you proceed especially against caius marcius?\\n\\nall:\\nagainst him first: he's a very dog to the commonalty.\\n\\nsecond citizen:\\nconsider you what services he has done for his country?\\n\\nfirst citizen:\\nvery well; and could be content to give him good\\nreport fort, but that he pays himself with being proud.\\n\\nsecond citizen:\\nnay, but speak not maliciously.\\n\\nfirst citizen:\\ni say unto you, what he hath done famously, he did\\nit to that end: though soft-conscienced men can be\\ncontent to say it was for his country he did it to\\nplease his mother and to be partly proud; which he\\nis, even till the altitude of his virtue.\\n\\nsecond citizen:\\nwhat he cannot help in his nature, you account a\\nvice in him. you must in no way say he is covetous.\\n\\nfirst citizen:\\nif i must not, i need not be barren of accusations;\\nhe hath faults, with surplus, to tire in repetition.\\nwhat shouts are these? the other side o' the city\\nis risen: why stay we prating here? to the capitol!\\n\\nall:\\ncome, come.\\n\\nfirst citizen:\\nsoft! who comes here?\\n\\nsecond citizen:\\nworthy menenius agrippa; one that hath always loved\\nthe people.\\n\\nfirst citizen:\\nhe's one honest enough: would all the rest were so!\\n\\nmenenius:\\nwhat work's, my countrymen, in hand? where go you\\nwith bats and clubs? the matter? speak, i pray you.\\n\\nfirst citizen:\\nour business is not unknown to the senate; they have\\nhad inkling this fortnight what we intend to do,\\nwhich now we'll show 'em in deeds. they say poor\\nsuitors have strong breaths: they shall know we\\nhave strong arms too.\\n\\nmenenius:\\nwhy, masters, my good friends, mine honest neighbours,\\nwill you undo yourselves?\\n\\nfirst citizen:\\nwe cannot, sir, we are undone already.\\n\\nmenenius:\\ni tell you, friends, most charitable care\\nhave the patricians of you. for your wants,\\nyour suffering in this dearth, you may as well\\nstrike at the heaven with your staves as lift them\\nagainst the roman state, whose course will on\\nthe way it takes, cracking ten thousand curbs\\nof more strong link asunder than can ever\\nappear in your impediment. for the dearth,\\nthe gods, not the patricians, make it, and\\nyour knees to them, not arms, must help. alack,\\nyou are transported by calamity\\nthither where more attends you, and you slander\\nthe helms o' the state, who care for you like fathers,\\nwhen you curse them as enemies.\\n\\nfirst citizen:\\ncare for us! true, indeed! they ne'er cared for us\\nyet: suffer us to famish, and their store-houses\\ncrammed with grain; make edicts for usury, to\\nsupport usurers; repeal daily any wholesome act\\nestablished against the rich, and provide more\\npiercing statutes daily, to chain up and restrain\\nthe poor. if the wars eat us not up, they will; and\\nthere's all the love they bear us.\\n\\nmenenius:\\neither you must\\nconfess yourselves wondrous malicious,\\nor be accused of folly. i shall tell you\\na pretty tale: it may be you have heard it;\\nbut, since it serves my purpose, i will venture\\nto stale 't a little more.\\n\\nfirst citizen:\\nwell, i'll hear it, sir: yet you must not think to\\nfob off our disgrace with a tale: but, an 't please\\nyou, deliver.\\n\\nmenenius:\\nthere was a time when all the body's members\\nrebell'd against the belly, thus accused it:\\nthat only like a gulf it did remain\\ni' the midst o' the body, idle and unactive,\\nstill cupboarding the viand, never bearing\\nlike labour with the rest, where the other instruments\\ndid see and hear, devise, instruct, walk, feel,\\nand, mutually participate, did minister\\nunto the appetite and affection common\\nof the whole body. the belly answer'd--\\n\\nfirst citizen:\\nwell, sir, what answer made the belly?\\n\\nmenenius:\\nsir, i shall tell you. with a kind of smile,\\nwhich ne'er came from the lungs, but even thus--\\nfor, look you, i may make the belly smile\\nas well as speak--it tauntingly replied\\nto the discontented members, the mutinous parts\\nthat envied his receipt; even so most fitly\\nas you malign our senators for that\\nthey are not such as you.\\n\\nfirst citizen:\\nyour belly's answer? what!\\nthe kingly-crowned head, the vigilant eye,\\nthe counsell\""
            ]
          },
          "metadata": {
            "tags": []
          },
          "execution_count": 6
        }
      ]
    },
    {
      "cell_type": "code",
      "metadata": {
        "id": "4dnS8m608JC9"
      },
      "source": [
        "#We see that all the lines are separated by a '\\n'.\r\n",
        "# Now we split the data into lines and create a corpus.\r\n",
        "corpus = data.split('\\n')"
      ],
      "execution_count": 7,
      "outputs": []
    },
    {
      "cell_type": "code",
      "metadata": {
        "colab": {
          "base_uri": "https://localhost:8080/"
        },
        "id": "b3yBalm48xpK",
        "outputId": "681b1030-48f3-423a-fd9a-8f5944534ac5"
      },
      "source": [
        "corpus[:10]"
      ],
      "execution_count": 8,
      "outputs": [
        {
          "output_type": "execute_result",
          "data": {
            "text/plain": [
              "['first citizen:',\n",
              " 'before we proceed any further, hear me speak.',\n",
              " '',\n",
              " 'all:',\n",
              " 'speak, speak.',\n",
              " '',\n",
              " 'first citizen:',\n",
              " 'you are all resolved rather to die than to famish?',\n",
              " '',\n",
              " 'all:']"
            ]
          },
          "metadata": {
            "tags": []
          },
          "execution_count": 8
        }
      ]
    },
    {
      "cell_type": "markdown",
      "metadata": {
        "id": "z27OoIJkDwCK"
      },
      "source": [
        "The text still has a lot of punctuation marks and blank spaces. So, we use Tokenizer from keras to remove all the unnecessary pronunciation marks and create a dictionary of most frequent words in the datset.\r\n",
        "\r\n",
        "[Tokenizer:](https://keras.io/api/preprocessing/text/#tokenizer-class)\r\n",
        "This class allows to vectorize a text corpus, by turning each text into either a sequence of integers (each integer being the index of a token in a dictionary) or into a vector where the coefficient for each token could be binary, based on word count, based on tf-idf..."
      ]
    },
    {
      "cell_type": "markdown",
      "metadata": {
        "id": "vIrtgcFZFGz8"
      },
      "source": [
        "## Using Tokenizer class from tf.keras.preprocessing.text.Tokenizer"
      ]
    },
    {
      "cell_type": "code",
      "metadata": {
        "id": "CyzqlsJgDuOi"
      },
      "source": [
        "from tensorflow.keras.preprocessing.text import Tokenizer\r\n",
        "tk = Tokenizer(num_words=500, oov_token='<OOV>') #Only the most common num_words - 1 (499 here) words are kept. \r\n",
        "# Any words that are not available in the vocabulary during sequence to text calls are given as <OOV>\r\n",
        "tk.fit_on_texts(corpus)"
      ],
      "execution_count": 9,
      "outputs": []
    },
    {
      "cell_type": "code",
      "metadata": {
        "colab": {
          "base_uri": "https://localhost:8080/"
        },
        "id": "CROSDZsIunc0",
        "outputId": "55ebe733-255b-4dd6-b02d-9fdd79071c58"
      },
      "source": [
        "# Total number of words in the corpus:\r\n",
        "print('Total Number of words in the corpus:',len(tk.word_index))"
      ],
      "execution_count": 14,
      "outputs": [
        {
          "output_type": "stream",
          "text": [
            "Total Number of words in the corpus: 386\n"
          ],
          "name": "stdout"
        }
      ]
    },
    {
      "cell_type": "code",
      "metadata": {
        "colab": {
          "base_uri": "https://localhost:8080/"
        },
        "id": "rbd1w5FZz7Vc",
        "outputId": "afdc333e-40c9-440f-cfdd-be447574af58"
      },
      "source": [
        "total_words = len(tk.word_index) + 1\r\n",
        "print('Number of words after considering the padding:',total_words)"
      ],
      "execution_count": 15,
      "outputs": [
        {
          "output_type": "stream",
          "text": [
            "Number of words after considering the padding: 387\n"
          ],
          "name": "stdout"
        }
      ]
    },
    {
      "cell_type": "code",
      "metadata": {
        "colab": {
          "base_uri": "https://localhost:8080/"
        },
        "id": "upI4sdyDABTH",
        "outputId": "a3a60c4f-1698-4ff8-85c6-cab0fac91d2a"
      },
      "source": [
        "for line in corpus:\r\n",
        "  tokens_list = tk.texts_to_sequences([line])[0]\r\n",
        "  print(line)\r\n",
        "  print(tokens_list)\r\n",
        "  break"
      ],
      "execution_count": 21,
      "outputs": [
        {
          "output_type": "stream",
          "text": [
            "first citizen:\n",
            "[6, 4]\n"
          ],
          "name": "stdout"
        }
      ]
    },
    {
      "cell_type": "code",
      "metadata": {
        "colab": {
          "base_uri": "https://localhost:8080/"
        },
        "id": "ov1JUXNeBAx2",
        "outputId": "eb3e7ca5-64e5-47b1-9aa2-0f42d0045926"
      },
      "source": [
        "sequences = []\r\n",
        "for line in corpus:\r\n",
        "  tokens_list = tk.texts_to_sequences([line])[0]\r\n",
        "  for i in range(1,len(tokens_list)):\r\n",
        "    sequences.append(tokens_list[:i+1]) \r\n",
        "# The second for loop ranges from 1 to the length of the tokens list and appends the list of sequences of variable length (2 to max_sequence_length) generated from the tokens_list \r\n",
        "print(sequences)"
      ],
      "execution_count": 22,
      "outputs": [
        {
          "output_type": "stream",
          "text": [
            "[[6, 4], [133, 10], [133, 10, 71], [133, 10, 71, 72], [133, 10, 71, 72, 134], [133, 10, 71, 72, 134, 49], [133, 10, 71, 72, 134, 49, 135], [133, 10, 71, 72, 134, 49, 135, 23], [23, 23], [6, 4], [3, 24], [3, 24, 12], [3, 24, 12, 50], [3, 24, 12, 50, 136], [3, 24, 12, 50, 136, 5], [3, 24, 12, 50, 136, 5, 137], [3, 24, 12, 50, 136, 5, 137, 73], [3, 24, 12, 50, 136, 5, 137, 73, 5], [3, 24, 12, 50, 136, 5, 137, 73, 5, 74], [50, 50], [6, 4], [6, 3], [6, 3, 51], [6, 3, 51, 75], [6, 3, 51, 75, 76], [6, 3, 51, 75, 76, 25], [6, 3, 51, 75, 76, 25, 138], [6, 3, 51, 75, 76, 25, 138, 139], [6, 3, 51, 75, 76, 25, 138, 139, 5], [6, 3, 51, 75, 76, 25, 138, 139, 5, 2], [6, 3, 51, 75, 76, 25, 138, 139, 5, 2, 77], [10, 78], [10, 78, 10], [10, 78, 10, 78], [6, 4], [52, 11], [52, 11, 140], [52, 11, 140, 40], [52, 11, 140, 40, 7], [52, 11, 140, 40, 7, 79], [52, 11, 140, 40, 7, 79, 31], [52, 11, 140, 40, 7, 79, 31, 141], [52, 11, 140, 40, 7, 79, 31, 141, 80], [52, 11, 140, 40, 7, 79, 31, 141, 80, 26], [52, 11, 140, 40, 7, 79, 31, 141, 80, 26, 142], [52, 11, 140, 40, 7, 79, 31, 141, 80, 26, 142, 143], [144, 13], [144, 13, 145], [81, 35], [81, 35, 146], [81, 35, 146, 147], [81, 35, 146, 147, 52], [81, 35, 146, 147, 52, 8], [81, 35, 146, 147, 52, 8, 27], [81, 35, 146, 147, 52, 8, 27, 53], [81, 35, 146, 147, 52, 8, 27, 53, 82], [81, 35, 146, 147, 52, 8, 27, 53, 82, 82], [32, 4], [54, 148], [54, 148, 41], [54, 148, 41, 83], [6, 4], [10, 24], [10, 24, 149], [10, 24, 149, 55], [10, 24, 149, 55, 83], [10, 24, 149, 55, 83, 2], [10, 24, 149, 55, 83, 2, 56], [10, 24, 149, 55, 83, 2, 56, 41], [18, 150], [18, 150, 151], [18, 150, 151, 84], [18, 150, 151, 84, 42], [18, 150, 151, 84, 42, 152], [18, 150, 151, 84, 42, 152, 11], [18, 150, 151, 84, 42, 152, 11, 57], [18, 150, 151, 84, 42, 152, 11, 57, 14], [42, 153], [42, 153, 11], [42, 153, 11, 28], [42, 153, 11, 28, 2], [42, 153, 11, 28, 2, 154], [42, 153, 11, 28, 2, 154, 155], [42, 153, 11, 28, 2, 154, 155, 8], [42, 153, 11, 28, 2, 154, 155, 8, 85], [86, 10], [86, 10, 156], [86, 10, 156, 157], [86, 10, 156, 157, 14], [86, 10, 156, 157, 14, 158], [86, 10, 156, 157, 14, 158, 11], [86, 10, 156, 157, 14, 158, 11, 159], [28, 14], [28, 14, 87], [28, 14, 87, 10], [28, 14, 87, 10, 24], [28, 14, 87, 10, 24, 88], [28, 14, 87, 10, 24, 88, 160], [28, 14, 87, 10, 24, 88, 160, 2], [28, 14, 87, 10, 24, 88, 160, 2, 161], [28, 14, 87, 10, 24, 88, 160, 2, 161, 29], [162, 11], [162, 11, 2], [162, 11, 2, 163], [162, 11, 2, 163, 21], [162, 11, 2, 163, 21, 26], [162, 11, 2, 163, 21, 26, 164], [162, 11, 2, 163, 21, 26, 164, 25], [162, 11, 2, 163, 21, 26, 164, 25, 22], [162, 11, 2, 163, 21, 26, 164, 25, 22, 89], [165, 5], [165, 5, 166], [165, 5, 166, 90], [165, 5, 166, 90, 167], [165, 5, 166, 90, 167, 26], [168, 25], [168, 25, 13], [168, 25, 13, 169], [168, 25, 13, 169, 5], [168, 25, 13, 169, 5, 43], [168, 25, 13, 169, 5, 43, 52], [168, 25, 13, 169, 5, 43, 52, 11], [168, 25, 13, 169, 5, 43, 52, 11, 91], [168, 25, 13, 169, 5, 43, 52, 11, 91, 44], [168, 25, 13, 169, 5, 43, 52, 11, 91, 44, 19], [26, 170], [26, 170, 171], [26, 170, 171, 10], [26, 170, 171, 10, 172], [26, 170, 171, 10, 172, 173], [26, 170, 171, 10, 172, 173, 9], [26, 170, 171, 10, 172, 173, 9, 2], [26, 170, 171, 10, 172, 173, 9, 2, 92], [26, 170, 171, 10, 172, 173, 9, 2, 92, 51], [26, 170, 171, 10, 172, 173, 9, 2, 92, 51, 15], [23, 44], [23, 44, 16], [23, 44, 16, 174], [23, 44, 16, 174, 9], [23, 44, 16, 174, 9, 175], [23, 44, 16, 174, 9, 175, 17], [23, 44, 16, 174, 9, 175, 17, 16], [23, 44, 16, 174, 9, 175, 17, 16, 176], [23, 44, 16, 174, 9, 175, 17, 16, 176, 9], [23, 44, 16, 174, 9, 175, 17, 16, 176, 9, 91], [32, 4], [42, 3], [42, 3, 71], [42, 3, 71, 177], [42, 3, 71, 177, 36], [42, 3, 71, 177, 36, 75], [42, 3, 71, 177, 36, 75, 76], [36, 40], [36, 40, 6], [36, 40, 6, 93], [36, 40, 6, 93, 13], [36, 40, 6, 93, 13, 94], [36, 40, 6, 93, 13, 94, 178], [36, 40, 6, 93, 13, 94, 178, 5], [36, 40, 6, 93, 13, 94, 178, 5, 2], [36, 40, 6, 93, 13, 94, 178, 5, 2, 179], [32, 4], [180, 3], [180, 3, 18], [180, 3, 18, 181], [180, 3, 18, 181, 20], [180, 3, 18, 181, 20, 182], [180, 3, 18, 181, 20, 182, 53], [180, 3, 18, 181, 20, 182, 53, 9], [180, 3, 18, 181, 20, 182, 53, 9, 33], [180, 3, 18, 181, 20, 182, 53, 9, 33, 95], [6, 4], [94, 37], [94, 37, 7], [94, 37, 7, 183], [94, 37, 7, 183, 27], [94, 37, 7, 183, 27, 96], [94, 37, 7, 183, 27, 96, 5], [94, 37, 7, 183, 27, 96, 5, 184], [94, 37, 7, 183, 27, 96, 5, 184, 40], [94, 37, 7, 183, 27, 96, 5, 184, 40, 41], [185, 186], [185, 186, 28], [185, 186, 28, 29], [185, 186, 28, 29, 20], [185, 186, 28, 29, 20, 187], [185, 186, 28, 29, 20, 187, 188], [185, 186, 28, 29, 20, 187, 188, 19], [185, 186, 28, 29, 20, 187, 188, 19, 189], [185, 186, 28, 29, 20, 187, 188, 19, 189, 97], [32, 4], [190, 28], [190, 28, 23], [190, 28, 23, 17], [190, 28, 23, 17, 191], [6, 4], [15, 45], [15, 45, 98], [15, 45, 98, 3], [15, 45, 98, 3, 18], [15, 45, 98, 3, 18, 20], [15, 45, 98, 3, 18, 20, 58], [15, 45, 98, 3, 18, 20, 58, 53], [15, 45, 98, 3, 18, 20, 58, 53, 192], [15, 45, 98, 3, 18, 20, 58, 53, 192, 20], [15, 45, 98, 3, 18, 20, 58, 53, 192, 20, 38], [8, 5], [8, 5, 29], [8, 5, 29, 193], [8, 5, 29, 193, 194], [8, 5, 29, 193, 194, 99], [8, 5, 29, 193, 194, 99, 195], [8, 5, 29, 193, 194, 99, 195, 196], [8, 5, 29, 193, 194, 99, 195, 196, 100], [8, 5, 29, 193, 194, 99, 195, 196, 100, 27], [96, 5], [96, 5, 45], [96, 5, 45, 8], [96, 5, 45, 8, 101], [96, 5, 45, 8, 101, 9], [96, 5, 45, 8, 101, 9, 33], [96, 5, 45, 8, 101, 9, 33, 95], [96, 5, 45, 8, 101, 9, 33, 95, 20], [96, 5, 45, 8, 101, 9, 33, 95, 20, 38], [96, 5, 45, 8, 101, 9, 33, 95, 20, 38, 8], [96, 5, 45, 8, 101, 9, 33, 95, 20, 38, 8, 5], [102, 33], [102, 33, 197], [102, 33, 197, 7], [102, 33, 197, 7, 5], [102, 33, 197, 7, 5, 27], [102, 33, 197, 7, 5, 27, 198], [102, 33, 197, 7, 5, 27, 198, 97], [102, 33, 197, 7, 5, 27, 198, 97, 59], [102, 33, 197, 7, 5, 27, 198, 97, 59, 20], [25, 60], [25, 60, 199], [25, 60, 199, 2], [25, 60, 199, 2, 200], [25, 60, 199, 2, 200, 21], [25, 60, 199, 2, 200, 21, 33], [25, 60, 199, 2, 200, 21, 33, 201], [32, 4], [18, 20], [18, 20, 103], [18, 20, 103, 104], [18, 20, 103, 104, 16], [18, 20, 103, 104, 16, 33], [18, 20, 103, 104, 16, 33, 202], [18, 20, 103, 104, 16, 33, 202, 3], [18, 20, 103, 104, 16, 33, 202, 3, 203], [18, 20, 103, 104, 16, 33, 202, 3, 203, 13], [204, 16], [204, 16, 40], [204, 16, 40, 3], [204, 16, 40, 3, 39], [204, 16, 40, 3, 39, 16], [204, 16, 40, 3, 39, 16, 81], [204, 16, 40, 3, 39, 16, 81, 105], [204, 16, 40, 3, 39, 16, 81, 105, 45], [204, 16, 40, 3, 39, 16, 81, 105, 45, 20], [204, 16, 40, 3, 39, 16, 81, 105, 45, 20, 25], [204, 16, 40, 3, 39, 16, 81, 105, 45, 20, 25, 205], [6, 4], [57, 15], [57, 15, 39], [57, 15, 39, 17], [57, 15, 39, 17, 15], [57, 15, 39, 17, 15, 206], [57, 15, 39, 17, 15, 206, 17], [57, 15, 39, 17, 15, 206, 17, 27], [57, 15, 39, 17, 15, 206, 17, 27, 207], [57, 15, 39, 17, 15, 206, 17, 27, 207, 21], [57, 15, 39, 17, 15, 206, 17, 27, 207, 21, 208], [20, 58], [20, 58, 209], [20, 58, 209, 19], [20, 58, 209, 19, 210], [20, 58, 209, 19, 210, 5], [20, 58, 209, 19, 210, 5, 211], [20, 58, 209, 19, 210, 5, 211, 16], [20, 58, 209, 19, 210, 5, 211, 16, 212], [18, 213], [18, 213, 24], [18, 213, 24, 214], [18, 213, 24, 214, 2], [18, 213, 24, 214, 2, 106], [18, 213, 24, 214, 2, 106, 215], [18, 213, 24, 214, 2, 106, 215, 61], [18, 213, 24, 214, 2, 106, 215, 61, 2], [18, 213, 24, 214, 2, 106, 215, 61, 2, 216], [25, 217], [25, 217, 107], [25, 217, 107, 218], [25, 217, 107, 218, 10], [25, 217, 107, 218, 10, 219], [25, 217, 107, 218, 10, 219, 108], [25, 217, 107, 218, 10, 219, 108, 5], [25, 217, 107, 218, 10, 219, 108, 5, 2], [25, 217, 107, 218, 10, 219, 108, 5, 2, 220], [109, 109], [6, 4], [99, 110], [99, 110, 221], [99, 110, 221, 108], [32, 4], [222, 30], [222, 30, 223], [222, 30, 223, 54], [222, 30, 223, 54, 29], [222, 30, 223, 54, 29, 58], [222, 30, 223, 54, 29, 58, 224], [222, 30, 223, 54, 29, 58, 224, 225], [2, 77], [6, 4], [93, 54], [93, 54, 111], [93, 54, 111, 226], [93, 54, 111, 226, 42], [93, 54, 111, 226, 42, 12], [93, 54, 111, 226, 42, 12, 2], [93, 54, 111, 226, 42, 12, 2, 112], [93, 54, 111, 226, 42, 12, 2, 112, 85], [93, 54, 111, 226, 42, 12, 2, 112, 85, 113], [18, 227], [18, 227, 62], [18, 227, 62, 228], [18, 227, 62, 228, 16], [18, 227, 62, 228, 16, 229], [18, 227, 62, 228, 16, 229, 63], [18, 227, 62, 228, 16, 229, 63, 230], [18, 227, 62, 228, 16, 229, 63, 230, 3], [19, 231], [19, 231, 7], [19, 231, 7, 232], [19, 231, 7, 232, 2], [19, 231, 7, 232, 2, 233], [19, 231, 7, 232, 2, 233, 23], [19, 231, 7, 232, 2, 233, 23, 15], [19, 231, 7, 232, 2, 233, 23, 15, 234], [19, 231, 7, 232, 2, 233, 23, 15, 234, 3], [6, 4], [26, 235], [26, 235, 25], [26, 235, 25, 17], [26, 235, 25, 17, 236], [26, 235, 25, 17, 236, 5], [26, 235, 25, 17, 236, 5, 2], [26, 235, 25, 17, 236, 5, 2, 237], [26, 235, 25, 17, 236, 5, 2, 237, 14], [26, 235, 25, 17, 236, 5, 2, 237, 14, 31], [238, 239], [238, 239, 44], [238, 239, 44, 240], [238, 239, 44, 240, 18], [238, 239, 44, 240, 18, 10], [238, 239, 44, 240, 18, 10, 241], [238, 239, 44, 240, 18, 10, 241, 5], [238, 239, 44, 240, 18, 10, 241, 5, 242], [59, 243], [59, 243, 79], [59, 243, 79, 244], [59, 243, 79, 244, 245], [59, 243, 79, 244, 245, 16], [59, 243, 79, 244, 245, 16, 246], [59, 243, 79, 244, 245, 16, 246, 14], [59, 243, 79, 244, 245, 16, 246, 14, 45], [59, 243, 79, 244, 245, 16, 246, 14, 45, 55], [247, 31], [247, 31, 64], [247, 31, 64, 248], [247, 31, 64, 248, 14], [247, 31, 64, 248, 14, 65], [247, 31, 64, 248, 14, 65, 51], [247, 31, 64, 248, 14, 65, 51, 10], [31, 64], [31, 64, 114], [31, 64, 114, 88], [107, 249], [107, 249, 62], [107, 249, 62, 41], [107, 249, 62, 41, 115], [107, 249, 62, 41, 115, 250], [107, 249, 62, 41, 115, 250, 111], [107, 249, 62, 41, 115, 250, 111, 251], [46, 3], [46, 3, 252], [46, 3, 252, 116], [6, 4], [10, 103], [10, 103, 47], [10, 103, 47, 10], [10, 103, 47, 10, 24], [10, 103, 47, 10, 24, 253], [10, 103, 47, 10, 24, 253, 254], [15, 66], [15, 66, 3], [15, 66, 3, 115], [15, 66, 3, 115, 117], [15, 66, 3, 115, 117, 255], [15, 66, 3, 115, 117, 255, 67], [31, 2], [31, 2, 56], [31, 2, 56, 21], [31, 2, 56, 21, 3], [31, 2, 56, 21, 3, 9], [31, 2, 56, 21, 3, 9, 34], [31, 2, 56, 21, 3, 9, 34, 256], [34, 257], [34, 257, 16], [34, 257, 16, 44], [34, 257, 16, 44, 118], [34, 257, 16, 44, 118, 3], [34, 257, 16, 44, 118, 3, 68], [34, 257, 16, 44, 118, 3, 68, 22], [34, 257, 16, 44, 118, 3, 68, 22, 37], [258, 80], [258, 80, 2], [258, 80, 2, 259], [258, 80, 2, 259, 19], [258, 80, 2, 259, 19, 34], [258, 80, 2, 259, 19, 34, 260], [258, 80, 2, 259, 19, 34, 260, 22], [258, 80, 2, 259, 19, 34, 260, 22, 261], [258, 80, 2, 259, 19, 34, 260, 22, 261, 43], [36, 2], [36, 2, 262], [36, 2, 262, 119], [36, 2, 262, 119, 263], [36, 2, 262, 119, 263, 264], [36, 2, 262, 119, 263, 264, 46], [36, 2, 262, 119, 263, 264, 46, 84], [2, 105], [2, 105, 8], [2, 105, 8, 265], [2, 105, 8, 265, 266], [2, 105, 8, 265, 266, 267], [2, 105, 8, 265, 266, 267, 268], [2, 105, 8, 265, 266, 267, 268, 269], [21, 35], [21, 35, 64], [21, 35, 64, 270], [21, 35, 64, 270, 271], [21, 35, 64, 270, 271, 73], [21, 35, 64, 270, 271, 73, 100], [21, 35, 64, 270, 271, 73, 100, 272], [273, 16], [273, 16, 34], [273, 16, 34, 274], [273, 16, 34, 274, 9], [273, 16, 34, 274, 9, 2], [273, 16, 34, 274, 9, 2, 118], [2, 92], [2, 92, 17], [2, 92, 17, 2], [2, 92, 17, 2, 56], [2, 92, 17, 2, 56, 69], [2, 92, 17, 2, 56, 69, 8], [2, 92, 17, 2, 56, 69, 8, 7], [34, 275], [34, 275, 5], [34, 275, 5, 43], [34, 275, 5, 43, 17], [34, 275, 5, 43, 17, 114], [34, 275, 5, 43, 17, 114, 39], [34, 275, 5, 43, 17, 114, 39, 104], [34, 275, 5, 43, 17, 114, 39, 104, 276], [3, 24], [3, 24, 277], [3, 24, 277, 278], [3, 24, 277, 278, 279], [280, 63], [280, 63, 35], [280, 63, 35, 281], [280, 63, 35, 281, 3], [280, 63, 35, 281, 3, 7], [280, 63, 35, 281, 3, 7, 3], [280, 63, 35, 281, 3, 7, 3, 282], [2, 283], [2, 283, 61], [2, 283, 61, 2], [2, 283, 61, 2, 119], [2, 283, 61, 2, 119, 110], [2, 283, 61, 2, 119, 110, 67], [2, 283, 61, 2, 119, 110, 67, 9], [2, 283, 61, 2, 119, 110, 67, 9, 3], [2, 283, 61, 2, 119, 110, 67, 9, 3, 70], [2, 283, 61, 2, 119, 110, 67, 9, 3, 70, 284], [120, 3], [120, 3, 285], [120, 3, 285, 43], [120, 3, 285, 43, 22], [120, 3, 285, 43, 22, 286], [6, 4], [67, 9], [67, 9, 11], [67, 9, 11, 287], [67, 9, 11, 287, 288], [67, 9, 11, 287, 288, 14], [67, 9, 11, 287, 288, 14, 121], [67, 9, 11, 287, 288, 14, 121, 289], [67, 9, 11, 287, 288, 14, 121, 289, 9], [67, 9, 11, 287, 288, 14, 121, 289, 9, 11], [122, 290], [122, 290, 11], [122, 290, 11, 5], [122, 290, 11, 5, 74], [122, 290, 11, 5, 74, 7], [122, 290, 11, 5, 74, 7, 90], [122, 290, 11, 5, 74, 7, 90, 291], [122, 290, 11, 5, 74, 7, 90, 291, 292], [293, 19], [293, 19, 294], [293, 19, 294, 69], [293, 19, 294, 69, 295], [293, 19, 294, 69, 295, 9], [293, 19, 294, 69, 295, 9, 296], [293, 19, 294, 69, 295, 9, 296, 5], [297, 298], [297, 298, 299], [297, 298, 299, 123], [297, 298, 299, 123, 72], [297, 298, 299, 123, 72, 86], [297, 298, 299, 123, 72, 86, 300], [301, 36], [301, 36, 2], [301, 36, 2, 302], [301, 36, 2, 302, 7], [301, 36, 2, 302, 7, 303], [301, 36, 2, 302, 7, 303, 35], [304, 305], [304, 305, 123], [304, 305, 123, 5], [304, 305, 123, 5, 306], [304, 305, 123, 5, 306, 124], [304, 305, 123, 5, 306, 124, 7], [304, 305, 123, 5, 306, 124, 7, 307], [2, 55], [2, 55, 57], [2, 55, 57, 2], [2, 55, 57, 2, 308], [2, 55, 57, 2, 308, 309], [2, 55, 57, 2, 308, 309, 11], [2, 55, 57, 2, 308, 309, 11, 17], [2, 55, 57, 2, 308, 309, 11, 17, 124], [2, 55, 57, 2, 308, 309, 11, 17, 124, 14], [2, 55, 57, 2, 308, 309, 11, 17, 124, 14, 46], [2, 55, 57, 2, 308, 309, 11, 17, 124, 14, 46, 7], [310, 12], [310, 12, 2], [310, 12, 2, 311], [310, 12, 2, 311, 14], [310, 12, 2, 311, 14, 312], [310, 12, 2, 311, 14, 312, 11], [313, 3], [313, 3, 39], [314, 116], [314, 116, 315], [314, 116, 315, 316], [317, 27], [317, 27, 125], [317, 27, 125, 21], [317, 27, 125, 21, 318], [317, 27, 125, 21, 318, 15], [317, 27, 125, 21, 318, 15, 65], [317, 27, 125, 21, 318, 15, 65, 66], [317, 27, 125, 21, 318, 15, 65, 66, 3], [13, 319], [13, 319, 126], [13, 319, 126, 8], [13, 319, 126, 8, 68], [13, 319, 126, 8, 68, 27], [13, 319, 126, 8, 68, 27, 3], [13, 319, 126, 8, 68, 27, 3, 31], [13, 319, 126, 8, 68, 27, 3, 31, 320], [13, 319, 126, 8, 68, 27, 3, 31, 320, 8], [28, 321], [28, 321, 8], [28, 321, 8, 322], [28, 321, 8, 322, 62], [28, 321, 8, 322, 62, 323], [28, 321, 8, 322, 62, 323, 15], [28, 321, 8, 322, 62, 323, 15, 46], [28, 321, 8, 322, 62, 323, 15, 46, 324], [5, 325], [5, 325, 127], [5, 325, 127, 13], [5, 325, 127, 13, 326], [5, 325, 127, 13, 326, 35], [6, 4], [37, 327], [37, 327, 49], [37, 327, 49, 8], [37, 327, 49, 8, 47], [37, 327, 49, 8, 47, 122], [37, 327, 49, 8, 47, 122, 3], [37, 327, 49, 8, 47, 122, 3, 39], [37, 327, 49, 8, 47, 122, 3, 39, 17], [37, 327, 49, 8, 47, 122, 3, 39, 17, 87], [37, 327, 49, 8, 47, 122, 3, 39, 17, 87, 5], [328, 329], [328, 329, 26], [328, 329, 26, 330], [328, 329, 26, 330, 19], [328, 329, 26, 330, 19, 13], [328, 329, 26, 330, 19, 13, 126], [328, 329, 26, 330, 19, 13, 126, 28], [328, 329, 26, 330, 19, 13, 126, 28, 89], [328, 329, 26, 330, 19, 13, 126, 28, 89, 127], [328, 329, 26, 330, 19, 13, 126, 28, 89, 127, 102], [3, 331], [332, 101], [332, 101, 13], [332, 101, 13, 333], [332, 101, 13, 333, 120], [332, 101, 13, 333, 120, 12], [332, 101, 13, 333, 120, 12, 2], [332, 101, 13, 333, 120, 12, 2, 334], [332, 101, 13, 333, 120, 12, 2, 334, 128], [335, 36], [335, 36, 2], [335, 36, 2, 48], [335, 36, 2, 48, 129], [335, 36, 2, 48, 129, 125], [335, 36, 2, 48, 129, 125, 8], [29, 336], [29, 336, 70], [29, 336, 70, 13], [29, 336, 70, 13, 337], [29, 336, 70, 13, 337, 8], [29, 336, 70, 13, 337, 8, 38], [29, 336, 70, 13, 337, 8, 38, 338], [339, 2], [339, 2, 340], [339, 2, 340, 61], [339, 2, 340, 61, 2], [339, 2, 340, 61, 2, 130], [339, 2, 340, 61, 2, 130, 341], [339, 2, 340, 61, 2, 130, 341, 7], [339, 2, 340, 61, 2, 130, 341, 7, 342], [343, 344], [343, 344, 2], [343, 344, 2, 345], [343, 344, 2, 345, 346], [343, 344, 2, 345, 346, 347], [70, 348], [70, 348, 19], [70, 348, 19, 2], [70, 348, 19, 2, 112], [70, 348, 19, 2, 112, 63], [70, 348, 19, 2, 112, 63, 2], [70, 348, 19, 2, 112, 63, 2, 106], [70, 348, 19, 2, 112, 63, 2, 106, 349], [38, 350], [38, 350, 7], [38, 350, 7, 49], [38, 350, 7, 49, 351], [38, 350, 7, 49, 351, 352], [38, 350, 7, 49, 351, 352, 353], [38, 350, 7, 49, 351, 352, 353, 354], [7, 355], [7, 355, 356], [7, 355, 356, 38], [7, 355, 356, 38, 357], [98, 2], [98, 2, 358], [98, 2, 358, 7], [98, 2, 358, 7, 359], [98, 2, 358, 7, 359, 360], [21, 2], [21, 2, 361], [21, 2, 361, 130], [21, 2, 361, 130, 2], [21, 2, 361, 130, 2, 48], [21, 2, 361, 130, 2, 48, 362], [6, 4], [37, 47], [37, 47, 18], [37, 47, 18, 131], [37, 47, 18, 131, 363], [37, 47, 18, 131, 363, 2], [37, 47, 18, 131, 363, 2, 48], [47, 15], [47, 15, 65], [47, 15, 65, 66], [47, 15, 65, 66, 3], [47, 15, 65, 66, 3, 19], [47, 15, 65, 66, 3, 19, 13], [47, 15, 65, 66, 3, 19, 13, 364], [47, 15, 65, 66, 3, 19, 13, 364, 21], [47, 15, 65, 66, 3, 19, 13, 364, 21, 132], [59, 121], [59, 121, 365], [59, 121, 365, 366], [59, 121, 365, 366, 2], [59, 121, 365, 366, 2, 367], [59, 121, 365, 366, 2, 367, 28], [59, 121, 365, 366, 2, 367, 28, 60], [59, 121, 365, 366, 2, 367, 28, 60, 129], [9, 368], [9, 368, 3], [9, 368, 3, 15], [9, 368, 3, 15, 68], [9, 368, 3, 15, 68, 69], [9, 368, 3, 15, 68, 69, 2], [9, 368, 3, 15, 68, 69, 2, 48], [9, 368, 3, 15, 68, 69, 2, 48, 132], [22, 37], [22, 37, 22], [22, 37, 22, 23], [22, 37, 22, 23, 8], [22, 37, 22, 23, 8, 369], [22, 37, 22, 23, 8, 369, 370], [5, 2], [5, 2, 371], [5, 2, 371, 128], [5, 2, 371, 128, 2], [5, 2, 371, 128, 2, 372], [5, 2, 371, 128, 2, 372, 373], [29, 374], [29, 374, 33], [29, 374, 33, 375], [29, 374, 33, 375, 60], [29, 374, 33, 375, 60, 113], [29, 374, 33, 375, 60, 113, 117], [29, 374, 33, 375, 60, 113, 117, 376], [22, 3], [22, 3, 377], [22, 3, 377, 26], [22, 3, 377, 26, 378], [22, 3, 377, 26, 378, 9], [22, 3, 377, 26, 378, 9, 29], [14, 24], [14, 24, 17], [14, 24, 17, 379], [14, 24, 17, 379, 22], [14, 24, 17, 379, 22, 3], [6, 4], [34, 380], [34, 380, 131], [34, 380, 131, 18], [2, 381], [2, 381, 382], [2, 381, 382, 383], [2, 381, 382, 383, 2], [2, 381, 382, 383, 2, 384], [2, 381, 382, 383, 2, 384, 385], [2, 386]]\n"
          ],
          "name": "stdout"
        }
      ]
    },
    {
      "cell_type": "code",
      "metadata": {
        "colab": {
          "base_uri": "https://localhost:8080/"
        },
        "id": "x2y_LxgKByAR",
        "outputId": "d11761fb-85d6-4f85-c5b3-c8f15caba71f"
      },
      "source": [
        "max_sequence_length = max([len(x) for x in sequences])\r\n",
        "print('Maximum length of sequences in the corpus:',max_sequence_length)"
      ],
      "execution_count": 23,
      "outputs": [
        {
          "output_type": "stream",
          "text": [
            "Maximum length of sequences in the corpus: 12\n"
          ],
          "name": "stdout"
        }
      ]
    },
    {
      "cell_type": "markdown",
      "metadata": {
        "id": "b3aNBkGvDYW0"
      },
      "source": [
        "## Padding the sequences generated to maintain the uniformity in the dimensions."
      ]
    },
    {
      "cell_type": "code",
      "metadata": {
        "id": "EmgdWC8lC4DJ"
      },
      "source": [
        "from tensorflow.keras.preprocessing.sequence import pad_sequences\r\n",
        "\r\n",
        "padded_sequences = pad_sequences(sequences,padding='pre')"
      ],
      "execution_count": 26,
      "outputs": []
    },
    {
      "cell_type": "code",
      "metadata": {
        "colab": {
          "base_uri": "https://localhost:8080/"
        },
        "id": "xgDFhOEkEGQF",
        "outputId": "e9938efe-d765-4fcb-ecf3-e2185e1b5971"
      },
      "source": [
        "print(padded_sequences[:5])"
      ],
      "execution_count": 28,
      "outputs": [
        {
          "output_type": "stream",
          "text": [
            "[[  0   0   0   0   0   0   0   0   0   0   6   4]\n",
            " [  0   0   0   0   0   0   0   0   0   0 133  10]\n",
            " [  0   0   0   0   0   0   0   0   0 133  10  71]\n",
            " [  0   0   0   0   0   0   0   0 133  10  71  72]\n",
            " [  0   0   0   0   0   0   0 133  10  71  72 134]]\n"
          ],
          "name": "stdout"
        }
      ]
    },
    {
      "cell_type": "code",
      "metadata": {
        "colab": {
          "base_uri": "https://localhost:8080/"
        },
        "id": "jFdndg2hEH1l",
        "outputId": "86c84edd-eac5-4b95-bbed-239bea43e6b1"
      },
      "source": [
        "padded_sequences.shape"
      ],
      "execution_count": 29,
      "outputs": [
        {
          "output_type": "execute_result",
          "data": {
            "text/plain": [
              "(748, 12)"
            ]
          },
          "metadata": {
            "tags": []
          },
          "execution_count": 29
        }
      ]
    },
    {
      "cell_type": "markdown",
      "metadata": {
        "id": "24kb6HY6EWI2"
      },
      "source": [
        "We take the last column in each sequence as the label and use the rest of the columns as inputs to predict the label."
      ]
    },
    {
      "cell_type": "markdown",
      "metadata": {
        "id": "DnSQC4qVHp2V"
      },
      "source": [
        "## Separating the X and the y from sequences for training"
      ]
    },
    {
      "cell_type": "code",
      "metadata": {
        "colab": {
          "base_uri": "https://localhost:8080/"
        },
        "id": "OdOPCHBkHHWx",
        "outputId": "746e2868-15de-40c3-e4a4-dbe5f636c112"
      },
      "source": [
        "y = padded_sequences[:,-1] #Assigns the last value in each sequence to the y\r\n",
        "X = padded_sequences[:,:-1] #Assigns all but the last value from each sequence to X\r\n",
        "i = 2\r\n",
        "print(padded_sequences[i],X[i],y[i])"
      ],
      "execution_count": 30,
      "outputs": [
        {
          "output_type": "stream",
          "text": [
            "[  0   0   0   0   0   0   0   0   0 133  10  71] [  0   0   0   0   0   0   0   0   0 133  10] 71\n"
          ],
          "name": "stdout"
        }
      ]
    },
    {
      "cell_type": "code",
      "metadata": {
        "id": "plWHfb-FIci6"
      },
      "source": [
        ""
      ],
      "execution_count": null,
      "outputs": []
    }
  ]
}