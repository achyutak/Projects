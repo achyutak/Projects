{
  "nbformat": 4,
  "nbformat_minor": 0,
  "metadata": {
    "colab": {
      "name": "Text Generation Project",
      "provenance": [],
      "collapsed_sections": [],
      "authorship_tag": "ABX9TyO4danMPXQRuviypfc7oB/e",
      "include_colab_link": true
    },
    "kernelspec": {
      "name": "python3",
      "display_name": "Python 3"
    },
    "accelerator": "GPU"
  },
  "cells": [
    {
      "cell_type": "markdown",
      "metadata": {
        "id": "view-in-github",
        "colab_type": "text"
      },
      "source": [
        "<a href=\"https://colab.research.google.com/github/achyutak/Projects/blob/main/Text_Generation_Project.ipynb\" target=\"_parent\"><img src=\"https://colab.research.google.com/assets/colab-badge.svg\" alt=\"Open In Colab\"/></a>"
      ]
    },
    {
      "cell_type": "markdown",
      "metadata": {
        "id": "CENoT4h9toaA"
      },
      "source": [
        "## Importing dataset"
      ]
    },
    {
      "cell_type": "code",
      "metadata": {
        "id": "PnVAJQfOr1x2"
      },
      "source": [
        "from keras.utils.data_utils import get_file\r\n",
        "path = get_file('shakespeare.txt',\r\n",
        "                origin = 'https://storage.googleapis.com/download.tensorflow.org/data/shakespeare.txt')"
      ],
      "execution_count": 1,
      "outputs": []
    },
    {
      "cell_type": "code",
      "metadata": {
        "colab": {
          "base_uri": "https://localhost:8080/"
        },
        "id": "TroNwASysXqY",
        "outputId": "13cebc18-d7f2-4874-ecdd-ffea9bad9700"
      },
      "source": [
        "with open(path, encoding='utf-8') as f:\r\n",
        "  text = f.read().lower()\r\n",
        "print('Length of Text: {} characters'.format(len(text)))"
      ],
      "execution_count": 2,
      "outputs": [
        {
          "output_type": "stream",
          "text": [
            "Length of Text: 1115394 characters\n"
          ],
          "name": "stdout"
        }
      ]
    },
    {
      "cell_type": "markdown",
      "metadata": {
        "id": "btbVFrCl9K1U"
      },
      "source": [
        "## Creating a list of sentences from data taken"
      ]
    },
    {
      "cell_type": "code",
      "metadata": {
        "colab": {
          "base_uri": "https://localhost:8080/"
        },
        "id": "r3GyF6YetMkH",
        "outputId": "e1a604cf-3e26-4e36-d827-e39d8c00b133"
      },
      "source": [
        "print(text[:500])"
      ],
      "execution_count": 3,
      "outputs": [
        {
          "output_type": "stream",
          "text": [
            "first citizen:\n",
            "before we proceed any further, hear me speak.\n",
            "\n",
            "all:\n",
            "speak, speak.\n",
            "\n",
            "first citizen:\n",
            "you are all resolved rather to die than to famish?\n",
            "\n",
            "all:\n",
            "resolved. resolved.\n",
            "\n",
            "first citizen:\n",
            "first, you know caius marcius is chief enemy to the people.\n",
            "\n",
            "all:\n",
            "we know't, we know't.\n",
            "\n",
            "first citizen:\n",
            "let us kill him, and we'll have corn at our own price.\n",
            "is't a verdict?\n",
            "\n",
            "all:\n",
            "no more talking on't; let it be done: away, away!\n",
            "\n",
            "second citizen:\n",
            "one word, good citizens.\n",
            "\n",
            "first citizen:\n",
            "we are accounted poor\n"
          ],
          "name": "stdout"
        }
      ]
    },
    {
      "cell_type": "code",
      "metadata": {
        "id": "GNgkCnlMtWdq"
      },
      "source": [
        "data = text[:5000]\r\n",
        "# Taking only the first 5000 characters for building the model"
      ],
      "execution_count": 4,
      "outputs": []
    },
    {
      "cell_type": "code",
      "metadata": {
        "id": "4E9GZ_tmtgYS"
      },
      "source": [
        "# print(data)\r\n",
        "# # The data we are taking to build the model."
      ],
      "execution_count": 5,
      "outputs": []
    },
    {
      "cell_type": "code",
      "metadata": {
        "id": "kgpXmIqItje9"
      },
      "source": [
        "# # Understanding the data\r\n",
        "# data"
      ],
      "execution_count": 6,
      "outputs": []
    },
    {
      "cell_type": "code",
      "metadata": {
        "id": "4dnS8m608JC9"
      },
      "source": [
        "#We see that all the lines are separated by a '\\n'.\r\n",
        "# Now we split the data into lines and create a corpus.\r\n",
        "corpus = data.split('\\n')"
      ],
      "execution_count": 7,
      "outputs": []
    },
    {
      "cell_type": "code",
      "metadata": {
        "colab": {
          "base_uri": "https://localhost:8080/"
        },
        "id": "b3yBalm48xpK",
        "outputId": "a59e345f-3fcd-4a2b-9078-e68839187f97"
      },
      "source": [
        "corpus[:10]"
      ],
      "execution_count": 8,
      "outputs": [
        {
          "output_type": "execute_result",
          "data": {
            "text/plain": [
              "['first citizen:',\n",
              " 'before we proceed any further, hear me speak.',\n",
              " '',\n",
              " 'all:',\n",
              " 'speak, speak.',\n",
              " '',\n",
              " 'first citizen:',\n",
              " 'you are all resolved rather to die than to famish?',\n",
              " '',\n",
              " 'all:']"
            ]
          },
          "metadata": {
            "tags": []
          },
          "execution_count": 8
        }
      ]
    },
    {
      "cell_type": "markdown",
      "metadata": {
        "id": "z27OoIJkDwCK"
      },
      "source": [
        "The text still has a lot of punctuation marks and blank spaces. So, we use Tokenizer from keras to remove all the unnecessary pronunciation marks and create a dictionary of most frequent words in the datset.\r\n",
        "\r\n",
        "[Tokenizer:](https://keras.io/api/preprocessing/text/#tokenizer-class)\r\n",
        "This class allows to vectorize a text corpus, by turning each text into either a sequence of integers (each integer being the index of a token in a dictionary) or into a vector where the coefficient for each token could be binary, based on word count, based on tf-idf..."
      ]
    },
    {
      "cell_type": "markdown",
      "metadata": {
        "id": "vIrtgcFZFGz8"
      },
      "source": [
        "## Using Tokenizer class from tf.keras.preprocessing.text.Tokenizer"
      ]
    },
    {
      "cell_type": "code",
      "metadata": {
        "id": "CyzqlsJgDuOi"
      },
      "source": [
        "from tensorflow.keras.preprocessing.text import Tokenizer\r\n",
        "tk = Tokenizer(num_words=500, oov_token='<OOV>') #Only the most common num_words - 1 (499 here) words are kept. \r\n",
        "# Any words that are not available in the vocabulary during sequence to text calls are given as <OOV>\r\n",
        "tk.fit_on_texts(corpus)"
      ],
      "execution_count": 9,
      "outputs": []
    },
    {
      "cell_type": "code",
      "metadata": {
        "colab": {
          "base_uri": "https://localhost:8080/"
        },
        "id": "CROSDZsIunc0",
        "outputId": "f44916ad-9344-4858-9fc5-bf61ec37b880"
      },
      "source": [
        "# Total number of words in the corpus:\r\n",
        "print('Total Number of words in the corpus:',len(tk.word_index))"
      ],
      "execution_count": 10,
      "outputs": [
        {
          "output_type": "stream",
          "text": [
            "Total Number of words in the corpus: 386\n"
          ],
          "name": "stdout"
        }
      ]
    },
    {
      "cell_type": "code",
      "metadata": {
        "colab": {
          "base_uri": "https://localhost:8080/"
        },
        "id": "rbd1w5FZz7Vc",
        "outputId": "a1a549db-5212-499e-b3ac-e6006459808b"
      },
      "source": [
        "total_words = len(tk.word_index) + 1\r\n",
        "print('Number of words after considering the padding:',total_words)"
      ],
      "execution_count": 11,
      "outputs": [
        {
          "output_type": "stream",
          "text": [
            "Number of words after considering the padding: 387\n"
          ],
          "name": "stdout"
        }
      ]
    },
    {
      "cell_type": "code",
      "metadata": {
        "colab": {
          "base_uri": "https://localhost:8080/"
        },
        "id": "upI4sdyDABTH",
        "outputId": "4223256b-9c96-452a-8be8-a119b4249d5b"
      },
      "source": [
        "for line in corpus:\r\n",
        "  tokens_list = tk.texts_to_sequences([line])[0]\r\n",
        "  print(line)\r\n",
        "  print(tokens_list)\r\n",
        "  break"
      ],
      "execution_count": 12,
      "outputs": [
        {
          "output_type": "stream",
          "text": [
            "first citizen:\n",
            "[6, 4]\n"
          ],
          "name": "stdout"
        }
      ]
    },
    {
      "cell_type": "code",
      "metadata": {
        "id": "ov1JUXNeBAx2"
      },
      "source": [
        "sequences = []\r\n",
        "for line in corpus:\r\n",
        "  tokens_list = tk.texts_to_sequences([line])[0]\r\n",
        "  for i in range(1,len(tokens_list)):\r\n",
        "    sequences.append(tokens_list[:i+1]) \r\n",
        "# The second for loop ranges from 1 to the length of the tokens list and appends the list of sequences of variable length (2 to max_sequence_length) generated from the tokens_list \r\n",
        "# print(sequences)"
      ],
      "execution_count": 13,
      "outputs": []
    },
    {
      "cell_type": "code",
      "metadata": {
        "colab": {
          "base_uri": "https://localhost:8080/"
        },
        "id": "x2y_LxgKByAR",
        "outputId": "a6446949-c6f7-44cc-df72-87920e0d75ff"
      },
      "source": [
        "max_sequence_length = max([len(x) for x in sequences])\r\n",
        "print('Maximum length of sequences in the corpus:',max_sequence_length)"
      ],
      "execution_count": 14,
      "outputs": [
        {
          "output_type": "stream",
          "text": [
            "Maximum length of sequences in the corpus: 12\n"
          ],
          "name": "stdout"
        }
      ]
    },
    {
      "cell_type": "markdown",
      "metadata": {
        "id": "b3aNBkGvDYW0"
      },
      "source": [
        "## Padding the sequences generated to maintain the uniformity in the dimensions."
      ]
    },
    {
      "cell_type": "code",
      "metadata": {
        "id": "EmgdWC8lC4DJ"
      },
      "source": [
        "from tensorflow.keras.preprocessing.sequence import pad_sequences\r\n",
        "\r\n",
        "padded_sequences = pad_sequences(sequences,padding='pre')"
      ],
      "execution_count": 15,
      "outputs": []
    },
    {
      "cell_type": "code",
      "metadata": {
        "colab": {
          "base_uri": "https://localhost:8080/"
        },
        "id": "xgDFhOEkEGQF",
        "outputId": "64503b44-4125-4a0d-e5be-73e51ef061cf"
      },
      "source": [
        "print(padded_sequences[:5])"
      ],
      "execution_count": 16,
      "outputs": [
        {
          "output_type": "stream",
          "text": [
            "[[  0   0   0   0   0   0   0   0   0   0   6   4]\n",
            " [  0   0   0   0   0   0   0   0   0   0 133  10]\n",
            " [  0   0   0   0   0   0   0   0   0 133  10  71]\n",
            " [  0   0   0   0   0   0   0   0 133  10  71  72]\n",
            " [  0   0   0   0   0   0   0 133  10  71  72 134]]\n"
          ],
          "name": "stdout"
        }
      ]
    },
    {
      "cell_type": "code",
      "metadata": {
        "colab": {
          "base_uri": "https://localhost:8080/"
        },
        "id": "jFdndg2hEH1l",
        "outputId": "73db4662-c8ab-411d-ecb6-c2d1bd554efb"
      },
      "source": [
        "padded_sequences.shape"
      ],
      "execution_count": 17,
      "outputs": [
        {
          "output_type": "execute_result",
          "data": {
            "text/plain": [
              "(748, 12)"
            ]
          },
          "metadata": {
            "tags": []
          },
          "execution_count": 17
        }
      ]
    },
    {
      "cell_type": "markdown",
      "metadata": {
        "id": "24kb6HY6EWI2"
      },
      "source": [
        "We take the last column in each sequence as the label and use the rest of the columns as inputs to predict the label."
      ]
    },
    {
      "cell_type": "markdown",
      "metadata": {
        "id": "DnSQC4qVHp2V"
      },
      "source": [
        "## Separating the X and the y from sequences for training"
      ]
    },
    {
      "cell_type": "code",
      "metadata": {
        "colab": {
          "base_uri": "https://localhost:8080/"
        },
        "id": "OdOPCHBkHHWx",
        "outputId": "a7c6a328-133a-42f8-d082-cfb3046de414"
      },
      "source": [
        "y = padded_sequences[:,-1] #Assigns the last value in each sequence to the y\r\n",
        "X = padded_sequences[:,:-1] #Assigns all but the last value from each sequence to X\r\n",
        "i = 2\r\n",
        "print(padded_sequences[i],X[i],y[i])"
      ],
      "execution_count": 18,
      "outputs": [
        {
          "output_type": "stream",
          "text": [
            "[  0   0   0   0   0   0   0   0   0 133  10  71] [  0   0   0   0   0   0   0   0   0 133  10] 71\n"
          ],
          "name": "stdout"
        }
      ]
    },
    {
      "cell_type": "code",
      "metadata": {
        "colab": {
          "base_uri": "https://localhost:8080/"
        },
        "id": "plWHfb-FIci6",
        "outputId": "d267ec88-6e3d-4e15-9e9b-09843e09666d"
      },
      "source": [
        "print(type(padded_sequences),type(X),type(y))"
      ],
      "execution_count": 19,
      "outputs": [
        {
          "output_type": "stream",
          "text": [
            "<class 'numpy.ndarray'> <class 'numpy.ndarray'> <class 'numpy.ndarray'>\n"
          ],
          "name": "stdout"
        }
      ]
    },
    {
      "cell_type": "code",
      "metadata": {
        "colab": {
          "base_uri": "https://localhost:8080/"
        },
        "id": "TWLFDBI0J48k",
        "outputId": "04d6182a-f1f9-4a38-e1b8-ceb9103ecc1d"
      },
      "source": [
        "max(y) #There are 386 tokens in the dictionary that were generated from the corpus"
      ],
      "execution_count": 20,
      "outputs": [
        {
          "output_type": "execute_result",
          "data": {
            "text/plain": [
              "386"
            ]
          },
          "metadata": {
            "tags": []
          },
          "execution_count": 20
        }
      ]
    },
    {
      "cell_type": "markdown",
      "metadata": {
        "id": "mE1tlLtyJ-Hp"
      },
      "source": [
        "Here, we encode the labels (Just 'y') using one-hot encoding for easier training of ML Model."
      ]
    },
    {
      "cell_type": "markdown",
      "metadata": {
        "id": "qcflThS9KsuH"
      },
      "source": [
        "## Using to_categorical from keras to one-hot-encode the labels."
      ]
    },
    {
      "cell_type": "code",
      "metadata": {
        "id": "RPZ3ymWIK0OQ"
      },
      "source": [
        "from tensorflow.keras.utils import to_categorical"
      ],
      "execution_count": 21,
      "outputs": []
    },
    {
      "cell_type": "code",
      "metadata": {
        "id": "YjrVg8nDLCnu"
      },
      "source": [
        "Y = to_categorical(y)"
      ],
      "execution_count": 22,
      "outputs": []
    },
    {
      "cell_type": "code",
      "metadata": {
        "colab": {
          "base_uri": "https://localhost:8080/"
        },
        "id": "5sxBN08WLF1E",
        "outputId": "8d3671db-26dc-48ed-fe8e-007e69626367"
      },
      "source": [
        "print('After one hot encoding, the final shapes of the inputs and labels are:\\nX(inputs)\\t:\\t{}\\nY(labels)\\t:\\t{}'.format(X.shape,Y.shape))"
      ],
      "execution_count": 23,
      "outputs": [
        {
          "output_type": "stream",
          "text": [
            "After one hot encoding, the final shapes of the inputs and labels are:\n",
            "X(inputs)\t:\t(748, 11)\n",
            "Y(labels)\t:\t(748, 387)\n"
          ],
          "name": "stdout"
        }
      ]
    },
    {
      "cell_type": "markdown",
      "metadata": {
        "id": "IXW0ubKCLled"
      },
      "source": [
        "## Building the model"
      ]
    },
    {
      "cell_type": "code",
      "metadata": {
        "id": "7lS7ths2MG67"
      },
      "source": [
        "from tensorflow.keras.models import Sequential\r\n",
        "from tensorflow.keras.layers import LSTM, Dense, Bidirectional, Embedding, Conv1D, MaxPooling1D, GlobalMaxPooling1D, Dropout"
      ],
      "execution_count": 24,
      "outputs": []
    },
    {
      "cell_type": "code",
      "metadata": {
        "colab": {
          "base_uri": "https://localhost:8080/"
        },
        "id": "CY8Dyc8oOSAU",
        "outputId": "f180e992-b0a6-4bc6-eed9-88e2f7ea63ab"
      },
      "source": [
        "model = Sequential()\r\n",
        "model.add(Embedding(total_words,16,input_length=X.shape[1],mask_zero=True)) \r\n",
        "#Since we have already pre-padded the sequences with 0, mask_zero must be kept True or else, the Embedding layer will consider the 0 as input.\r\n",
        "model.add(LSTM(64))\r\n",
        "model.add(Dense(128,activation='relu'))\r\n",
        "model.add(Dropout(0.4))\r\n",
        "model.add(Dense(256,activation='relu'))\r\n",
        "model.add(Dropout(0.3))\r\n",
        "model.add(Dense(Y.shape[1],activation='softmax'))\r\n",
        "model.summary()"
      ],
      "execution_count": 25,
      "outputs": [
        {
          "output_type": "stream",
          "text": [
            "Model: \"sequential\"\n",
            "_________________________________________________________________\n",
            "Layer (type)                 Output Shape              Param #   \n",
            "=================================================================\n",
            "embedding (Embedding)        (None, 11, 16)            6192      \n",
            "_________________________________________________________________\n",
            "lstm (LSTM)                  (None, 64)                20736     \n",
            "_________________________________________________________________\n",
            "dense (Dense)                (None, 128)               8320      \n",
            "_________________________________________________________________\n",
            "dropout (Dropout)            (None, 128)               0         \n",
            "_________________________________________________________________\n",
            "dense_1 (Dense)              (None, 256)               33024     \n",
            "_________________________________________________________________\n",
            "dropout_1 (Dropout)          (None, 256)               0         \n",
            "_________________________________________________________________\n",
            "dense_2 (Dense)              (None, 387)               99459     \n",
            "=================================================================\n",
            "Total params: 167,731\n",
            "Trainable params: 167,731\n",
            "Non-trainable params: 0\n",
            "_________________________________________________________________\n"
          ],
          "name": "stdout"
        }
      ]
    },
    {
      "cell_type": "code",
      "metadata": {
        "colab": {
          "base_uri": "https://localhost:8080/"
        },
        "id": "KlAjs8bnSJjA",
        "outputId": "cd9b4d0f-be1f-4ffd-c48b-de1bdb957ee7"
      },
      "source": [
        "model.compile(loss='categorical_crossentropy',optimizer='adam',metrics=['accuracy'])\r\n",
        "epochs = 500\r\n",
        "batch_size = 256\r\n",
        "history = model.fit(X,Y,epochs=epochs,batch_size = batch_size,validation_split=0.1)"
      ],
      "execution_count": 26,
      "outputs": [
        {
          "output_type": "stream",
          "text": [
            "Epoch 1/500\n",
            "3/3 [==============================] - 5s 657ms/step - loss: 5.9580 - accuracy: 0.0106 - val_loss: 5.9560 - val_accuracy: 0.0800\n",
            "Epoch 2/500\n",
            "3/3 [==============================] - 0s 45ms/step - loss: 5.9533 - accuracy: 0.0445 - val_loss: 5.9527 - val_accuracy: 0.0800\n",
            "Epoch 3/500\n",
            "3/3 [==============================] - 0s 47ms/step - loss: 5.9471 - accuracy: 0.0431 - val_loss: 5.9483 - val_accuracy: 0.0800\n",
            "Epoch 4/500\n",
            "3/3 [==============================] - 0s 47ms/step - loss: 5.9376 - accuracy: 0.0470 - val_loss: 5.9417 - val_accuracy: 0.0800\n",
            "Epoch 5/500\n",
            "3/3 [==============================] - 0s 49ms/step - loss: 5.9223 - accuracy: 0.0443 - val_loss: 5.9323 - val_accuracy: 0.0800\n",
            "Epoch 6/500\n",
            "3/3 [==============================] - 0s 51ms/step - loss: 5.8985 - accuracy: 0.0480 - val_loss: 5.9189 - val_accuracy: 0.0800\n",
            "Epoch 7/500\n",
            "3/3 [==============================] - 0s 48ms/step - loss: 5.8611 - accuracy: 0.0514 - val_loss: 5.9008 - val_accuracy: 0.0800\n",
            "Epoch 8/500\n",
            "3/3 [==============================] - 0s 45ms/step - loss: 5.7955 - accuracy: 0.0504 - val_loss: 5.8812 - val_accuracy: 0.0800\n",
            "Epoch 9/500\n",
            "3/3 [==============================] - 0s 46ms/step - loss: 5.6824 - accuracy: 0.0521 - val_loss: 5.8771 - val_accuracy: 0.0800\n",
            "Epoch 10/500\n",
            "3/3 [==============================] - 0s 50ms/step - loss: 5.5753 - accuracy: 0.0460 - val_loss: 5.9702 - val_accuracy: 0.0800\n",
            "Epoch 11/500\n",
            "3/3 [==============================] - 0s 48ms/step - loss: 5.5211 - accuracy: 0.0524 - val_loss: 6.0757 - val_accuracy: 0.0800\n",
            "Epoch 12/500\n",
            "3/3 [==============================] - 0s 55ms/step - loss: 5.4638 - accuracy: 0.0489 - val_loss: 6.0778 - val_accuracy: 0.0800\n",
            "Epoch 13/500\n",
            "3/3 [==============================] - 0s 48ms/step - loss: 5.4175 - accuracy: 0.0396 - val_loss: 6.0731 - val_accuracy: 0.0800\n",
            "Epoch 14/500\n",
            "3/3 [==============================] - 0s 44ms/step - loss: 5.4477 - accuracy: 0.0448 - val_loss: 6.0926 - val_accuracy: 0.0800\n",
            "Epoch 15/500\n",
            "3/3 [==============================] - 0s 45ms/step - loss: 5.4389 - accuracy: 0.0325 - val_loss: 6.1442 - val_accuracy: 0.0533\n",
            "Epoch 16/500\n",
            "3/3 [==============================] - 0s 50ms/step - loss: 5.3626 - accuracy: 0.0347 - val_loss: 6.2281 - val_accuracy: 0.0800\n",
            "Epoch 17/500\n",
            "3/3 [==============================] - 0s 51ms/step - loss: 5.3874 - accuracy: 0.0346 - val_loss: 6.3098 - val_accuracy: 0.0800\n",
            "Epoch 18/500\n",
            "3/3 [==============================] - 0s 55ms/step - loss: 5.3520 - accuracy: 0.0396 - val_loss: 6.3726 - val_accuracy: 0.0800\n",
            "Epoch 19/500\n",
            "3/3 [==============================] - 0s 49ms/step - loss: 5.3613 - accuracy: 0.0447 - val_loss: 6.3976 - val_accuracy: 0.0800\n",
            "Epoch 20/500\n",
            "3/3 [==============================] - 0s 53ms/step - loss: 5.3103 - accuracy: 0.0504 - val_loss: 6.4066 - val_accuracy: 0.0800\n",
            "Epoch 21/500\n",
            "3/3 [==============================] - 0s 49ms/step - loss: 5.3138 - accuracy: 0.0511 - val_loss: 6.3991 - val_accuracy: 0.0800\n",
            "Epoch 22/500\n",
            "3/3 [==============================] - 0s 51ms/step - loss: 5.3005 - accuracy: 0.0507 - val_loss: 6.3912 - val_accuracy: 0.0800\n",
            "Epoch 23/500\n",
            "3/3 [==============================] - 0s 49ms/step - loss: 5.2847 - accuracy: 0.0443 - val_loss: 6.3919 - val_accuracy: 0.0800\n",
            "Epoch 24/500\n",
            "3/3 [==============================] - 0s 52ms/step - loss: 5.2995 - accuracy: 0.0497 - val_loss: 6.3937 - val_accuracy: 0.0800\n",
            "Epoch 25/500\n",
            "3/3 [==============================] - 0s 49ms/step - loss: 5.2538 - accuracy: 0.0509 - val_loss: 6.4088 - val_accuracy: 0.0800\n",
            "Epoch 26/500\n",
            "3/3 [==============================] - 0s 47ms/step - loss: 5.2343 - accuracy: 0.0445 - val_loss: 6.4100 - val_accuracy: 0.0800\n",
            "Epoch 27/500\n",
            "3/3 [==============================] - 0s 46ms/step - loss: 5.2213 - accuracy: 0.0443 - val_loss: 6.3980 - val_accuracy: 0.0800\n",
            "Epoch 28/500\n",
            "3/3 [==============================] - 0s 46ms/step - loss: 5.1939 - accuracy: 0.0492 - val_loss: 6.3660 - val_accuracy: 0.0800\n",
            "Epoch 29/500\n",
            "3/3 [==============================] - 0s 54ms/step - loss: 5.1695 - accuracy: 0.0462 - val_loss: 6.3164 - val_accuracy: 0.0800\n",
            "Epoch 30/500\n",
            "3/3 [==============================] - 0s 45ms/step - loss: 5.1456 - accuracy: 0.0529 - val_loss: 6.2677 - val_accuracy: 0.0667\n",
            "Epoch 31/500\n",
            "3/3 [==============================] - 0s 57ms/step - loss: 5.1199 - accuracy: 0.0533 - val_loss: 6.2175 - val_accuracy: 0.0933\n",
            "Epoch 32/500\n",
            "3/3 [==============================] - 0s 49ms/step - loss: 5.1336 - accuracy: 0.0487 - val_loss: 6.1608 - val_accuracy: 0.0933\n",
            "Epoch 33/500\n",
            "3/3 [==============================] - 0s 53ms/step - loss: 5.0676 - accuracy: 0.0561 - val_loss: 6.1235 - val_accuracy: 0.0933\n",
            "Epoch 34/500\n",
            "3/3 [==============================] - 0s 43ms/step - loss: 5.0327 - accuracy: 0.0536 - val_loss: 6.0870 - val_accuracy: 0.0933\n",
            "Epoch 35/500\n",
            "3/3 [==============================] - 0s 52ms/step - loss: 4.9979 - accuracy: 0.0678 - val_loss: 6.0488 - val_accuracy: 0.0933\n",
            "Epoch 36/500\n",
            "3/3 [==============================] - 0s 49ms/step - loss: 4.9824 - accuracy: 0.0448 - val_loss: 6.0228 - val_accuracy: 0.0933\n",
            "Epoch 37/500\n",
            "3/3 [==============================] - 0s 59ms/step - loss: 4.9643 - accuracy: 0.0605 - val_loss: 6.0011 - val_accuracy: 0.0933\n",
            "Epoch 38/500\n",
            "3/3 [==============================] - 0s 50ms/step - loss: 4.9353 - accuracy: 0.0495 - val_loss: 5.9814 - val_accuracy: 0.1067\n",
            "Epoch 39/500\n",
            "3/3 [==============================] - 0s 47ms/step - loss: 4.8779 - accuracy: 0.0600 - val_loss: 5.9836 - val_accuracy: 0.0933\n",
            "Epoch 40/500\n",
            "3/3 [==============================] - 0s 46ms/step - loss: 4.8467 - accuracy: 0.0693 - val_loss: 5.9840 - val_accuracy: 0.0933\n",
            "Epoch 41/500\n",
            "3/3 [==============================] - 0s 47ms/step - loss: 4.8541 - accuracy: 0.0590 - val_loss: 5.9671 - val_accuracy: 0.0933\n",
            "Epoch 42/500\n",
            "3/3 [==============================] - 0s 100ms/step - loss: 4.8395 - accuracy: 0.0603 - val_loss: 5.9744 - val_accuracy: 0.0933\n",
            "Epoch 43/500\n",
            "3/3 [==============================] - 0s 47ms/step - loss: 4.7927 - accuracy: 0.0659 - val_loss: 5.9862 - val_accuracy: 0.0800\n",
            "Epoch 44/500\n",
            "3/3 [==============================] - 0s 45ms/step - loss: 4.7999 - accuracy: 0.0602 - val_loss: 5.9942 - val_accuracy: 0.0800\n",
            "Epoch 45/500\n",
            "3/3 [==============================] - 0s 48ms/step - loss: 4.7658 - accuracy: 0.0625 - val_loss: 6.0237 - val_accuracy: 0.0667\n",
            "Epoch 46/500\n",
            "3/3 [==============================] - 0s 50ms/step - loss: 4.7104 - accuracy: 0.0799 - val_loss: 6.0642 - val_accuracy: 0.0800\n",
            "Epoch 47/500\n",
            "3/3 [==============================] - 0s 56ms/step - loss: 4.7303 - accuracy: 0.0691 - val_loss: 6.1076 - val_accuracy: 0.0667\n",
            "Epoch 48/500\n",
            "3/3 [==============================] - 0s 46ms/step - loss: 4.7002 - accuracy: 0.0620 - val_loss: 6.1622 - val_accuracy: 0.0533\n",
            "Epoch 49/500\n",
            "3/3 [==============================] - 0s 53ms/step - loss: 4.6346 - accuracy: 0.0608 - val_loss: 6.2154 - val_accuracy: 0.0533\n",
            "Epoch 50/500\n",
            "3/3 [==============================] - 0s 49ms/step - loss: 4.6114 - accuracy: 0.0733 - val_loss: 6.2927 - val_accuracy: 0.0667\n",
            "Epoch 51/500\n",
            "3/3 [==============================] - 0s 46ms/step - loss: 4.5578 - accuracy: 0.0767 - val_loss: 6.3948 - val_accuracy: 0.0533\n",
            "Epoch 52/500\n",
            "3/3 [==============================] - 0s 52ms/step - loss: 4.5816 - accuracy: 0.0826 - val_loss: 6.4730 - val_accuracy: 0.0533\n",
            "Epoch 53/500\n",
            "3/3 [==============================] - 0s 52ms/step - loss: 4.5728 - accuracy: 0.0669 - val_loss: 6.5761 - val_accuracy: 0.0533\n",
            "Epoch 54/500\n",
            "3/3 [==============================] - 0s 48ms/step - loss: 4.5408 - accuracy: 0.0740 - val_loss: 6.7461 - val_accuracy: 0.0533\n",
            "Epoch 55/500\n",
            "3/3 [==============================] - 0s 44ms/step - loss: 4.4704 - accuracy: 0.0801 - val_loss: 6.8944 - val_accuracy: 0.0667\n",
            "Epoch 56/500\n",
            "3/3 [==============================] - 0s 45ms/step - loss: 4.4386 - accuracy: 0.0816 - val_loss: 7.0506 - val_accuracy: 0.0533\n",
            "Epoch 57/500\n",
            "3/3 [==============================] - 0s 55ms/step - loss: 4.3764 - accuracy: 0.0922 - val_loss: 7.2513 - val_accuracy: 0.0667\n",
            "Epoch 58/500\n",
            "3/3 [==============================] - 0s 46ms/step - loss: 4.3631 - accuracy: 0.0828 - val_loss: 7.3910 - val_accuracy: 0.0533\n",
            "Epoch 59/500\n",
            "3/3 [==============================] - 0s 53ms/step - loss: 4.3403 - accuracy: 0.0715 - val_loss: 7.5419 - val_accuracy: 0.0400\n",
            "Epoch 60/500\n",
            "3/3 [==============================] - 0s 47ms/step - loss: 4.3380 - accuracy: 0.0755 - val_loss: 7.7259 - val_accuracy: 0.0533\n",
            "Epoch 61/500\n",
            "3/3 [==============================] - 0s 48ms/step - loss: 4.3350 - accuracy: 0.0767 - val_loss: 7.7884 - val_accuracy: 0.0667\n",
            "Epoch 62/500\n",
            "3/3 [==============================] - 0s 51ms/step - loss: 4.3068 - accuracy: 0.0799 - val_loss: 7.8841 - val_accuracy: 0.0667\n",
            "Epoch 63/500\n",
            "3/3 [==============================] - 0s 52ms/step - loss: 4.2968 - accuracy: 0.0795 - val_loss: 8.0450 - val_accuracy: 0.0667\n",
            "Epoch 64/500\n",
            "3/3 [==============================] - 0s 44ms/step - loss: 4.2541 - accuracy: 0.0768 - val_loss: 8.2505 - val_accuracy: 0.0267\n",
            "Epoch 65/500\n",
            "3/3 [==============================] - 0s 50ms/step - loss: 4.2143 - accuracy: 0.0875 - val_loss: 8.4021 - val_accuracy: 0.0267\n",
            "Epoch 66/500\n",
            "3/3 [==============================] - 0s 52ms/step - loss: 4.2457 - accuracy: 0.0853 - val_loss: 8.5217 - val_accuracy: 0.0267\n",
            "Epoch 67/500\n",
            "3/3 [==============================] - 0s 46ms/step - loss: 4.2073 - accuracy: 0.0794 - val_loss: 8.6517 - val_accuracy: 0.0267\n",
            "Epoch 68/500\n",
            "3/3 [==============================] - 0s 48ms/step - loss: 4.1364 - accuracy: 0.0880 - val_loss: 8.8642 - val_accuracy: 0.0267\n",
            "Epoch 69/500\n",
            "3/3 [==============================] - 0s 52ms/step - loss: 4.1593 - accuracy: 0.0924 - val_loss: 8.9808 - val_accuracy: 0.0533\n",
            "Epoch 70/500\n",
            "3/3 [==============================] - 0s 48ms/step - loss: 4.1109 - accuracy: 0.0809 - val_loss: 9.1031 - val_accuracy: 0.0533\n",
            "Epoch 71/500\n",
            "3/3 [==============================] - 0s 49ms/step - loss: 4.1597 - accuracy: 0.0743 - val_loss: 9.2121 - val_accuracy: 0.0533\n",
            "Epoch 72/500\n",
            "3/3 [==============================] - 0s 53ms/step - loss: 4.0901 - accuracy: 0.0959 - val_loss: 9.3788 - val_accuracy: 0.0533\n",
            "Epoch 73/500\n",
            "3/3 [==============================] - 0s 47ms/step - loss: 4.0060 - accuracy: 0.0821 - val_loss: 9.6282 - val_accuracy: 0.0533\n",
            "Epoch 74/500\n",
            "3/3 [==============================] - 0s 49ms/step - loss: 4.0552 - accuracy: 0.0991 - val_loss: 9.7349 - val_accuracy: 0.0533\n",
            "Epoch 75/500\n",
            "3/3 [==============================] - 0s 56ms/step - loss: 4.0016 - accuracy: 0.1148 - val_loss: 9.7575 - val_accuracy: 0.0400\n",
            "Epoch 76/500\n",
            "3/3 [==============================] - 0s 47ms/step - loss: 3.9769 - accuracy: 0.1079 - val_loss: 9.9626 - val_accuracy: 0.0400\n",
            "Epoch 77/500\n",
            "3/3 [==============================] - 0s 47ms/step - loss: 3.9320 - accuracy: 0.1096 - val_loss: 10.2472 - val_accuracy: 0.0533\n",
            "Epoch 78/500\n",
            "3/3 [==============================] - 0s 52ms/step - loss: 3.9933 - accuracy: 0.1060 - val_loss: 10.3823 - val_accuracy: 0.0400\n",
            "Epoch 79/500\n",
            "3/3 [==============================] - 0s 51ms/step - loss: 3.9653 - accuracy: 0.1028 - val_loss: 10.5198 - val_accuracy: 0.0400\n",
            "Epoch 80/500\n",
            "3/3 [==============================] - 0s 49ms/step - loss: 3.9558 - accuracy: 0.1121 - val_loss: 10.5943 - val_accuracy: 0.0533\n",
            "Epoch 81/500\n",
            "3/3 [==============================] - 0s 52ms/step - loss: 3.8450 - accuracy: 0.1145 - val_loss: 10.7938 - val_accuracy: 0.0533\n",
            "Epoch 82/500\n",
            "3/3 [==============================] - 0s 51ms/step - loss: 3.9413 - accuracy: 0.1025 - val_loss: 10.9700 - val_accuracy: 0.0400\n",
            "Epoch 83/500\n",
            "3/3 [==============================] - 0s 48ms/step - loss: 3.8717 - accuracy: 0.1173 - val_loss: 11.1317 - val_accuracy: 0.0400\n",
            "Epoch 84/500\n",
            "3/3 [==============================] - 0s 53ms/step - loss: 3.8119 - accuracy: 0.1187 - val_loss: 11.2629 - val_accuracy: 0.0400\n",
            "Epoch 85/500\n",
            "3/3 [==============================] - 0s 47ms/step - loss: 3.8747 - accuracy: 0.1146 - val_loss: 11.3849 - val_accuracy: 0.0267\n",
            "Epoch 86/500\n",
            "3/3 [==============================] - 0s 53ms/step - loss: 3.7591 - accuracy: 0.1438 - val_loss: 11.5691 - val_accuracy: 0.0267\n",
            "Epoch 87/500\n",
            "3/3 [==============================] - 0s 45ms/step - loss: 3.7814 - accuracy: 0.1288 - val_loss: 11.5738 - val_accuracy: 0.0400\n",
            "Epoch 88/500\n",
            "3/3 [==============================] - 0s 47ms/step - loss: 3.8056 - accuracy: 0.1271 - val_loss: 11.8702 - val_accuracy: 0.0533\n",
            "Epoch 89/500\n",
            "3/3 [==============================] - 0s 46ms/step - loss: 3.7540 - accuracy: 0.1227 - val_loss: 12.0375 - val_accuracy: 0.0533\n",
            "Epoch 90/500\n",
            "3/3 [==============================] - 0s 47ms/step - loss: 3.6891 - accuracy: 0.1397 - val_loss: 12.1225 - val_accuracy: 0.0533\n",
            "Epoch 91/500\n",
            "3/3 [==============================] - 0s 104ms/step - loss: 3.6699 - accuracy: 0.1348 - val_loss: 12.2852 - val_accuracy: 0.0533\n",
            "Epoch 92/500\n",
            "3/3 [==============================] - 0s 49ms/step - loss: 3.6988 - accuracy: 0.1429 - val_loss: 12.4292 - val_accuracy: 0.0400\n",
            "Epoch 93/500\n",
            "3/3 [==============================] - 0s 52ms/step - loss: 3.5880 - accuracy: 0.1541 - val_loss: 12.6910 - val_accuracy: 0.0400\n",
            "Epoch 94/500\n",
            "3/3 [==============================] - 0s 53ms/step - loss: 3.6261 - accuracy: 0.1421 - val_loss: 12.7813 - val_accuracy: 0.0400\n",
            "Epoch 95/500\n",
            "3/3 [==============================] - 0s 48ms/step - loss: 3.5746 - accuracy: 0.1463 - val_loss: 12.9725 - val_accuracy: 0.0400\n",
            "Epoch 96/500\n",
            "3/3 [==============================] - 0s 52ms/step - loss: 3.5632 - accuracy: 0.1598 - val_loss: 13.1100 - val_accuracy: 0.0533\n",
            "Epoch 97/500\n",
            "3/3 [==============================] - 0s 47ms/step - loss: 3.6151 - accuracy: 0.1481 - val_loss: 13.3070 - val_accuracy: 0.0533\n",
            "Epoch 98/500\n",
            "3/3 [==============================] - 0s 54ms/step - loss: 3.5723 - accuracy: 0.1400 - val_loss: 13.5892 - val_accuracy: 0.0533\n",
            "Epoch 99/500\n",
            "3/3 [==============================] - 0s 47ms/step - loss: 3.4475 - accuracy: 0.1799 - val_loss: 13.6953 - val_accuracy: 0.0533\n",
            "Epoch 100/500\n",
            "3/3 [==============================] - 0s 52ms/step - loss: 3.5058 - accuracy: 0.1544 - val_loss: 13.9916 - val_accuracy: 0.0533\n",
            "Epoch 101/500\n",
            "3/3 [==============================] - 0s 45ms/step - loss: 3.4507 - accuracy: 0.1583 - val_loss: 13.9316 - val_accuracy: 0.0533\n",
            "Epoch 102/500\n",
            "3/3 [==============================] - 0s 50ms/step - loss: 3.4154 - accuracy: 0.1930 - val_loss: 14.2234 - val_accuracy: 0.0533\n",
            "Epoch 103/500\n",
            "3/3 [==============================] - 0s 54ms/step - loss: 3.3910 - accuracy: 0.1831 - val_loss: 14.1871 - val_accuracy: 0.0533\n",
            "Epoch 104/500\n",
            "3/3 [==============================] - 0s 57ms/step - loss: 3.3156 - accuracy: 0.1775 - val_loss: 14.2206 - val_accuracy: 0.0533\n",
            "Epoch 105/500\n",
            "3/3 [==============================] - 0s 52ms/step - loss: 3.3739 - accuracy: 0.1728 - val_loss: 14.3426 - val_accuracy: 0.0533\n",
            "Epoch 106/500\n",
            "3/3 [==============================] - 0s 51ms/step - loss: 3.3916 - accuracy: 0.1596 - val_loss: 14.3667 - val_accuracy: 0.0533\n",
            "Epoch 107/500\n",
            "3/3 [==============================] - 0s 51ms/step - loss: 3.3151 - accuracy: 0.1844 - val_loss: 14.4775 - val_accuracy: 0.0533\n",
            "Epoch 108/500\n",
            "3/3 [==============================] - 0s 49ms/step - loss: 3.3185 - accuracy: 0.1864 - val_loss: 14.7466 - val_accuracy: 0.0533\n",
            "Epoch 109/500\n",
            "3/3 [==============================] - 0s 48ms/step - loss: 3.3273 - accuracy: 0.1546 - val_loss: 14.8905 - val_accuracy: 0.0533\n",
            "Epoch 110/500\n",
            "3/3 [==============================] - 0s 45ms/step - loss: 3.2613 - accuracy: 0.1756 - val_loss: 15.0558 - val_accuracy: 0.0533\n",
            "Epoch 111/500\n",
            "3/3 [==============================] - 0s 45ms/step - loss: 3.2447 - accuracy: 0.1866 - val_loss: 15.1576 - val_accuracy: 0.0533\n",
            "Epoch 112/500\n",
            "3/3 [==============================] - 0s 54ms/step - loss: 3.2514 - accuracy: 0.1802 - val_loss: 15.3851 - val_accuracy: 0.0533\n",
            "Epoch 113/500\n",
            "3/3 [==============================] - 0s 61ms/step - loss: 3.1782 - accuracy: 0.2060 - val_loss: 15.6173 - val_accuracy: 0.0533\n",
            "Epoch 114/500\n",
            "3/3 [==============================] - 0s 51ms/step - loss: 3.1283 - accuracy: 0.2217 - val_loss: 15.7406 - val_accuracy: 0.0533\n",
            "Epoch 115/500\n",
            "3/3 [==============================] - 0s 50ms/step - loss: 3.1151 - accuracy: 0.2117 - val_loss: 15.9067 - val_accuracy: 0.0533\n",
            "Epoch 116/500\n",
            "3/3 [==============================] - 0s 57ms/step - loss: 3.0209 - accuracy: 0.2230 - val_loss: 16.1767 - val_accuracy: 0.0533\n",
            "Epoch 117/500\n",
            "3/3 [==============================] - 0s 57ms/step - loss: 3.1364 - accuracy: 0.1924 - val_loss: 16.1767 - val_accuracy: 0.0533\n",
            "Epoch 118/500\n",
            "3/3 [==============================] - 0s 49ms/step - loss: 3.0405 - accuracy: 0.2205 - val_loss: 16.5005 - val_accuracy: 0.0533\n",
            "Epoch 119/500\n",
            "3/3 [==============================] - 0s 47ms/step - loss: 3.1095 - accuracy: 0.1816 - val_loss: 16.6261 - val_accuracy: 0.0533\n",
            "Epoch 120/500\n",
            "3/3 [==============================] - 0s 48ms/step - loss: 2.9975 - accuracy: 0.2144 - val_loss: 16.6293 - val_accuracy: 0.0533\n",
            "Epoch 121/500\n",
            "3/3 [==============================] - 0s 60ms/step - loss: 2.9940 - accuracy: 0.2186 - val_loss: 16.6659 - val_accuracy: 0.0533\n",
            "Epoch 122/500\n",
            "3/3 [==============================] - 0s 50ms/step - loss: 2.9540 - accuracy: 0.2243 - val_loss: 16.8764 - val_accuracy: 0.0533\n",
            "Epoch 123/500\n",
            "3/3 [==============================] - 0s 51ms/step - loss: 2.9161 - accuracy: 0.2235 - val_loss: 17.0715 - val_accuracy: 0.0533\n",
            "Epoch 124/500\n",
            "3/3 [==============================] - 0s 52ms/step - loss: 2.9812 - accuracy: 0.2203 - val_loss: 17.1506 - val_accuracy: 0.0533\n",
            "Epoch 125/500\n",
            "3/3 [==============================] - 0s 51ms/step - loss: 2.9847 - accuracy: 0.2081 - val_loss: 17.2191 - val_accuracy: 0.0533\n",
            "Epoch 126/500\n",
            "3/3 [==============================] - 0s 52ms/step - loss: 2.9180 - accuracy: 0.2542 - val_loss: 17.6619 - val_accuracy: 0.0533\n",
            "Epoch 127/500\n",
            "3/3 [==============================] - 0s 50ms/step - loss: 2.9364 - accuracy: 0.2226 - val_loss: 17.4222 - val_accuracy: 0.0533\n",
            "Epoch 128/500\n",
            "3/3 [==============================] - 0s 56ms/step - loss: 2.8271 - accuracy: 0.2586 - val_loss: 17.4988 - val_accuracy: 0.0533\n",
            "Epoch 129/500\n",
            "3/3 [==============================] - 0s 46ms/step - loss: 2.8705 - accuracy: 0.2370 - val_loss: 17.6699 - val_accuracy: 0.0533\n",
            "Epoch 130/500\n",
            "3/3 [==============================] - 0s 47ms/step - loss: 2.8219 - accuracy: 0.2478 - val_loss: 17.8989 - val_accuracy: 0.0533\n",
            "Epoch 131/500\n",
            "3/3 [==============================] - 0s 58ms/step - loss: 2.7874 - accuracy: 0.2304 - val_loss: 17.9485 - val_accuracy: 0.0533\n",
            "Epoch 132/500\n",
            "3/3 [==============================] - 0s 52ms/step - loss: 2.7914 - accuracy: 0.2547 - val_loss: 17.7936 - val_accuracy: 0.0533\n",
            "Epoch 133/500\n",
            "3/3 [==============================] - 0s 51ms/step - loss: 2.7420 - accuracy: 0.2668 - val_loss: 18.1768 - val_accuracy: 0.0533\n",
            "Epoch 134/500\n",
            "3/3 [==============================] - 0s 52ms/step - loss: 2.7576 - accuracy: 0.2603 - val_loss: 18.3076 - val_accuracy: 0.0533\n",
            "Epoch 135/500\n",
            "3/3 [==============================] - 0s 47ms/step - loss: 2.8490 - accuracy: 0.2425 - val_loss: 18.4931 - val_accuracy: 0.0533\n",
            "Epoch 136/500\n",
            "3/3 [==============================] - 0s 46ms/step - loss: 2.7269 - accuracy: 0.2511 - val_loss: 18.6708 - val_accuracy: 0.0533\n",
            "Epoch 137/500\n",
            "3/3 [==============================] - 0s 55ms/step - loss: 2.7395 - accuracy: 0.2589 - val_loss: 18.5310 - val_accuracy: 0.0533\n",
            "Epoch 138/500\n",
            "3/3 [==============================] - 0s 52ms/step - loss: 2.6548 - accuracy: 0.2868 - val_loss: 18.7489 - val_accuracy: 0.0533\n",
            "Epoch 139/500\n",
            "3/3 [==============================] - 0s 53ms/step - loss: 2.7237 - accuracy: 0.2787 - val_loss: 18.7474 - val_accuracy: 0.0533\n",
            "Epoch 140/500\n",
            "3/3 [==============================] - 0s 51ms/step - loss: 2.7103 - accuracy: 0.2449 - val_loss: 18.8428 - val_accuracy: 0.0533\n",
            "Epoch 141/500\n",
            "3/3 [==============================] - 0s 53ms/step - loss: 2.5335 - accuracy: 0.2927 - val_loss: 19.1565 - val_accuracy: 0.0533\n",
            "Epoch 142/500\n",
            "3/3 [==============================] - 0s 56ms/step - loss: 2.6001 - accuracy: 0.2897 - val_loss: 19.0883 - val_accuracy: 0.0533\n",
            "Epoch 143/500\n",
            "3/3 [==============================] - 0s 50ms/step - loss: 2.6082 - accuracy: 0.2924 - val_loss: 19.1936 - val_accuracy: 0.0533\n",
            "Epoch 144/500\n",
            "3/3 [==============================] - 0s 50ms/step - loss: 2.5256 - accuracy: 0.2867 - val_loss: 19.3014 - val_accuracy: 0.0533\n",
            "Epoch 145/500\n",
            "3/3 [==============================] - 0s 54ms/step - loss: 2.4445 - accuracy: 0.3297 - val_loss: 19.3960 - val_accuracy: 0.0533\n",
            "Epoch 146/500\n",
            "3/3 [==============================] - 0s 52ms/step - loss: 2.5067 - accuracy: 0.2843 - val_loss: 19.8464 - val_accuracy: 0.0533\n",
            "Epoch 147/500\n",
            "3/3 [==============================] - 0s 53ms/step - loss: 2.4774 - accuracy: 0.3243 - val_loss: 19.9737 - val_accuracy: 0.0533\n",
            "Epoch 148/500\n",
            "3/3 [==============================] - 0s 49ms/step - loss: 2.4763 - accuracy: 0.3042 - val_loss: 20.1795 - val_accuracy: 0.0533\n",
            "Epoch 149/500\n",
            "3/3 [==============================] - 0s 57ms/step - loss: 2.4647 - accuracy: 0.2941 - val_loss: 20.3150 - val_accuracy: 0.0533\n",
            "Epoch 150/500\n",
            "3/3 [==============================] - 0s 52ms/step - loss: 2.4819 - accuracy: 0.3374 - val_loss: 20.4531 - val_accuracy: 0.0533\n",
            "Epoch 151/500\n",
            "3/3 [==============================] - 0s 52ms/step - loss: 2.4188 - accuracy: 0.2936 - val_loss: 20.7354 - val_accuracy: 0.0533\n",
            "Epoch 152/500\n",
            "3/3 [==============================] - 0s 56ms/step - loss: 2.4582 - accuracy: 0.3137 - val_loss: 20.8838 - val_accuracy: 0.0533\n",
            "Epoch 153/500\n",
            "3/3 [==============================] - 0s 103ms/step - loss: 2.4203 - accuracy: 0.3137 - val_loss: 20.9331 - val_accuracy: 0.0533\n",
            "Epoch 154/500\n",
            "3/3 [==============================] - 0s 51ms/step - loss: 2.3772 - accuracy: 0.3189 - val_loss: 21.0176 - val_accuracy: 0.0533\n",
            "Epoch 155/500\n",
            "3/3 [==============================] - 0s 52ms/step - loss: 2.4140 - accuracy: 0.3261 - val_loss: 21.0619 - val_accuracy: 0.0533\n",
            "Epoch 156/500\n",
            "3/3 [==============================] - 0s 48ms/step - loss: 2.3826 - accuracy: 0.3189 - val_loss: 21.3030 - val_accuracy: 0.0533\n",
            "Epoch 157/500\n",
            "3/3 [==============================] - 0s 53ms/step - loss: 2.2891 - accuracy: 0.3407 - val_loss: 21.3669 - val_accuracy: 0.0533\n",
            "Epoch 158/500\n",
            "3/3 [==============================] - 0s 52ms/step - loss: 2.2827 - accuracy: 0.3519 - val_loss: 21.4843 - val_accuracy: 0.0533\n",
            "Epoch 159/500\n",
            "3/3 [==============================] - 0s 47ms/step - loss: 2.3462 - accuracy: 0.3447 - val_loss: 21.5714 - val_accuracy: 0.0533\n",
            "Epoch 160/500\n",
            "3/3 [==============================] - 0s 52ms/step - loss: 2.2827 - accuracy: 0.3533 - val_loss: 21.5640 - val_accuracy: 0.0533\n",
            "Epoch 161/500\n",
            "3/3 [==============================] - 0s 52ms/step - loss: 2.2740 - accuracy: 0.3469 - val_loss: 21.5808 - val_accuracy: 0.0400\n",
            "Epoch 162/500\n",
            "3/3 [==============================] - 0s 48ms/step - loss: 2.2253 - accuracy: 0.3714 - val_loss: 21.5348 - val_accuracy: 0.0400\n",
            "Epoch 163/500\n",
            "3/3 [==============================] - 0s 55ms/step - loss: 2.2344 - accuracy: 0.3531 - val_loss: 21.6949 - val_accuracy: 0.0533\n",
            "Epoch 164/500\n",
            "3/3 [==============================] - 0s 47ms/step - loss: 2.2197 - accuracy: 0.3401 - val_loss: 21.9213 - val_accuracy: 0.0533\n",
            "Epoch 165/500\n",
            "3/3 [==============================] - 0s 50ms/step - loss: 2.1686 - accuracy: 0.3788 - val_loss: 21.9765 - val_accuracy: 0.0533\n",
            "Epoch 166/500\n",
            "3/3 [==============================] - 0s 51ms/step - loss: 2.2459 - accuracy: 0.3172 - val_loss: 22.0913 - val_accuracy: 0.0533\n",
            "Epoch 167/500\n",
            "3/3 [==============================] - 0s 51ms/step - loss: 2.2586 - accuracy: 0.3422 - val_loss: 22.2160 - val_accuracy: 0.0533\n",
            "Epoch 168/500\n",
            "3/3 [==============================] - 0s 60ms/step - loss: 2.1647 - accuracy: 0.3727 - val_loss: 22.3875 - val_accuracy: 0.0533\n",
            "Epoch 169/500\n",
            "3/3 [==============================] - 0s 49ms/step - loss: 2.1412 - accuracy: 0.3803 - val_loss: 22.3384 - val_accuracy: 0.0533\n",
            "Epoch 170/500\n",
            "3/3 [==============================] - 0s 49ms/step - loss: 2.1378 - accuracy: 0.3880 - val_loss: 22.3709 - val_accuracy: 0.0533\n",
            "Epoch 171/500\n",
            "3/3 [==============================] - 0s 58ms/step - loss: 2.1268 - accuracy: 0.3565 - val_loss: 22.5511 - val_accuracy: 0.0533\n",
            "Epoch 172/500\n",
            "3/3 [==============================] - 0s 55ms/step - loss: 2.0545 - accuracy: 0.4045 - val_loss: 23.0475 - val_accuracy: 0.0533\n",
            "Epoch 173/500\n",
            "3/3 [==============================] - 0s 51ms/step - loss: 2.1532 - accuracy: 0.3696 - val_loss: 22.9355 - val_accuracy: 0.0533\n",
            "Epoch 174/500\n",
            "3/3 [==============================] - 0s 51ms/step - loss: 2.0818 - accuracy: 0.3905 - val_loss: 23.0760 - val_accuracy: 0.0533\n",
            "Epoch 175/500\n",
            "3/3 [==============================] - 0s 51ms/step - loss: 2.1381 - accuracy: 0.3587 - val_loss: 23.3436 - val_accuracy: 0.0533\n",
            "Epoch 176/500\n",
            "3/3 [==============================] - 0s 52ms/step - loss: 2.0704 - accuracy: 0.3772 - val_loss: 23.3585 - val_accuracy: 0.0400\n",
            "Epoch 177/500\n",
            "3/3 [==============================] - 0s 54ms/step - loss: 2.0315 - accuracy: 0.4098 - val_loss: 23.4657 - val_accuracy: 0.0400\n",
            "Epoch 178/500\n",
            "3/3 [==============================] - 0s 59ms/step - loss: 2.1315 - accuracy: 0.3590 - val_loss: 23.4087 - val_accuracy: 0.0400\n",
            "Epoch 179/500\n",
            "3/3 [==============================] - 0s 50ms/step - loss: 2.0582 - accuracy: 0.3742 - val_loss: 23.5788 - val_accuracy: 0.0400\n",
            "Epoch 180/500\n",
            "3/3 [==============================] - 0s 64ms/step - loss: 1.9991 - accuracy: 0.4124 - val_loss: 23.6653 - val_accuracy: 0.0400\n",
            "Epoch 181/500\n",
            "3/3 [==============================] - 0s 55ms/step - loss: 1.9627 - accuracy: 0.4160 - val_loss: 23.7303 - val_accuracy: 0.0400\n",
            "Epoch 182/500\n",
            "3/3 [==============================] - 0s 53ms/step - loss: 2.0702 - accuracy: 0.3966 - val_loss: 23.9813 - val_accuracy: 0.0400\n",
            "Epoch 183/500\n",
            "3/3 [==============================] - 0s 46ms/step - loss: 1.9551 - accuracy: 0.4165 - val_loss: 24.2376 - val_accuracy: 0.0400\n",
            "Epoch 184/500\n",
            "3/3 [==============================] - 0s 49ms/step - loss: 1.8925 - accuracy: 0.4501 - val_loss: 24.2088 - val_accuracy: 0.0400\n",
            "Epoch 185/500\n",
            "3/3 [==============================] - 0s 56ms/step - loss: 2.0153 - accuracy: 0.3956 - val_loss: 24.4678 - val_accuracy: 0.0400\n",
            "Epoch 186/500\n",
            "3/3 [==============================] - 0s 55ms/step - loss: 1.9293 - accuracy: 0.4218 - val_loss: 24.5946 - val_accuracy: 0.0400\n",
            "Epoch 187/500\n",
            "3/3 [==============================] - 0s 54ms/step - loss: 1.9216 - accuracy: 0.4379 - val_loss: 24.4192 - val_accuracy: 0.0400\n",
            "Epoch 188/500\n",
            "3/3 [==============================] - 0s 54ms/step - loss: 1.9116 - accuracy: 0.4297 - val_loss: 24.6706 - val_accuracy: 0.0533\n",
            "Epoch 189/500\n",
            "3/3 [==============================] - 0s 49ms/step - loss: 1.9120 - accuracy: 0.4175 - val_loss: 24.6627 - val_accuracy: 0.0533\n",
            "Epoch 190/500\n",
            "3/3 [==============================] - 0s 53ms/step - loss: 1.9183 - accuracy: 0.4015 - val_loss: 24.6232 - val_accuracy: 0.0533\n",
            "Epoch 191/500\n",
            "3/3 [==============================] - 0s 57ms/step - loss: 1.8871 - accuracy: 0.4285 - val_loss: 24.6221 - val_accuracy: 0.0533\n",
            "Epoch 192/500\n",
            "3/3 [==============================] - 0s 52ms/step - loss: 1.8940 - accuracy: 0.4263 - val_loss: 24.5850 - val_accuracy: 0.0400\n",
            "Epoch 193/500\n",
            "3/3 [==============================] - 0s 52ms/step - loss: 1.8769 - accuracy: 0.4159 - val_loss: 24.6545 - val_accuracy: 0.0400\n",
            "Epoch 194/500\n",
            "3/3 [==============================] - 0s 55ms/step - loss: 1.8794 - accuracy: 0.4228 - val_loss: 24.7499 - val_accuracy: 0.0400\n",
            "Epoch 195/500\n",
            "3/3 [==============================] - 0s 47ms/step - loss: 1.8560 - accuracy: 0.4420 - val_loss: 25.1971 - val_accuracy: 0.0400\n",
            "Epoch 196/500\n",
            "3/3 [==============================] - 0s 58ms/step - loss: 1.8403 - accuracy: 0.4551 - val_loss: 25.2518 - val_accuracy: 0.0400\n",
            "Epoch 197/500\n",
            "3/3 [==============================] - 0s 48ms/step - loss: 1.7916 - accuracy: 0.4406 - val_loss: 24.9919 - val_accuracy: 0.0400\n",
            "Epoch 198/500\n",
            "3/3 [==============================] - 0s 52ms/step - loss: 1.8073 - accuracy: 0.4512 - val_loss: 25.2799 - val_accuracy: 0.0400\n",
            "Epoch 199/500\n",
            "3/3 [==============================] - 0s 54ms/step - loss: 1.8247 - accuracy: 0.4345 - val_loss: 25.3981 - val_accuracy: 0.0400\n",
            "Epoch 200/500\n",
            "3/3 [==============================] - 0s 50ms/step - loss: 1.7613 - accuracy: 0.4690 - val_loss: 25.5713 - val_accuracy: 0.0400\n",
            "Epoch 201/500\n",
            "3/3 [==============================] - 0s 49ms/step - loss: 1.7564 - accuracy: 0.4588 - val_loss: 25.8690 - val_accuracy: 0.0400\n",
            "Epoch 202/500\n",
            "3/3 [==============================] - 0s 50ms/step - loss: 1.7118 - accuracy: 0.4802 - val_loss: 25.6610 - val_accuracy: 0.0400\n",
            "Epoch 203/500\n",
            "3/3 [==============================] - 0s 109ms/step - loss: 1.7224 - accuracy: 0.4646 - val_loss: 25.8708 - val_accuracy: 0.0400\n",
            "Epoch 204/500\n",
            "3/3 [==============================] - 0s 48ms/step - loss: 1.7130 - accuracy: 0.4659 - val_loss: 26.1447 - val_accuracy: 0.0400\n",
            "Epoch 205/500\n",
            "3/3 [==============================] - 0s 54ms/step - loss: 1.7386 - accuracy: 0.4760 - val_loss: 25.8202 - val_accuracy: 0.0400\n",
            "Epoch 206/500\n",
            "3/3 [==============================] - 0s 46ms/step - loss: 1.7416 - accuracy: 0.4614 - val_loss: 26.0862 - val_accuracy: 0.0400\n",
            "Epoch 207/500\n",
            "3/3 [==============================] - 0s 48ms/step - loss: 1.6919 - accuracy: 0.4794 - val_loss: 26.5328 - val_accuracy: 0.0400\n",
            "Epoch 208/500\n",
            "3/3 [==============================] - 0s 59ms/step - loss: 1.6516 - accuracy: 0.4951 - val_loss: 26.3286 - val_accuracy: 0.0400\n",
            "Epoch 209/500\n",
            "3/3 [==============================] - 0s 56ms/step - loss: 1.6512 - accuracy: 0.4980 - val_loss: 26.4413 - val_accuracy: 0.0400\n",
            "Epoch 210/500\n",
            "3/3 [==============================] - 0s 50ms/step - loss: 1.6936 - accuracy: 0.4775 - val_loss: 26.5775 - val_accuracy: 0.0400\n",
            "Epoch 211/500\n",
            "3/3 [==============================] - 0s 46ms/step - loss: 1.7327 - accuracy: 0.4701 - val_loss: 26.4965 - val_accuracy: 0.0400\n",
            "Epoch 212/500\n",
            "3/3 [==============================] - 0s 47ms/step - loss: 1.7465 - accuracy: 0.4729 - val_loss: 26.8837 - val_accuracy: 0.0533\n",
            "Epoch 213/500\n",
            "3/3 [==============================] - 0s 49ms/step - loss: 1.6403 - accuracy: 0.4908 - val_loss: 26.8720 - val_accuracy: 0.0400\n",
            "Epoch 214/500\n",
            "3/3 [==============================] - 0s 49ms/step - loss: 1.6329 - accuracy: 0.4814 - val_loss: 26.7185 - val_accuracy: 0.0400\n",
            "Epoch 215/500\n",
            "3/3 [==============================] - 0s 50ms/step - loss: 1.6512 - accuracy: 0.4700 - val_loss: 26.8699 - val_accuracy: 0.0400\n",
            "Epoch 216/500\n",
            "3/3 [==============================] - 0s 55ms/step - loss: 1.6219 - accuracy: 0.4948 - val_loss: 27.0858 - val_accuracy: 0.0400\n",
            "Epoch 217/500\n",
            "3/3 [==============================] - 0s 49ms/step - loss: 1.6100 - accuracy: 0.5116 - val_loss: 27.2640 - val_accuracy: 0.0400\n",
            "Epoch 218/500\n",
            "3/3 [==============================] - 0s 54ms/step - loss: 1.5748 - accuracy: 0.5269 - val_loss: 27.3003 - val_accuracy: 0.0400\n",
            "Epoch 219/500\n",
            "3/3 [==============================] - 0s 50ms/step - loss: 1.6001 - accuracy: 0.5070 - val_loss: 27.1249 - val_accuracy: 0.0400\n",
            "Epoch 220/500\n",
            "3/3 [==============================] - 0s 52ms/step - loss: 1.5842 - accuracy: 0.5260 - val_loss: 27.1248 - val_accuracy: 0.0400\n",
            "Epoch 221/500\n",
            "3/3 [==============================] - 0s 53ms/step - loss: 1.5469 - accuracy: 0.5245 - val_loss: 27.4405 - val_accuracy: 0.0400\n",
            "Epoch 222/500\n",
            "3/3 [==============================] - 0s 54ms/step - loss: 1.5669 - accuracy: 0.4997 - val_loss: 27.5814 - val_accuracy: 0.0400\n",
            "Epoch 223/500\n",
            "3/3 [==============================] - 0s 48ms/step - loss: 1.5259 - accuracy: 0.5137 - val_loss: 27.5284 - val_accuracy: 0.0400\n",
            "Epoch 224/500\n",
            "3/3 [==============================] - 0s 55ms/step - loss: 1.6177 - accuracy: 0.4957 - val_loss: 27.5932 - val_accuracy: 0.0400\n",
            "Epoch 225/500\n",
            "3/3 [==============================] - 0s 60ms/step - loss: 1.5062 - accuracy: 0.5539 - val_loss: 27.9066 - val_accuracy: 0.0400\n",
            "Epoch 226/500\n",
            "3/3 [==============================] - 0s 51ms/step - loss: 1.4793 - accuracy: 0.5177 - val_loss: 28.0840 - val_accuracy: 0.0400\n",
            "Epoch 227/500\n",
            "3/3 [==============================] - 0s 56ms/step - loss: 1.5074 - accuracy: 0.5269 - val_loss: 27.9551 - val_accuracy: 0.0400\n",
            "Epoch 228/500\n",
            "3/3 [==============================] - 0s 45ms/step - loss: 1.4803 - accuracy: 0.5497 - val_loss: 27.9036 - val_accuracy: 0.0400\n",
            "Epoch 229/500\n",
            "3/3 [==============================] - 0s 51ms/step - loss: 1.4638 - accuracy: 0.5417 - val_loss: 28.0368 - val_accuracy: 0.0533\n",
            "Epoch 230/500\n",
            "3/3 [==============================] - 0s 48ms/step - loss: 1.4109 - accuracy: 0.5650 - val_loss: 28.0864 - val_accuracy: 0.0400\n",
            "Epoch 231/500\n",
            "3/3 [==============================] - 0s 47ms/step - loss: 1.5090 - accuracy: 0.5178 - val_loss: 28.0392 - val_accuracy: 0.0400\n",
            "Epoch 232/500\n",
            "3/3 [==============================] - 0s 49ms/step - loss: 1.4934 - accuracy: 0.5412 - val_loss: 28.1063 - val_accuracy: 0.0400\n",
            "Epoch 233/500\n",
            "3/3 [==============================] - 0s 49ms/step - loss: 1.4164 - accuracy: 0.5478 - val_loss: 28.2124 - val_accuracy: 0.0400\n",
            "Epoch 234/500\n",
            "3/3 [==============================] - 0s 53ms/step - loss: 1.3549 - accuracy: 0.5712 - val_loss: 28.2377 - val_accuracy: 0.0400\n",
            "Epoch 235/500\n",
            "3/3 [==============================] - 0s 49ms/step - loss: 1.4116 - accuracy: 0.5638 - val_loss: 28.2929 - val_accuracy: 0.0400\n",
            "Epoch 236/500\n",
            "3/3 [==============================] - 0s 48ms/step - loss: 1.3710 - accuracy: 0.6012 - val_loss: 28.3823 - val_accuracy: 0.0400\n",
            "Epoch 237/500\n",
            "3/3 [==============================] - 0s 55ms/step - loss: 1.4067 - accuracy: 0.5817 - val_loss: 28.5160 - val_accuracy: 0.0400\n",
            "Epoch 238/500\n",
            "3/3 [==============================] - 0s 52ms/step - loss: 1.3341 - accuracy: 0.5849 - val_loss: 28.6921 - val_accuracy: 0.0400\n",
            "Epoch 239/500\n",
            "3/3 [==============================] - 0s 50ms/step - loss: 1.3729 - accuracy: 0.5690 - val_loss: 28.7569 - val_accuracy: 0.0400\n",
            "Epoch 240/500\n",
            "3/3 [==============================] - 0s 47ms/step - loss: 1.3577 - accuracy: 0.5610 - val_loss: 28.7029 - val_accuracy: 0.0400\n",
            "Epoch 241/500\n",
            "3/3 [==============================] - 0s 53ms/step - loss: 1.2979 - accuracy: 0.5999 - val_loss: 28.9001 - val_accuracy: 0.0400\n",
            "Epoch 242/500\n",
            "3/3 [==============================] - 0s 47ms/step - loss: 1.3112 - accuracy: 0.5865 - val_loss: 28.9615 - val_accuracy: 0.0400\n",
            "Epoch 243/500\n",
            "3/3 [==============================] - 0s 53ms/step - loss: 1.3693 - accuracy: 0.5526 - val_loss: 29.0654 - val_accuracy: 0.0400\n",
            "Epoch 244/500\n",
            "3/3 [==============================] - 0s 49ms/step - loss: 1.3685 - accuracy: 0.5759 - val_loss: 29.2987 - val_accuracy: 0.0400\n",
            "Epoch 245/500\n",
            "3/3 [==============================] - 0s 48ms/step - loss: 1.4302 - accuracy: 0.5532 - val_loss: 29.4100 - val_accuracy: 0.0400\n",
            "Epoch 246/500\n",
            "3/3 [==============================] - 0s 46ms/step - loss: 1.2889 - accuracy: 0.5938 - val_loss: 29.5815 - val_accuracy: 0.0400\n",
            "Epoch 247/500\n",
            "3/3 [==============================] - 0s 55ms/step - loss: 1.3080 - accuracy: 0.5940 - val_loss: 29.9139 - val_accuracy: 0.0400\n",
            "Epoch 248/500\n",
            "3/3 [==============================] - 0s 57ms/step - loss: 1.3305 - accuracy: 0.5729 - val_loss: 29.9091 - val_accuracy: 0.0400\n",
            "Epoch 249/500\n",
            "3/3 [==============================] - 0s 53ms/step - loss: 1.3026 - accuracy: 0.5774 - val_loss: 30.0210 - val_accuracy: 0.0400\n",
            "Epoch 250/500\n",
            "3/3 [==============================] - 0s 54ms/step - loss: 1.3428 - accuracy: 0.5767 - val_loss: 30.1502 - val_accuracy: 0.0400\n",
            "Epoch 251/500\n",
            "3/3 [==============================] - 0s 48ms/step - loss: 1.3253 - accuracy: 0.5611 - val_loss: 29.9969 - val_accuracy: 0.0400\n",
            "Epoch 252/500\n",
            "3/3 [==============================] - 0s 55ms/step - loss: 1.3095 - accuracy: 0.5918 - val_loss: 30.1265 - val_accuracy: 0.0400\n",
            "Epoch 253/500\n",
            "3/3 [==============================] - 0s 52ms/step - loss: 1.3695 - accuracy: 0.5523 - val_loss: 30.2717 - val_accuracy: 0.0400\n",
            "Epoch 254/500\n",
            "3/3 [==============================] - 0s 46ms/step - loss: 1.3123 - accuracy: 0.5969 - val_loss: 30.1411 - val_accuracy: 0.0400\n",
            "Epoch 255/500\n",
            "3/3 [==============================] - 0s 46ms/step - loss: 1.2533 - accuracy: 0.5641 - val_loss: 30.1379 - val_accuracy: 0.0400\n",
            "Epoch 256/500\n",
            "3/3 [==============================] - 0s 48ms/step - loss: 1.2686 - accuracy: 0.6043 - val_loss: 30.3067 - val_accuracy: 0.0400\n",
            "Epoch 257/500\n",
            "3/3 [==============================] - 0s 49ms/step - loss: 1.2664 - accuracy: 0.5802 - val_loss: 30.4495 - val_accuracy: 0.0400\n",
            "Epoch 258/500\n",
            "3/3 [==============================] - 0s 53ms/step - loss: 1.2534 - accuracy: 0.5970 - val_loss: 30.6120 - val_accuracy: 0.0400\n",
            "Epoch 259/500\n",
            "3/3 [==============================] - 0s 50ms/step - loss: 1.2517 - accuracy: 0.6083 - val_loss: 30.5187 - val_accuracy: 0.0400\n",
            "Epoch 260/500\n",
            "3/3 [==============================] - 0s 50ms/step - loss: 1.2553 - accuracy: 0.6034 - val_loss: 30.5339 - val_accuracy: 0.0400\n",
            "Epoch 261/500\n",
            "3/3 [==============================] - 0s 47ms/step - loss: 1.2196 - accuracy: 0.6009 - val_loss: 30.7344 - val_accuracy: 0.0400\n",
            "Epoch 262/500\n",
            "3/3 [==============================] - 0s 51ms/step - loss: 1.1735 - accuracy: 0.6305 - val_loss: 30.6297 - val_accuracy: 0.0400\n",
            "Epoch 263/500\n",
            "3/3 [==============================] - 0s 100ms/step - loss: 1.1871 - accuracy: 0.6125 - val_loss: 30.7742 - val_accuracy: 0.0400\n",
            "Epoch 264/500\n",
            "3/3 [==============================] - 0s 47ms/step - loss: 1.1648 - accuracy: 0.6290 - val_loss: 31.0391 - val_accuracy: 0.0400\n",
            "Epoch 265/500\n",
            "3/3 [==============================] - 0s 55ms/step - loss: 1.1802 - accuracy: 0.6147 - val_loss: 31.0770 - val_accuracy: 0.0533\n",
            "Epoch 266/500\n",
            "3/3 [==============================] - 0s 50ms/step - loss: 1.2129 - accuracy: 0.6056 - val_loss: 30.8853 - val_accuracy: 0.0400\n",
            "Epoch 267/500\n",
            "3/3 [==============================] - 0s 48ms/step - loss: 1.1677 - accuracy: 0.6240 - val_loss: 30.8777 - val_accuracy: 0.0400\n",
            "Epoch 268/500\n",
            "3/3 [==============================] - 0s 54ms/step - loss: 1.2222 - accuracy: 0.6058 - val_loss: 31.1557 - val_accuracy: 0.0400\n",
            "Epoch 269/500\n",
            "3/3 [==============================] - 0s 50ms/step - loss: 1.1283 - accuracy: 0.6486 - val_loss: 31.2666 - val_accuracy: 0.0400\n",
            "Epoch 270/500\n",
            "3/3 [==============================] - 0s 56ms/step - loss: 1.2203 - accuracy: 0.6164 - val_loss: 31.3292 - val_accuracy: 0.0400\n",
            "Epoch 271/500\n",
            "3/3 [==============================] - 0s 48ms/step - loss: 1.2170 - accuracy: 0.6164 - val_loss: 31.4327 - val_accuracy: 0.0400\n",
            "Epoch 272/500\n",
            "3/3 [==============================] - 0s 59ms/step - loss: 1.1970 - accuracy: 0.6186 - val_loss: 31.3734 - val_accuracy: 0.0400\n",
            "Epoch 273/500\n",
            "3/3 [==============================] - 0s 45ms/step - loss: 1.2053 - accuracy: 0.6214 - val_loss: 31.4825 - val_accuracy: 0.0400\n",
            "Epoch 274/500\n",
            "3/3 [==============================] - 0s 47ms/step - loss: 1.1054 - accuracy: 0.6567 - val_loss: 31.5528 - val_accuracy: 0.0400\n",
            "Epoch 275/500\n",
            "3/3 [==============================] - 0s 54ms/step - loss: 1.1034 - accuracy: 0.6523 - val_loss: 31.2112 - val_accuracy: 0.0400\n",
            "Epoch 276/500\n",
            "3/3 [==============================] - 0s 51ms/step - loss: 1.1567 - accuracy: 0.6361 - val_loss: 31.1562 - val_accuracy: 0.0533\n",
            "Epoch 277/500\n",
            "3/3 [==============================] - 0s 47ms/step - loss: 1.0664 - accuracy: 0.6555 - val_loss: 31.3434 - val_accuracy: 0.0533\n",
            "Epoch 278/500\n",
            "3/3 [==============================] - 0s 49ms/step - loss: 1.1165 - accuracy: 0.6530 - val_loss: 31.4206 - val_accuracy: 0.0533\n",
            "Epoch 279/500\n",
            "3/3 [==============================] - 0s 50ms/step - loss: 1.0897 - accuracy: 0.6466 - val_loss: 31.4543 - val_accuracy: 0.0400\n",
            "Epoch 280/500\n",
            "3/3 [==============================] - 0s 50ms/step - loss: 1.1159 - accuracy: 0.6307 - val_loss: 31.6375 - val_accuracy: 0.0400\n",
            "Epoch 281/500\n",
            "3/3 [==============================] - 0s 53ms/step - loss: 1.0710 - accuracy: 0.6695 - val_loss: 31.6814 - val_accuracy: 0.0400\n",
            "Epoch 282/500\n",
            "3/3 [==============================] - 0s 52ms/step - loss: 1.1219 - accuracy: 0.6398 - val_loss: 31.8608 - val_accuracy: 0.0533\n",
            "Epoch 283/500\n",
            "3/3 [==============================] - 0s 48ms/step - loss: 1.0605 - accuracy: 0.6594 - val_loss: 31.9966 - val_accuracy: 0.0533\n",
            "Epoch 284/500\n",
            "3/3 [==============================] - 0s 57ms/step - loss: 1.1083 - accuracy: 0.6427 - val_loss: 32.1143 - val_accuracy: 0.0533\n",
            "Epoch 285/500\n",
            "3/3 [==============================] - 0s 49ms/step - loss: 1.0919 - accuracy: 0.6387 - val_loss: 32.4058 - val_accuracy: 0.0533\n",
            "Epoch 286/500\n",
            "3/3 [==============================] - 0s 49ms/step - loss: 1.0145 - accuracy: 0.6687 - val_loss: 32.5036 - val_accuracy: 0.0400\n",
            "Epoch 287/500\n",
            "3/3 [==============================] - 0s 55ms/step - loss: 1.0660 - accuracy: 0.6577 - val_loss: 32.3664 - val_accuracy: 0.0400\n",
            "Epoch 288/500\n",
            "3/3 [==============================] - 0s 57ms/step - loss: 1.0352 - accuracy: 0.6656 - val_loss: 32.4051 - val_accuracy: 0.0400\n",
            "Epoch 289/500\n",
            "3/3 [==============================] - 0s 46ms/step - loss: 1.0010 - accuracy: 0.6584 - val_loss: 32.7989 - val_accuracy: 0.0400\n",
            "Epoch 290/500\n",
            "3/3 [==============================] - 0s 56ms/step - loss: 1.0927 - accuracy: 0.6506 - val_loss: 32.9101 - val_accuracy: 0.0400\n",
            "Epoch 291/500\n",
            "3/3 [==============================] - 0s 54ms/step - loss: 1.0682 - accuracy: 0.6510 - val_loss: 32.8438 - val_accuracy: 0.0400\n",
            "Epoch 292/500\n",
            "3/3 [==============================] - 0s 55ms/step - loss: 1.0529 - accuracy: 0.6602 - val_loss: 32.9358 - val_accuracy: 0.0400\n",
            "Epoch 293/500\n",
            "3/3 [==============================] - 0s 54ms/step - loss: 1.1082 - accuracy: 0.6319 - val_loss: 32.7160 - val_accuracy: 0.0400\n",
            "Epoch 294/500\n",
            "3/3 [==============================] - 0s 60ms/step - loss: 1.0437 - accuracy: 0.6676 - val_loss: 32.7904 - val_accuracy: 0.0400\n",
            "Epoch 295/500\n",
            "3/3 [==============================] - 0s 47ms/step - loss: 1.0298 - accuracy: 0.6732 - val_loss: 32.9829 - val_accuracy: 0.0400\n",
            "Epoch 296/500\n",
            "3/3 [==============================] - 0s 52ms/step - loss: 0.9743 - accuracy: 0.6747 - val_loss: 33.0764 - val_accuracy: 0.0400\n",
            "Epoch 297/500\n",
            "3/3 [==============================] - 0s 52ms/step - loss: 1.0088 - accuracy: 0.6672 - val_loss: 33.1122 - val_accuracy: 0.0400\n",
            "Epoch 298/500\n",
            "3/3 [==============================] - 0s 46ms/step - loss: 1.0342 - accuracy: 0.6610 - val_loss: 33.4045 - val_accuracy: 0.0400\n",
            "Epoch 299/500\n",
            "3/3 [==============================] - 0s 50ms/step - loss: 1.0210 - accuracy: 0.6695 - val_loss: 33.4978 - val_accuracy: 0.0400\n",
            "Epoch 300/500\n",
            "3/3 [==============================] - 0s 50ms/step - loss: 0.9891 - accuracy: 0.6806 - val_loss: 33.1900 - val_accuracy: 0.0400\n",
            "Epoch 301/500\n",
            "3/3 [==============================] - 0s 56ms/step - loss: 1.0175 - accuracy: 0.6757 - val_loss: 33.4031 - val_accuracy: 0.0400\n",
            "Epoch 302/500\n",
            "3/3 [==============================] - 0s 51ms/step - loss: 1.0464 - accuracy: 0.6723 - val_loss: 33.6151 - val_accuracy: 0.0400\n",
            "Epoch 303/500\n",
            "3/3 [==============================] - 0s 51ms/step - loss: 0.9806 - accuracy: 0.6980 - val_loss: 33.6551 - val_accuracy: 0.0400\n",
            "Epoch 304/500\n",
            "3/3 [==============================] - 0s 48ms/step - loss: 0.9047 - accuracy: 0.7071 - val_loss: 33.7873 - val_accuracy: 0.0400\n",
            "Epoch 305/500\n",
            "3/3 [==============================] - 0s 52ms/step - loss: 0.9719 - accuracy: 0.7249 - val_loss: 33.6665 - val_accuracy: 0.0667\n",
            "Epoch 306/500\n",
            "3/3 [==============================] - 0s 50ms/step - loss: 0.9741 - accuracy: 0.6830 - val_loss: 33.5522 - val_accuracy: 0.0533\n",
            "Epoch 307/500\n",
            "3/3 [==============================] - 0s 57ms/step - loss: 0.9713 - accuracy: 0.6760 - val_loss: 33.6675 - val_accuracy: 0.0533\n",
            "Epoch 308/500\n",
            "3/3 [==============================] - 0s 50ms/step - loss: 0.9160 - accuracy: 0.6966 - val_loss: 33.7490 - val_accuracy: 0.0667\n",
            "Epoch 309/500\n",
            "3/3 [==============================] - 0s 47ms/step - loss: 0.9406 - accuracy: 0.6784 - val_loss: 33.7352 - val_accuracy: 0.0533\n",
            "Epoch 310/500\n",
            "3/3 [==============================] - 0s 49ms/step - loss: 0.9492 - accuracy: 0.7015 - val_loss: 33.7242 - val_accuracy: 0.0400\n",
            "Epoch 311/500\n",
            "3/3 [==============================] - 0s 109ms/step - loss: 0.9224 - accuracy: 0.6895 - val_loss: 33.6418 - val_accuracy: 0.0400\n",
            "Epoch 312/500\n",
            "3/3 [==============================] - 0s 58ms/step - loss: 0.9314 - accuracy: 0.7018 - val_loss: 33.8484 - val_accuracy: 0.0533\n",
            "Epoch 313/500\n",
            "3/3 [==============================] - 0s 63ms/step - loss: 0.9614 - accuracy: 0.7030 - val_loss: 34.0846 - val_accuracy: 0.0400\n",
            "Epoch 314/500\n",
            "3/3 [==============================] - 0s 47ms/step - loss: 0.9105 - accuracy: 0.7115 - val_loss: 33.9903 - val_accuracy: 0.0400\n",
            "Epoch 315/500\n",
            "3/3 [==============================] - 0s 54ms/step - loss: 0.9551 - accuracy: 0.6768 - val_loss: 34.1602 - val_accuracy: 0.0400\n",
            "Epoch 316/500\n",
            "3/3 [==============================] - 0s 55ms/step - loss: 0.8576 - accuracy: 0.7271 - val_loss: 34.3899 - val_accuracy: 0.0400\n",
            "Epoch 317/500\n",
            "3/3 [==============================] - 0s 54ms/step - loss: 1.0307 - accuracy: 0.6605 - val_loss: 34.1413 - val_accuracy: 0.0533\n",
            "Epoch 318/500\n",
            "3/3 [==============================] - 0s 60ms/step - loss: 0.9072 - accuracy: 0.7122 - val_loss: 34.1018 - val_accuracy: 0.0533\n",
            "Epoch 319/500\n",
            "3/3 [==============================] - 0s 56ms/step - loss: 0.9703 - accuracy: 0.6826 - val_loss: 34.3132 - val_accuracy: 0.0533\n",
            "Epoch 320/500\n",
            "3/3 [==============================] - 0s 58ms/step - loss: 0.9266 - accuracy: 0.7116 - val_loss: 34.3506 - val_accuracy: 0.0533\n",
            "Epoch 321/500\n",
            "3/3 [==============================] - 0s 55ms/step - loss: 0.8649 - accuracy: 0.7258 - val_loss: 34.5090 - val_accuracy: 0.0533\n",
            "Epoch 322/500\n",
            "3/3 [==============================] - 0s 55ms/step - loss: 0.8623 - accuracy: 0.7243 - val_loss: 34.6979 - val_accuracy: 0.0533\n",
            "Epoch 323/500\n",
            "3/3 [==============================] - 0s 56ms/step - loss: 0.8999 - accuracy: 0.7032 - val_loss: 34.6646 - val_accuracy: 0.0533\n",
            "Epoch 324/500\n",
            "3/3 [==============================] - 0s 55ms/step - loss: 0.8825 - accuracy: 0.7216 - val_loss: 34.6366 - val_accuracy: 0.0533\n",
            "Epoch 325/500\n",
            "3/3 [==============================] - 0s 50ms/step - loss: 0.9301 - accuracy: 0.6935 - val_loss: 34.8312 - val_accuracy: 0.0400\n",
            "Epoch 326/500\n",
            "3/3 [==============================] - 0s 55ms/step - loss: 0.8838 - accuracy: 0.7141 - val_loss: 34.9704 - val_accuracy: 0.0400\n",
            "Epoch 327/500\n",
            "3/3 [==============================] - 0s 54ms/step - loss: 0.8289 - accuracy: 0.7189 - val_loss: 35.0032 - val_accuracy: 0.0400\n",
            "Epoch 328/500\n",
            "3/3 [==============================] - 0s 54ms/step - loss: 0.8305 - accuracy: 0.7037 - val_loss: 35.1569 - val_accuracy: 0.0400\n",
            "Epoch 329/500\n",
            "3/3 [==============================] - 0s 53ms/step - loss: 0.8743 - accuracy: 0.7018 - val_loss: 35.4782 - val_accuracy: 0.0667\n",
            "Epoch 330/500\n",
            "3/3 [==============================] - 0s 53ms/step - loss: 0.8343 - accuracy: 0.7096 - val_loss: 35.4944 - val_accuracy: 0.0667\n",
            "Epoch 331/500\n",
            "3/3 [==============================] - 0s 49ms/step - loss: 0.8173 - accuracy: 0.7418 - val_loss: 35.2353 - val_accuracy: 0.0667\n",
            "Epoch 332/500\n",
            "3/3 [==============================] - 0s 52ms/step - loss: 0.8580 - accuracy: 0.7055 - val_loss: 35.2394 - val_accuracy: 0.0533\n",
            "Epoch 333/500\n",
            "3/3 [==============================] - 0s 59ms/step - loss: 0.8386 - accuracy: 0.7106 - val_loss: 35.4037 - val_accuracy: 0.0667\n",
            "Epoch 334/500\n",
            "3/3 [==============================] - 0s 51ms/step - loss: 0.8347 - accuracy: 0.7249 - val_loss: 35.3906 - val_accuracy: 0.0667\n",
            "Epoch 335/500\n",
            "3/3 [==============================] - 0s 54ms/step - loss: 0.7363 - accuracy: 0.7652 - val_loss: 35.2433 - val_accuracy: 0.0533\n",
            "Epoch 336/500\n",
            "3/3 [==============================] - 0s 56ms/step - loss: 0.7984 - accuracy: 0.7330 - val_loss: 35.3069 - val_accuracy: 0.0533\n",
            "Epoch 337/500\n",
            "3/3 [==============================] - 0s 57ms/step - loss: 0.8810 - accuracy: 0.7052 - val_loss: 35.6489 - val_accuracy: 0.0533\n",
            "Epoch 338/500\n",
            "3/3 [==============================] - 0s 49ms/step - loss: 0.7804 - accuracy: 0.7487 - val_loss: 36.0027 - val_accuracy: 0.0533\n",
            "Epoch 339/500\n",
            "3/3 [==============================] - 0s 51ms/step - loss: 0.7745 - accuracy: 0.7494 - val_loss: 36.1470 - val_accuracy: 0.0533\n",
            "Epoch 340/500\n",
            "3/3 [==============================] - 0s 57ms/step - loss: 0.8004 - accuracy: 0.7377 - val_loss: 36.0861 - val_accuracy: 0.0667\n",
            "Epoch 341/500\n",
            "3/3 [==============================] - 0s 54ms/step - loss: 0.8181 - accuracy: 0.7077 - val_loss: 36.0736 - val_accuracy: 0.0667\n",
            "Epoch 342/500\n",
            "3/3 [==============================] - 0s 49ms/step - loss: 0.7935 - accuracy: 0.7354 - val_loss: 36.2605 - val_accuracy: 0.0667\n",
            "Epoch 343/500\n",
            "3/3 [==============================] - 0s 54ms/step - loss: 0.8513 - accuracy: 0.7086 - val_loss: 36.2399 - val_accuracy: 0.0533\n",
            "Epoch 344/500\n",
            "3/3 [==============================] - 0s 51ms/step - loss: 0.7980 - accuracy: 0.7538 - val_loss: 36.1283 - val_accuracy: 0.0400\n",
            "Epoch 345/500\n",
            "3/3 [==============================] - 0s 53ms/step - loss: 0.8445 - accuracy: 0.7273 - val_loss: 36.1427 - val_accuracy: 0.0400\n",
            "Epoch 346/500\n",
            "3/3 [==============================] - 0s 59ms/step - loss: 0.7804 - accuracy: 0.7342 - val_loss: 36.3955 - val_accuracy: 0.0400\n",
            "Epoch 347/500\n",
            "3/3 [==============================] - 0s 59ms/step - loss: 0.8230 - accuracy: 0.7261 - val_loss: 36.4188 - val_accuracy: 0.0533\n",
            "Epoch 348/500\n",
            "3/3 [==============================] - 0s 55ms/step - loss: 0.7775 - accuracy: 0.7436 - val_loss: 36.2964 - val_accuracy: 0.0400\n",
            "Epoch 349/500\n",
            "3/3 [==============================] - 0s 54ms/step - loss: 0.7656 - accuracy: 0.7566 - val_loss: 36.2503 - val_accuracy: 0.0533\n",
            "Epoch 350/500\n",
            "3/3 [==============================] - 0s 55ms/step - loss: 0.7927 - accuracy: 0.7542 - val_loss: 36.3365 - val_accuracy: 0.0533\n",
            "Epoch 351/500\n",
            "3/3 [==============================] - 0s 59ms/step - loss: 0.7692 - accuracy: 0.7566 - val_loss: 36.3794 - val_accuracy: 0.0533\n",
            "Epoch 352/500\n",
            "3/3 [==============================] - 0s 53ms/step - loss: 0.7630 - accuracy: 0.7518 - val_loss: 36.4164 - val_accuracy: 0.0533\n",
            "Epoch 353/500\n",
            "3/3 [==============================] - 0s 55ms/step - loss: 0.8431 - accuracy: 0.7325 - val_loss: 36.5386 - val_accuracy: 0.0667\n",
            "Epoch 354/500\n",
            "3/3 [==============================] - 0s 54ms/step - loss: 0.8128 - accuracy: 0.7388 - val_loss: 36.5307 - val_accuracy: 0.0667\n",
            "Epoch 355/500\n",
            "3/3 [==============================] - 0s 53ms/step - loss: 0.7340 - accuracy: 0.7640 - val_loss: 36.4676 - val_accuracy: 0.0533\n",
            "Epoch 356/500\n",
            "3/3 [==============================] - 0s 56ms/step - loss: 0.7608 - accuracy: 0.7777 - val_loss: 36.5429 - val_accuracy: 0.0533\n",
            "Epoch 357/500\n",
            "3/3 [==============================] - 0s 50ms/step - loss: 0.7407 - accuracy: 0.7573 - val_loss: 36.7103 - val_accuracy: 0.0533\n",
            "Epoch 358/500\n",
            "3/3 [==============================] - 0s 51ms/step - loss: 0.7137 - accuracy: 0.7514 - val_loss: 36.6152 - val_accuracy: 0.0400\n",
            "Epoch 359/500\n",
            "3/3 [==============================] - 0s 52ms/step - loss: 0.7973 - accuracy: 0.7423 - val_loss: 36.5824 - val_accuracy: 0.0400\n",
            "Epoch 360/500\n",
            "3/3 [==============================] - 0s 57ms/step - loss: 0.6919 - accuracy: 0.7851 - val_loss: 36.8082 - val_accuracy: 0.0400\n",
            "Epoch 361/500\n",
            "3/3 [==============================] - 0s 47ms/step - loss: 0.7475 - accuracy: 0.7595 - val_loss: 36.8853 - val_accuracy: 0.0400\n",
            "Epoch 362/500\n",
            "3/3 [==============================] - 0s 56ms/step - loss: 0.7146 - accuracy: 0.7661 - val_loss: 36.8089 - val_accuracy: 0.0400\n",
            "Epoch 363/500\n",
            "3/3 [==============================] - 0s 53ms/step - loss: 0.7167 - accuracy: 0.7642 - val_loss: 36.9038 - val_accuracy: 0.0533\n",
            "Epoch 364/500\n",
            "3/3 [==============================] - 0s 51ms/step - loss: 0.7009 - accuracy: 0.7494 - val_loss: 37.0650 - val_accuracy: 0.0533\n",
            "Epoch 365/500\n",
            "3/3 [==============================] - 0s 47ms/step - loss: 0.7793 - accuracy: 0.7472 - val_loss: 37.0353 - val_accuracy: 0.0533\n",
            "Epoch 366/500\n",
            "3/3 [==============================] - 0s 55ms/step - loss: 0.7126 - accuracy: 0.7542 - val_loss: 37.1118 - val_accuracy: 0.0400\n",
            "Epoch 367/500\n",
            "3/3 [==============================] - 0s 58ms/step - loss: 0.7138 - accuracy: 0.7644 - val_loss: 37.2810 - val_accuracy: 0.0533\n",
            "Epoch 368/500\n",
            "3/3 [==============================] - 0s 52ms/step - loss: 0.6974 - accuracy: 0.7463 - val_loss: 37.4232 - val_accuracy: 0.0533\n",
            "Epoch 369/500\n",
            "3/3 [==============================] - 0s 54ms/step - loss: 0.7403 - accuracy: 0.7610 - val_loss: 37.3086 - val_accuracy: 0.0533\n",
            "Epoch 370/500\n",
            "3/3 [==============================] - 0s 51ms/step - loss: 0.7054 - accuracy: 0.7732 - val_loss: 37.3738 - val_accuracy: 0.0400\n",
            "Epoch 371/500\n",
            "3/3 [==============================] - 0s 102ms/step - loss: 0.6849 - accuracy: 0.7732 - val_loss: 37.6970 - val_accuracy: 0.0533\n",
            "Epoch 372/500\n",
            "3/3 [==============================] - 0s 54ms/step - loss: 0.6932 - accuracy: 0.7647 - val_loss: 37.8458 - val_accuracy: 0.0667\n",
            "Epoch 373/500\n",
            "3/3 [==============================] - 0s 56ms/step - loss: 0.6743 - accuracy: 0.7561 - val_loss: 37.7099 - val_accuracy: 0.0533\n",
            "Epoch 374/500\n",
            "3/3 [==============================] - 0s 55ms/step - loss: 0.6748 - accuracy: 0.7667 - val_loss: 37.7893 - val_accuracy: 0.0533\n",
            "Epoch 375/500\n",
            "3/3 [==============================] - 0s 52ms/step - loss: 0.6843 - accuracy: 0.7785 - val_loss: 37.9295 - val_accuracy: 0.0533\n",
            "Epoch 376/500\n",
            "3/3 [==============================] - 0s 53ms/step - loss: 0.7194 - accuracy: 0.7612 - val_loss: 38.0202 - val_accuracy: 0.0533\n",
            "Epoch 377/500\n",
            "3/3 [==============================] - 0s 51ms/step - loss: 0.7208 - accuracy: 0.7488 - val_loss: 38.0037 - val_accuracy: 0.0533\n",
            "Epoch 378/500\n",
            "3/3 [==============================] - 0s 48ms/step - loss: 0.6427 - accuracy: 0.7733 - val_loss: 38.0730 - val_accuracy: 0.0533\n",
            "Epoch 379/500\n",
            "3/3 [==============================] - 0s 49ms/step - loss: 0.6578 - accuracy: 0.7824 - val_loss: 38.1469 - val_accuracy: 0.0533\n",
            "Epoch 380/500\n",
            "3/3 [==============================] - 0s 51ms/step - loss: 0.6401 - accuracy: 0.7972 - val_loss: 37.9804 - val_accuracy: 0.0533\n",
            "Epoch 381/500\n",
            "3/3 [==============================] - 0s 58ms/step - loss: 0.6748 - accuracy: 0.7782 - val_loss: 37.7787 - val_accuracy: 0.0400\n",
            "Epoch 382/500\n",
            "3/3 [==============================] - 0s 57ms/step - loss: 0.6344 - accuracy: 0.8033 - val_loss: 37.7660 - val_accuracy: 0.0533\n",
            "Epoch 383/500\n",
            "3/3 [==============================] - 0s 57ms/step - loss: 0.6439 - accuracy: 0.7760 - val_loss: 37.9369 - val_accuracy: 0.0533\n",
            "Epoch 384/500\n",
            "3/3 [==============================] - 0s 56ms/step - loss: 0.6403 - accuracy: 0.7772 - val_loss: 38.1375 - val_accuracy: 0.0533\n",
            "Epoch 385/500\n",
            "3/3 [==============================] - 0s 50ms/step - loss: 0.6512 - accuracy: 0.7829 - val_loss: 38.2026 - val_accuracy: 0.0400\n",
            "Epoch 386/500\n",
            "3/3 [==============================] - 0s 50ms/step - loss: 0.6543 - accuracy: 0.7819 - val_loss: 38.4141 - val_accuracy: 0.0400\n",
            "Epoch 387/500\n",
            "3/3 [==============================] - 0s 52ms/step - loss: 0.6619 - accuracy: 0.7831 - val_loss: 38.4044 - val_accuracy: 0.0400\n",
            "Epoch 388/500\n",
            "3/3 [==============================] - 0s 55ms/step - loss: 0.6761 - accuracy: 0.7898 - val_loss: 38.5345 - val_accuracy: 0.0400\n",
            "Epoch 389/500\n",
            "3/3 [==============================] - 0s 55ms/step - loss: 0.6992 - accuracy: 0.7762 - val_loss: 38.5881 - val_accuracy: 0.0400\n",
            "Epoch 390/500\n",
            "3/3 [==============================] - 0s 47ms/step - loss: 0.6261 - accuracy: 0.7816 - val_loss: 38.6443 - val_accuracy: 0.0400\n",
            "Epoch 391/500\n",
            "3/3 [==============================] - 0s 55ms/step - loss: 0.6174 - accuracy: 0.8026 - val_loss: 38.7487 - val_accuracy: 0.0400\n",
            "Epoch 392/500\n",
            "3/3 [==============================] - 0s 50ms/step - loss: 0.6249 - accuracy: 0.7959 - val_loss: 38.8405 - val_accuracy: 0.0533\n",
            "Epoch 393/500\n",
            "3/3 [==============================] - 0s 56ms/step - loss: 0.7031 - accuracy: 0.7751 - val_loss: 38.8163 - val_accuracy: 0.0400\n",
            "Epoch 394/500\n",
            "3/3 [==============================] - 0s 50ms/step - loss: 0.6465 - accuracy: 0.7870 - val_loss: 38.7569 - val_accuracy: 0.0400\n",
            "Epoch 395/500\n",
            "3/3 [==============================] - 0s 47ms/step - loss: 0.6674 - accuracy: 0.7910 - val_loss: 38.7585 - val_accuracy: 0.0400\n",
            "Epoch 396/500\n",
            "3/3 [==============================] - 0s 51ms/step - loss: 0.6447 - accuracy: 0.7908 - val_loss: 38.8129 - val_accuracy: 0.0400\n",
            "Epoch 397/500\n",
            "3/3 [==============================] - 0s 57ms/step - loss: 0.6471 - accuracy: 0.7807 - val_loss: 38.7465 - val_accuracy: 0.0400\n",
            "Epoch 398/500\n",
            "3/3 [==============================] - 0s 48ms/step - loss: 0.6809 - accuracy: 0.7703 - val_loss: 38.7155 - val_accuracy: 0.0400\n",
            "Epoch 399/500\n",
            "3/3 [==============================] - 0s 54ms/step - loss: 0.6709 - accuracy: 0.7787 - val_loss: 38.7463 - val_accuracy: 0.0400\n",
            "Epoch 400/500\n",
            "3/3 [==============================] - 0s 59ms/step - loss: 0.6172 - accuracy: 0.8086 - val_loss: 38.9079 - val_accuracy: 0.0400\n",
            "Epoch 401/500\n",
            "3/3 [==============================] - 0s 56ms/step - loss: 0.6268 - accuracy: 0.7974 - val_loss: 38.9517 - val_accuracy: 0.0400\n",
            "Epoch 402/500\n",
            "3/3 [==============================] - 0s 47ms/step - loss: 0.6447 - accuracy: 0.7679 - val_loss: 38.8578 - val_accuracy: 0.0400\n",
            "Epoch 403/500\n",
            "3/3 [==============================] - 0s 50ms/step - loss: 0.5804 - accuracy: 0.8075 - val_loss: 38.8234 - val_accuracy: 0.0400\n",
            "Epoch 404/500\n",
            "3/3 [==============================] - 0s 53ms/step - loss: 0.6041 - accuracy: 0.8018 - val_loss: 38.9910 - val_accuracy: 0.0400\n",
            "Epoch 405/500\n",
            "3/3 [==============================] - 0s 50ms/step - loss: 0.6055 - accuracy: 0.8038 - val_loss: 39.0683 - val_accuracy: 0.0400\n",
            "Epoch 406/500\n",
            "3/3 [==============================] - 0s 55ms/step - loss: 0.5746 - accuracy: 0.8041 - val_loss: 39.1786 - val_accuracy: 0.0533\n",
            "Epoch 407/500\n",
            "3/3 [==============================] - 0s 57ms/step - loss: 0.6030 - accuracy: 0.7957 - val_loss: 39.3073 - val_accuracy: 0.0533\n",
            "Epoch 408/500\n",
            "3/3 [==============================] - 0s 50ms/step - loss: 0.6286 - accuracy: 0.7770 - val_loss: 39.3919 - val_accuracy: 0.0533\n",
            "Epoch 409/500\n",
            "3/3 [==============================] - 0s 61ms/step - loss: 0.6018 - accuracy: 0.8160 - val_loss: 39.6961 - val_accuracy: 0.0533\n",
            "Epoch 410/500\n",
            "3/3 [==============================] - 0s 47ms/step - loss: 0.5780 - accuracy: 0.8102 - val_loss: 39.7579 - val_accuracy: 0.0400\n",
            "Epoch 411/500\n",
            "3/3 [==============================] - 0s 54ms/step - loss: 0.5985 - accuracy: 0.7860 - val_loss: 39.7444 - val_accuracy: 0.0400\n",
            "Epoch 412/500\n",
            "3/3 [==============================] - 0s 54ms/step - loss: 0.5864 - accuracy: 0.7976 - val_loss: 39.7809 - val_accuracy: 0.0533\n",
            "Epoch 413/500\n",
            "3/3 [==============================] - 0s 53ms/step - loss: 0.5771 - accuracy: 0.7977 - val_loss: 39.8777 - val_accuracy: 0.0533\n",
            "Epoch 414/500\n",
            "3/3 [==============================] - 0s 54ms/step - loss: 0.6267 - accuracy: 0.8036 - val_loss: 39.8870 - val_accuracy: 0.0533\n",
            "Epoch 415/500\n",
            "3/3 [==============================] - 0s 55ms/step - loss: 0.5911 - accuracy: 0.8200 - val_loss: 39.8921 - val_accuracy: 0.0400\n",
            "Epoch 416/500\n",
            "3/3 [==============================] - 0s 55ms/step - loss: 0.6154 - accuracy: 0.7571 - val_loss: 39.9766 - val_accuracy: 0.0400\n",
            "Epoch 417/500\n",
            "3/3 [==============================] - 0s 50ms/step - loss: 0.5947 - accuracy: 0.7974 - val_loss: 40.0881 - val_accuracy: 0.0533\n",
            "Epoch 418/500\n",
            "3/3 [==============================] - 0s 49ms/step - loss: 0.5544 - accuracy: 0.8289 - val_loss: 40.1025 - val_accuracy: 0.0533\n",
            "Epoch 419/500\n",
            "3/3 [==============================] - 0s 56ms/step - loss: 0.5436 - accuracy: 0.8005 - val_loss: 39.9672 - val_accuracy: 0.0533\n",
            "Epoch 420/500\n",
            "3/3 [==============================] - 0s 104ms/step - loss: 0.5621 - accuracy: 0.8055 - val_loss: 39.8668 - val_accuracy: 0.0533\n",
            "Epoch 421/500\n",
            "3/3 [==============================] - 0s 55ms/step - loss: 0.5621 - accuracy: 0.8112 - val_loss: 40.1254 - val_accuracy: 0.0667\n",
            "Epoch 422/500\n",
            "3/3 [==============================] - 0s 52ms/step - loss: 0.5787 - accuracy: 0.8053 - val_loss: 40.3379 - val_accuracy: 0.0667\n",
            "Epoch 423/500\n",
            "3/3 [==============================] - 0s 53ms/step - loss: 0.5758 - accuracy: 0.7925 - val_loss: 40.2039 - val_accuracy: 0.0667\n",
            "Epoch 424/500\n",
            "3/3 [==============================] - 0s 55ms/step - loss: 0.5724 - accuracy: 0.8134 - val_loss: 40.2824 - val_accuracy: 0.0533\n",
            "Epoch 425/500\n",
            "3/3 [==============================] - 0s 57ms/step - loss: 0.5618 - accuracy: 0.8220 - val_loss: 40.6067 - val_accuracy: 0.0533\n",
            "Epoch 426/500\n",
            "3/3 [==============================] - 0s 54ms/step - loss: 0.5759 - accuracy: 0.8129 - val_loss: 40.6023 - val_accuracy: 0.0533\n",
            "Epoch 427/500\n",
            "3/3 [==============================] - 0s 53ms/step - loss: 0.5643 - accuracy: 0.8087 - val_loss: 40.3089 - val_accuracy: 0.0533\n",
            "Epoch 428/500\n",
            "3/3 [==============================] - 0s 54ms/step - loss: 0.5628 - accuracy: 0.8178 - val_loss: 40.2787 - val_accuracy: 0.0533\n",
            "Epoch 429/500\n",
            "3/3 [==============================] - 0s 52ms/step - loss: 0.5569 - accuracy: 0.8205 - val_loss: 40.4529 - val_accuracy: 0.0533\n",
            "Epoch 430/500\n",
            "3/3 [==============================] - 0s 50ms/step - loss: 0.5074 - accuracy: 0.8300 - val_loss: 40.6619 - val_accuracy: 0.0533\n",
            "Epoch 431/500\n",
            "3/3 [==============================] - 0s 49ms/step - loss: 0.5509 - accuracy: 0.8290 - val_loss: 40.7977 - val_accuracy: 0.0533\n",
            "Epoch 432/500\n",
            "3/3 [==============================] - 0s 57ms/step - loss: 0.4876 - accuracy: 0.8428 - val_loss: 40.8745 - val_accuracy: 0.0533\n",
            "Epoch 433/500\n",
            "3/3 [==============================] - 0s 51ms/step - loss: 0.5206 - accuracy: 0.8350 - val_loss: 40.9095 - val_accuracy: 0.0533\n",
            "Epoch 434/500\n",
            "3/3 [==============================] - 0s 54ms/step - loss: 0.5759 - accuracy: 0.8375 - val_loss: 41.0075 - val_accuracy: 0.0533\n",
            "Epoch 435/500\n",
            "3/3 [==============================] - 0s 51ms/step - loss: 0.4721 - accuracy: 0.8490 - val_loss: 41.1745 - val_accuracy: 0.0533\n",
            "Epoch 436/500\n",
            "3/3 [==============================] - 0s 54ms/step - loss: 0.5317 - accuracy: 0.8260 - val_loss: 41.2088 - val_accuracy: 0.0533\n",
            "Epoch 437/500\n",
            "3/3 [==============================] - 0s 53ms/step - loss: 0.5176 - accuracy: 0.8200 - val_loss: 41.2367 - val_accuracy: 0.0533\n",
            "Epoch 438/500\n",
            "3/3 [==============================] - 0s 53ms/step - loss: 0.5109 - accuracy: 0.8188 - val_loss: 41.4133 - val_accuracy: 0.0533\n",
            "Epoch 439/500\n",
            "3/3 [==============================] - 0s 56ms/step - loss: 0.5505 - accuracy: 0.8416 - val_loss: 41.6365 - val_accuracy: 0.0533\n",
            "Epoch 440/500\n",
            "3/3 [==============================] - 0s 54ms/step - loss: 0.5625 - accuracy: 0.8266 - val_loss: 41.7182 - val_accuracy: 0.0533\n",
            "Epoch 441/500\n",
            "3/3 [==============================] - 0s 49ms/step - loss: 0.5845 - accuracy: 0.8097 - val_loss: 41.6050 - val_accuracy: 0.0533\n",
            "Epoch 442/500\n",
            "3/3 [==============================] - 0s 56ms/step - loss: 0.5838 - accuracy: 0.8240 - val_loss: 41.6315 - val_accuracy: 0.0533\n",
            "Epoch 443/500\n",
            "3/3 [==============================] - 0s 50ms/step - loss: 0.5167 - accuracy: 0.8423 - val_loss: 41.7318 - val_accuracy: 0.0533\n",
            "Epoch 444/500\n",
            "3/3 [==============================] - 0s 48ms/step - loss: 0.5201 - accuracy: 0.8254 - val_loss: 41.7038 - val_accuracy: 0.0533\n",
            "Epoch 445/500\n",
            "3/3 [==============================] - 0s 51ms/step - loss: 0.4943 - accuracy: 0.8406 - val_loss: 41.5198 - val_accuracy: 0.0533\n",
            "Epoch 446/500\n",
            "3/3 [==============================] - 0s 58ms/step - loss: 0.5346 - accuracy: 0.8072 - val_loss: 41.4611 - val_accuracy: 0.0533\n",
            "Epoch 447/500\n",
            "3/3 [==============================] - 0s 56ms/step - loss: 0.5478 - accuracy: 0.8259 - val_loss: 41.4633 - val_accuracy: 0.0533\n",
            "Epoch 448/500\n",
            "3/3 [==============================] - 0s 57ms/step - loss: 0.4908 - accuracy: 0.8421 - val_loss: 41.7047 - val_accuracy: 0.0533\n",
            "Epoch 449/500\n",
            "3/3 [==============================] - 0s 55ms/step - loss: 0.5299 - accuracy: 0.8362 - val_loss: 41.5422 - val_accuracy: 0.0533\n",
            "Epoch 450/500\n",
            "3/3 [==============================] - 0s 53ms/step - loss: 0.5263 - accuracy: 0.8296 - val_loss: 41.2872 - val_accuracy: 0.0533\n",
            "Epoch 451/500\n",
            "3/3 [==============================] - 0s 49ms/step - loss: 0.5476 - accuracy: 0.8242 - val_loss: 41.3893 - val_accuracy: 0.0533\n",
            "Epoch 452/500\n",
            "3/3 [==============================] - 0s 55ms/step - loss: 0.5156 - accuracy: 0.8085 - val_loss: 41.5013 - val_accuracy: 0.0533\n",
            "Epoch 453/500\n",
            "3/3 [==============================] - 0s 57ms/step - loss: 0.5075 - accuracy: 0.8247 - val_loss: 41.5509 - val_accuracy: 0.0533\n",
            "Epoch 454/500\n",
            "3/3 [==============================] - 0s 53ms/step - loss: 0.5205 - accuracy: 0.8186 - val_loss: 41.7924 - val_accuracy: 0.0533\n",
            "Epoch 455/500\n",
            "3/3 [==============================] - 0s 56ms/step - loss: 0.5392 - accuracy: 0.8323 - val_loss: 41.9074 - val_accuracy: 0.0533\n",
            "Epoch 456/500\n",
            "3/3 [==============================] - 0s 56ms/step - loss: 0.5338 - accuracy: 0.8105 - val_loss: 41.7116 - val_accuracy: 0.0533\n",
            "Epoch 457/500\n",
            "3/3 [==============================] - 0s 50ms/step - loss: 0.4597 - accuracy: 0.8471 - val_loss: 41.6880 - val_accuracy: 0.0400\n",
            "Epoch 458/500\n",
            "3/3 [==============================] - 0s 53ms/step - loss: 0.6000 - accuracy: 0.8046 - val_loss: 41.8362 - val_accuracy: 0.0400\n",
            "Epoch 459/500\n",
            "3/3 [==============================] - 0s 52ms/step - loss: 0.5270 - accuracy: 0.8151 - val_loss: 41.9734 - val_accuracy: 0.0533\n",
            "Epoch 460/500\n",
            "3/3 [==============================] - 0s 52ms/step - loss: 0.5076 - accuracy: 0.8274 - val_loss: 41.8608 - val_accuracy: 0.0533\n",
            "Epoch 461/500\n",
            "3/3 [==============================] - 0s 58ms/step - loss: 0.4972 - accuracy: 0.8283 - val_loss: 41.8447 - val_accuracy: 0.0533\n",
            "Epoch 462/500\n",
            "3/3 [==============================] - 0s 56ms/step - loss: 0.4902 - accuracy: 0.8456 - val_loss: 42.0038 - val_accuracy: 0.0533\n",
            "Epoch 463/500\n",
            "3/3 [==============================] - 0s 53ms/step - loss: 0.4303 - accuracy: 0.8562 - val_loss: 42.2139 - val_accuracy: 0.0533\n",
            "Epoch 464/500\n",
            "3/3 [==============================] - 0s 57ms/step - loss: 0.4620 - accuracy: 0.8335 - val_loss: 42.2350 - val_accuracy: 0.0533\n",
            "Epoch 465/500\n",
            "3/3 [==============================] - 0s 50ms/step - loss: 0.4633 - accuracy: 0.8416 - val_loss: 42.2063 - val_accuracy: 0.0533\n",
            "Epoch 466/500\n",
            "3/3 [==============================] - 0s 53ms/step - loss: 0.4895 - accuracy: 0.8410 - val_loss: 42.1912 - val_accuracy: 0.0533\n",
            "Epoch 467/500\n",
            "3/3 [==============================] - 0s 53ms/step - loss: 0.4896 - accuracy: 0.8166 - val_loss: 42.1736 - val_accuracy: 0.0533\n",
            "Epoch 468/500\n",
            "3/3 [==============================] - 0s 54ms/step - loss: 0.4644 - accuracy: 0.8554 - val_loss: 42.2844 - val_accuracy: 0.0400\n",
            "Epoch 469/500\n",
            "3/3 [==============================] - 0s 59ms/step - loss: 0.5351 - accuracy: 0.8166 - val_loss: 42.3949 - val_accuracy: 0.0533\n",
            "Epoch 470/500\n",
            "3/3 [==============================] - 0s 49ms/step - loss: 0.4582 - accuracy: 0.8485 - val_loss: 42.3615 - val_accuracy: 0.0533\n",
            "Epoch 471/500\n",
            "3/3 [==============================] - 0s 51ms/step - loss: 0.4990 - accuracy: 0.8213 - val_loss: 42.2240 - val_accuracy: 0.0533\n",
            "Epoch 472/500\n",
            "3/3 [==============================] - 0s 55ms/step - loss: 0.4678 - accuracy: 0.8458 - val_loss: 42.2680 - val_accuracy: 0.0533\n",
            "Epoch 473/500\n",
            "3/3 [==============================] - 0s 51ms/step - loss: 0.4689 - accuracy: 0.8456 - val_loss: 42.5149 - val_accuracy: 0.0533\n",
            "Epoch 474/500\n",
            "3/3 [==============================] - 0s 56ms/step - loss: 0.4777 - accuracy: 0.8470 - val_loss: 42.5528 - val_accuracy: 0.0533\n",
            "Epoch 475/500\n",
            "3/3 [==============================] - 0s 51ms/step - loss: 0.4747 - accuracy: 0.8395 - val_loss: 42.5583 - val_accuracy: 0.0533\n",
            "Epoch 476/500\n",
            "3/3 [==============================] - 0s 57ms/step - loss: 0.4573 - accuracy: 0.8463 - val_loss: 42.6110 - val_accuracy: 0.0400\n",
            "Epoch 477/500\n",
            "3/3 [==============================] - 0s 53ms/step - loss: 0.4527 - accuracy: 0.8601 - val_loss: 42.5525 - val_accuracy: 0.0400\n",
            "Epoch 478/500\n",
            "3/3 [==============================] - 0s 47ms/step - loss: 0.4275 - accuracy: 0.8664 - val_loss: 42.4499 - val_accuracy: 0.0533\n",
            "Epoch 479/500\n",
            "3/3 [==============================] - 0s 55ms/step - loss: 0.4847 - accuracy: 0.8357 - val_loss: 42.4163 - val_accuracy: 0.0533\n",
            "Epoch 480/500\n",
            "3/3 [==============================] - 0s 53ms/step - loss: 0.4401 - accuracy: 0.8555 - val_loss: 42.4096 - val_accuracy: 0.0533\n",
            "Epoch 481/500\n",
            "3/3 [==============================] - 0s 63ms/step - loss: 0.4584 - accuracy: 0.8638 - val_loss: 42.5624 - val_accuracy: 0.0400\n",
            "Epoch 482/500\n",
            "3/3 [==============================] - 0s 105ms/step - loss: 0.4426 - accuracy: 0.8676 - val_loss: 42.7402 - val_accuracy: 0.0400\n",
            "Epoch 483/500\n",
            "3/3 [==============================] - 0s 57ms/step - loss: 0.5164 - accuracy: 0.8158 - val_loss: 42.8507 - val_accuracy: 0.0400\n",
            "Epoch 484/500\n",
            "3/3 [==============================] - 0s 54ms/step - loss: 0.4717 - accuracy: 0.8409 - val_loss: 42.9692 - val_accuracy: 0.0400\n",
            "Epoch 485/500\n",
            "3/3 [==============================] - 0s 54ms/step - loss: 0.4678 - accuracy: 0.8266 - val_loss: 42.8709 - val_accuracy: 0.0400\n",
            "Epoch 486/500\n",
            "3/3 [==============================] - 0s 54ms/step - loss: 0.4808 - accuracy: 0.8476 - val_loss: 42.7577 - val_accuracy: 0.0400\n",
            "Epoch 487/500\n",
            "3/3 [==============================] - 0s 55ms/step - loss: 0.4970 - accuracy: 0.8348 - val_loss: 42.8835 - val_accuracy: 0.0533\n",
            "Epoch 488/500\n",
            "3/3 [==============================] - 0s 55ms/step - loss: 0.4470 - accuracy: 0.8444 - val_loss: 43.0419 - val_accuracy: 0.0533\n",
            "Epoch 489/500\n",
            "3/3 [==============================] - 0s 51ms/step - loss: 0.4714 - accuracy: 0.8392 - val_loss: 43.0551 - val_accuracy: 0.0533\n",
            "Epoch 490/500\n",
            "3/3 [==============================] - 0s 57ms/step - loss: 0.4527 - accuracy: 0.8510 - val_loss: 42.9024 - val_accuracy: 0.0533\n",
            "Epoch 491/500\n",
            "3/3 [==============================] - 0s 55ms/step - loss: 0.4515 - accuracy: 0.8343 - val_loss: 42.8434 - val_accuracy: 0.0533\n",
            "Epoch 492/500\n",
            "3/3 [==============================] - 0s 47ms/step - loss: 0.4660 - accuracy: 0.8498 - val_loss: 42.9723 - val_accuracy: 0.0533\n",
            "Epoch 493/500\n",
            "3/3 [==============================] - 0s 57ms/step - loss: 0.4475 - accuracy: 0.8411 - val_loss: 43.0771 - val_accuracy: 0.0533\n",
            "Epoch 494/500\n",
            "3/3 [==============================] - 0s 53ms/step - loss: 0.4323 - accuracy: 0.8534 - val_loss: 43.1360 - val_accuracy: 0.0533\n",
            "Epoch 495/500\n",
            "3/3 [==============================] - 0s 49ms/step - loss: 0.4783 - accuracy: 0.8367 - val_loss: 43.1526 - val_accuracy: 0.0533\n",
            "Epoch 496/500\n",
            "3/3 [==============================] - 0s 47ms/step - loss: 0.3892 - accuracy: 0.8650 - val_loss: 43.3191 - val_accuracy: 0.0533\n",
            "Epoch 497/500\n",
            "3/3 [==============================] - 0s 51ms/step - loss: 0.4945 - accuracy: 0.8453 - val_loss: 43.4423 - val_accuracy: 0.0533\n",
            "Epoch 498/500\n",
            "3/3 [==============================] - 0s 53ms/step - loss: 0.4334 - accuracy: 0.8539 - val_loss: 43.4058 - val_accuracy: 0.0533\n",
            "Epoch 499/500\n",
            "3/3 [==============================] - 0s 55ms/step - loss: 0.4411 - accuracy: 0.8636 - val_loss: 43.3942 - val_accuracy: 0.0533\n",
            "Epoch 500/500\n",
            "3/3 [==============================] - 0s 58ms/step - loss: 0.3770 - accuracy: 0.8800 - val_loss: 43.5387 - val_accuracy: 0.0533\n"
          ],
          "name": "stdout"
        }
      ]
    },
    {
      "cell_type": "code",
      "metadata": {
        "colab": {
          "base_uri": "https://localhost:8080/",
          "height": 545
        },
        "id": "ERKr1h7oUFhk",
        "outputId": "4a78e938-1c43-4fce-8242-e36c5394d4ef"
      },
      "source": [
        "import matplotlib.pyplot as plt\r\n",
        "%matplotlib inline\r\n",
        "\r\n",
        "def plot_model(history):\r\n",
        "  plt.plot(history.history['loss'])\r\n",
        "  plt.plot(history.history['val_loss'])\r\n",
        "  plt.title('Training vs Validation Loss')\r\n",
        "  plt.legend(['Training Loss','Validation Loss'],loc='lower right')\r\n",
        "  plt.show()\r\n",
        "  plt.plot(history.history['accuracy'])\r\n",
        "  plt.plot(history.history['val_accuracy'])\r\n",
        "  plt.title('Training vs Validation Accuracy')\r\n",
        "  plt.legend(['Training Accuracy','Validation Accuracy'],loc='lower right')\r\n",
        "  plt.show()\r\n",
        "    \r\n",
        "plot_model(history)"
      ],
      "execution_count": 27,
      "outputs": [
        {
          "output_type": "display_data",
          "data": {
            "image/png": "[encoded data removed]",
            "text/plain": [
              "<Figure size 432x288 with 1 Axes>"
            ]
          },
          "metadata": {
            "tags": [],
            "needs_background": "light"
          }
        },
        {
          "output_type": "display_data",
          "data": {
            "image/png": "[encoded data removed]",
            "text/plain": [
              "<Figure size 432x288 with 1 Axes>"
            ]
          },
          "metadata": {
            "tags": [],
            "needs_background": "light"
          }
        }
      ]
    },
    {
      "cell_type": "code",
      "metadata": {
        "colab": {
          "base_uri": "https://localhost:8080/"
        },
        "id": "8P9AJDFiUriA",
        "outputId": "e35ff78a-b70b-482a-cef2-b2f325b17aaf"
      },
      "source": [
        "seed_text = \"I'm suffering in this dearth\"\r\n",
        "next_words = 50\r\n",
        "\r\n",
        "for _ in range(next_words):\r\n",
        "    # Create a token lists using tokenizer text sequences of the seed text\r\n",
        "    token_list = tk.texts_to_sequences([seed_text])[0]\r\n",
        "    \r\n",
        "    # Pre-pad the token list with the length of max_sequence_length-1\r\n",
        "    token_list_padded = pad_sequences([token_list], maxlen= max_sequence_length-1, padding= 'pre')\r\n",
        "    \r\n",
        "    # Predict the classe for the given token list \r\n",
        "    predicted = model.predict_classes(token_list_padded, verbose=0)\r\n",
        "\r\n",
        "    # Turn the token back into a word and add that to the seed text\r\n",
        "    output_word = \"\"\r\n",
        "    for word, index in tk.word_index.items():\r\n",
        "        if index == predicted:\r\n",
        "            output_word = word\r\n",
        "            break\r\n",
        "    seed_text += \" \" + output_word\r\n",
        "    \r\n",
        "print(seed_text)"
      ],
      "execution_count": 34,
      "outputs": [
        {
          "output_type": "stream",
          "text": [
            "/usr/local/lib/python3.6/dist-packages/tensorflow/python/keras/engine/sequential.py:450: UserWarning: `model.predict_classes()` is deprecated and will be removed after 2021-01-01. Please use instead:* `np.argmax(model.predict(x), axis=-1)`,   if your model does multi-class classification   (e.g. if it uses a `softmax` last-layer activation).* `(model.predict(x) > 0.5).astype(\"int32\")`,   if your model does binary classification   (e.g. if it uses a `sigmoid` last-layer activation).\n",
            "  warnings.warn('`model.predict_classes()` is deprecated and '\n"
          ],
          "name": "stderr"
        },
        {
          "output_type": "stream",
          "text": [
            "I'm suffering in this dearth you may as well country he he did did did to price covetous where be go you i pray you not not barren of accusations accusations did covetous you he that fathers fathers please our himself please remain remain remain remain good to good you way for you that poor\n"
          ],
          "name": "stdout"
        }
      ]
    },
    {
      "cell_type": "code",
      "metadata": {
        "id": "AaI2P4BUV0R9"
      },
      "source": [
        ""
      ],
      "execution_count": null,
      "outputs": []
    }
  ]
}