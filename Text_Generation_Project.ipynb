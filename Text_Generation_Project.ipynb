{
  "nbformat": 4,
  "nbformat_minor": 0,
  "metadata": {
    "colab": {
      "name": "Text Generation Project",
      "provenance": [],
      "authorship_tag": "ABX9TyPupE0iHB0xfldiA0UWsO1M",
      "include_colab_link": true
    },
    "kernelspec": {
      "name": "python3",
      "display_name": "Python 3"
    }
  },
  "cells": [
    {
      "cell_type": "markdown",
      "metadata": {
        "id": "view-in-github",
        "colab_type": "text"
      },
      "source": [
        "<a href=\"https://colab.research.google.com/github/achyutak/Projects/blob/main/Text_Generation_Project.ipynb\" target=\"_parent\"><img src=\"https://colab.research.google.com/assets/colab-badge.svg\" alt=\"Open In Colab\"/></a>"
      ]
    },
    {
      "cell_type": "markdown",
      "metadata": {
        "id": "CENoT4h9toaA"
      },
      "source": [
        "## Importing dataset"
      ]
    },
    {
      "cell_type": "code",
      "metadata": {
        "colab": {
          "base_uri": "https://localhost:8080/"
        },
        "id": "PnVAJQfOr1x2",
        "outputId": "64ed7698-04a9-4362-a87b-7e100a2da060"
      },
      "source": [
        "from keras.utils.data_utils import get_file\r\n",
        "path = get_file('shakespeare.txt',\r\n",
        "                origin = 'https://storage.googleapis.com/download.tensorflow.org/data/shakespeare.txt')"
      ],
      "execution_count": null,
      "outputs": [
        {
          "output_type": "stream",
          "text": [
            "Downloading data from https://storage.googleapis.com/download.tensorflow.org/data/shakespeare.txt\n",
            "1122304/1115394 [==============================] - 0s 0us/step\n"
          ],
          "name": "stdout"
        }
      ]
    },
    {
      "cell_type": "code",
      "metadata": {
        "colab": {
          "base_uri": "https://localhost:8080/"
        },
        "id": "TroNwASysXqY",
        "outputId": "1abcaf11-893f-41d8-fc1e-173293524398"
      },
      "source": [
        "with open(path, encoding='utf-8') as f:\r\n",
        "  text = f.read().lower()\r\n",
        "print('Length of Text: {} characters'.format(len(text)))"
      ],
      "execution_count": null,
      "outputs": [
        {
          "output_type": "stream",
          "text": [
            "Length of Text: 1115394 characters\n"
          ],
          "name": "stdout"
        }
      ]
    },
    {
      "cell_type": "markdown",
      "metadata": {
        "id": "btbVFrCl9K1U"
      },
      "source": [
        "## Creating a list of sentences from data taken"
      ]
    },
    {
      "cell_type": "code",
      "metadata": {
        "id": "r3GyF6YetMkH"
      },
      "source": [
        "print(text[:500])"
      ],
      "execution_count": null,
      "outputs": []
    },
    {
      "cell_type": "code",
      "metadata": {
        "id": "GNgkCnlMtWdq"
      },
      "source": [
        "data = text[:5000]\r\n",
        "# Taking only the first 5000 characters for building the model"
      ],
      "execution_count": null,
      "outputs": []
    },
    {
      "cell_type": "code",
      "metadata": {
        "id": "4E9GZ_tmtgYS"
      },
      "source": [
        "print(data)\r\n",
        "# The data we are taking to build the model."
      ],
      "execution_count": null,
      "outputs": []
    },
    {
      "cell_type": "code",
      "metadata": {
        "id": "kgpXmIqItje9",
        "colab": {
          "base_uri": "https://localhost:8080/",
          "height": 137
        },
        "outputId": "9547c37d-779c-4e54-b5d2-2272b7d27df0"
      },
      "source": [
        "# Understanding the data\r\n",
        "data"
      ],
      "execution_count": 12,
      "outputs": [
        {
          "output_type": "execute_result",
          "data": {
            "application/vnd.google.colaboratory.intrinsic+json": {
              "type": "string"
            },
            "text/plain": [
              "\"first citizen:\\nbefore we proceed any further, hear me speak.\\n\\nall:\\nspeak, speak.\\n\\nfirst citizen:\\nyou are all resolved rather to die than to famish?\\n\\nall:\\nresolved. resolved.\\n\\nfirst citizen:\\nfirst, you know caius marcius is chief enemy to the people.\\n\\nall:\\nwe know't, we know't.\\n\\nfirst citizen:\\nlet us kill him, and we'll have corn at our own price.\\nis't a verdict?\\n\\nall:\\nno more talking on't; let it be done: away, away!\\n\\nsecond citizen:\\none word, good citizens.\\n\\nfirst citizen:\\nwe are accounted poor citizens, the patricians good.\\nwhat authority surfeits on would relieve us: if they\\nwould yield us but the superfluity, while it were\\nwholesome, we might guess they relieved us humanely;\\nbut they think we are too dear: the leanness that\\nafflicts us, the object of our misery, is as an\\ninventory to particularise their abundance; our\\nsufferance is a gain to them let us revenge this with\\nour pikes, ere we become rakes: for the gods know i\\nspeak this in hunger for bread, not in thirst for revenge.\\n\\nsecond citizen:\\nwould you proceed especially against caius marcius?\\n\\nall:\\nagainst him first: he's a very dog to the commonalty.\\n\\nsecond citizen:\\nconsider you what services he has done for his country?\\n\\nfirst citizen:\\nvery well; and could be content to give him good\\nreport fort, but that he pays himself with being proud.\\n\\nsecond citizen:\\nnay, but speak not maliciously.\\n\\nfirst citizen:\\ni say unto you, what he hath done famously, he did\\nit to that end: though soft-conscienced men can be\\ncontent to say it was for his country he did it to\\nplease his mother and to be partly proud; which he\\nis, even till the altitude of his virtue.\\n\\nsecond citizen:\\nwhat he cannot help in his nature, you account a\\nvice in him. you must in no way say he is covetous.\\n\\nfirst citizen:\\nif i must not, i need not be barren of accusations;\\nhe hath faults, with surplus, to tire in repetition.\\nwhat shouts are these? the other side o' the city\\nis risen: why stay we prating here? to the capitol!\\n\\nall:\\ncome, come.\\n\\nfirst citizen:\\nsoft! who comes here?\\n\\nsecond citizen:\\nworthy menenius agrippa; one that hath always loved\\nthe people.\\n\\nfirst citizen:\\nhe's one honest enough: would all the rest were so!\\n\\nmenenius:\\nwhat work's, my countrymen, in hand? where go you\\nwith bats and clubs? the matter? speak, i pray you.\\n\\nfirst citizen:\\nour business is not unknown to the senate; they have\\nhad inkling this fortnight what we intend to do,\\nwhich now we'll show 'em in deeds. they say poor\\nsuitors have strong breaths: they shall know we\\nhave strong arms too.\\n\\nmenenius:\\nwhy, masters, my good friends, mine honest neighbours,\\nwill you undo yourselves?\\n\\nfirst citizen:\\nwe cannot, sir, we are undone already.\\n\\nmenenius:\\ni tell you, friends, most charitable care\\nhave the patricians of you. for your wants,\\nyour suffering in this dearth, you may as well\\nstrike at the heaven with your staves as lift them\\nagainst the roman state, whose course will on\\nthe way it takes, cracking ten thousand curbs\\nof more strong link asunder than can ever\\nappear in your impediment. for the dearth,\\nthe gods, not the patricians, make it, and\\nyour knees to them, not arms, must help. alack,\\nyou are transported by calamity\\nthither where more attends you, and you slander\\nthe helms o' the state, who care for you like fathers,\\nwhen you curse them as enemies.\\n\\nfirst citizen:\\ncare for us! true, indeed! they ne'er cared for us\\nyet: suffer us to famish, and their store-houses\\ncrammed with grain; make edicts for usury, to\\nsupport usurers; repeal daily any wholesome act\\nestablished against the rich, and provide more\\npiercing statutes daily, to chain up and restrain\\nthe poor. if the wars eat us not up, they will; and\\nthere's all the love they bear us.\\n\\nmenenius:\\neither you must\\nconfess yourselves wondrous malicious,\\nor be accused of folly. i shall tell you\\na pretty tale: it may be you have heard it;\\nbut, since it serves my purpose, i will venture\\nto stale 't a little more.\\n\\nfirst citizen:\\nwell, i'll hear it, sir: yet you must not think to\\nfob off our disgrace with a tale: but, an 't please\\nyou, deliver.\\n\\nmenenius:\\nthere was a time when all the body's members\\nrebell'd against the belly, thus accused it:\\nthat only like a gulf it did remain\\ni' the midst o' the body, idle and unactive,\\nstill cupboarding the viand, never bearing\\nlike labour with the rest, where the other instruments\\ndid see and hear, devise, instruct, walk, feel,\\nand, mutually participate, did minister\\nunto the appetite and affection common\\nof the whole body. the belly answer'd--\\n\\nfirst citizen:\\nwell, sir, what answer made the belly?\\n\\nmenenius:\\nsir, i shall tell you. with a kind of smile,\\nwhich ne'er came from the lungs, but even thus--\\nfor, look you, i may make the belly smile\\nas well as speak--it tauntingly replied\\nto the discontented members, the mutinous parts\\nthat envied his receipt; even so most fitly\\nas you malign our senators for that\\nthey are not such as you.\\n\\nfirst citizen:\\nyour belly's answer? what!\\nthe kingly-crowned head, the vigilant eye,\\nthe counsell\""
            ]
          },
          "metadata": {
            "tags": []
          },
          "execution_count": 12
        }
      ]
    },
    {
      "cell_type": "code",
      "metadata": {
        "id": "4dnS8m608JC9"
      },
      "source": [
        "#We see that all the lines are separated by a '\\n'.\r\n",
        "# Now we split the data into lines and create a corpus.\r\n",
        "corpus = data.split('\\n')"
      ],
      "execution_count": 13,
      "outputs": []
    },
    {
      "cell_type": "code",
      "metadata": {
        "colab": {
          "base_uri": "https://localhost:8080/"
        },
        "id": "b3yBalm48xpK",
        "outputId": "fdf69120-740e-404b-b6e7-e5684ee1f55d"
      },
      "source": [
        "corpus[:10]"
      ],
      "execution_count": 16,
      "outputs": [
        {
          "output_type": "execute_result",
          "data": {
            "text/plain": [
              "['first citizen:',\n",
              " 'before we proceed any further, hear me speak.',\n",
              " '',\n",
              " 'all:',\n",
              " 'speak, speak.',\n",
              " '',\n",
              " 'first citizen:',\n",
              " 'you are all resolved rather to die than to famish?',\n",
              " '',\n",
              " 'all:']"
            ]
          },
          "metadata": {
            "tags": []
          },
          "execution_count": 16
        }
      ]
    },
    {
      "cell_type": "markdown",
      "metadata": {
        "id": "z27OoIJkDwCK"
      },
      "source": [
        "The text still has a lot of punctuation marks and blank spaces. So, we use Tokenizer from keras to remove all the unnecessary pronunciation marks and create a dictionary of most frequent words in the datset.\r\n",
        "\r\n",
        "[Tokenizer:](https://keras.io/api/preprocessing/text/#tokenizer-class)\r\n",
        "This class allows to vectorize a text corpus, by turning each text into either a sequence of integers (each integer being the index of a token in a dictionary) or into a vector where the coefficient for each token could be binary, based on word count, based on tf-idf..."
      ]
    },
    {
      "cell_type": "markdown",
      "metadata": {
        "id": "vIrtgcFZFGz8"
      },
      "source": [
        "## Using Tokenizer class from tf.keras.preprocessing.text.Tokenizer"
      ]
    },
    {
      "cell_type": "code",
      "metadata": {
        "id": "CyzqlsJgDuOi"
      },
      "source": [
        "from tensorflow.keras.preprocessing.text import Tokenizer\r\n",
        "tk = Tokenizer(num_words=500, oov_token='<OOV>') #Only the most common 500 words are kept. Any words that are not available in the vocabulary are given as <OOV>\r\n",
        "tk.fit_on_texts(corpus)"
      ],
      "execution_count": null,
      "outputs": []
    }
  ]
}