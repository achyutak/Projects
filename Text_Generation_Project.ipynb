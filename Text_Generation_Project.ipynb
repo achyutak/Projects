{
  "nbformat": 4,
  "nbformat_minor": 0,
  "metadata": {
    "colab": {
      "name": "Text Generation Project",
      "provenance": [],
      "authorship_tag": "ABX9TyPLU35JYh+7Pz/83WctCCLN",
      "include_colab_link": true
    },
    "kernelspec": {
      "name": "python3",
      "display_name": "Python 3"
    }
  },
  "cells": [
    {
      "cell_type": "markdown",
      "metadata": {
        "id": "view-in-github",
        "colab_type": "text"
      },
      "source": [
        "<a href=\"https://colab.research.google.com/github/achyutak/Projects/blob/main/Text_Generation_Project.ipynb\" target=\"_parent\"><img src=\"https://colab.research.google.com/assets/colab-badge.svg\" alt=\"Open In Colab\"/></a>"
      ]
    },
    {
      "cell_type": "markdown",
      "metadata": {
        "id": "CENoT4h9toaA"
      },
      "source": [
        "## Importing dataset"
      ]
    },
    {
      "cell_type": "code",
      "metadata": {
        "colab": {
          "base_uri": "https://localhost:8080/"
        },
        "id": "PnVAJQfOr1x2",
        "outputId": "64ed7698-04a9-4362-a87b-7e100a2da060"
      },
      "source": [
        "from keras.utils.data_utils import get_file\r\n",
        "path = get_file('shakespeare.txt',\r\n",
        "                origin = 'https://storage.googleapis.com/download.tensorflow.org/data/shakespeare.txt')"
      ],
      "execution_count": null,
      "outputs": [
        {
          "output_type": "stream",
          "text": [
            "Downloading data from https://storage.googleapis.com/download.tensorflow.org/data/shakespeare.txt\n",
            "1122304/1115394 [==============================] - 0s 0us/step\n"
          ],
          "name": "stdout"
        }
      ]
    },
    {
      "cell_type": "code",
      "metadata": {
        "colab": {
          "base_uri": "https://localhost:8080/"
        },
        "id": "TroNwASysXqY",
        "outputId": "1abcaf11-893f-41d8-fc1e-173293524398"
      },
      "source": [
        "with open(path, encoding='utf-8') as f:\r\n",
        "  text = f.read().lower()\r\n",
        "print('Length of Text: {} characters'.format(len(text)))"
      ],
      "execution_count": null,
      "outputs": [
        {
          "output_type": "stream",
          "text": [
            "Length of Text: 1115394 characters\n"
          ],
          "name": "stdout"
        }
      ]
    },
    {
      "cell_type": "code",
      "metadata": {
        "colab": {
          "base_uri": "https://localhost:8080/"
        },
        "id": "r3GyF6YetMkH",
        "outputId": "45836255-4ba3-4ef7-c2de-442efc10c851"
      },
      "source": [
        "print(text[:500])"
      ],
      "execution_count": null,
      "outputs": [
        {
          "output_type": "stream",
          "text": [
            "first citizen:\n",
            "before we proceed any further, hear me speak.\n",
            "\n",
            "all:\n",
            "speak, speak.\n",
            "\n",
            "first citizen:\n",
            "you are all resolved rather to die than to famish?\n",
            "\n",
            "all:\n",
            "resolved. resolved.\n",
            "\n",
            "first citizen:\n",
            "first, you know caius marcius is chief enemy to the people.\n",
            "\n",
            "all:\n",
            "we know't, we know't.\n",
            "\n",
            "first citizen:\n",
            "let us kill him, and we'll have corn at our own price.\n",
            "is't a verdict?\n",
            "\n",
            "all:\n",
            "no more talking on't; let it be done: away, away!\n",
            "\n",
            "second citizen:\n",
            "one word, good citizens.\n",
            "\n",
            "first citizen:\n",
            "we are accounted poor\n"
          ],
          "name": "stdout"
        }
      ]
    },
    {
      "cell_type": "code",
      "metadata": {
        "id": "GNgkCnlMtWdq"
      },
      "source": [
        "data = text[:5000]\r\n",
        "# Taking only the first 5000 characters for building the model"
      ],
      "execution_count": null,
      "outputs": []
    },
    {
      "cell_type": "code",
      "metadata": {
        "colab": {
          "base_uri": "https://localhost:8080/"
        },
        "id": "4E9GZ_tmtgYS",
        "outputId": "b7bca923-8e28-4c66-e117-23e611f0644d"
      },
      "source": [
        "print(data)\r\n",
        "# The data we are taking to build the model."
      ],
      "execution_count": null,
      "outputs": [
        {
          "output_type": "stream",
          "text": [
            "first citizen:\n",
            "before we proceed any further, hear me speak.\n",
            "\n",
            "all:\n",
            "speak, speak.\n",
            "\n",
            "first citizen:\n",
            "you are all resolved rather to die than to famish?\n",
            "\n",
            "all:\n",
            "resolved. resolved.\n",
            "\n",
            "first citizen:\n",
            "first, you know caius marcius is chief enemy to the people.\n",
            "\n",
            "all:\n",
            "we know't, we know't.\n",
            "\n",
            "first citizen:\n",
            "let us kill him, and we'll have corn at our own price.\n",
            "is't a verdict?\n",
            "\n",
            "all:\n",
            "no more talking on't; let it be done: away, away!\n",
            "\n",
            "second citizen:\n",
            "one word, good citizens.\n",
            "\n",
            "first citizen:\n",
            "we are accounted poor citizens, the patricians good.\n",
            "what authority surfeits on would relieve us: if they\n",
            "would yield us but the superfluity, while it were\n",
            "wholesome, we might guess they relieved us humanely;\n",
            "but they think we are too dear: the leanness that\n",
            "afflicts us, the object of our misery, is as an\n",
            "inventory to particularise their abundance; our\n",
            "sufferance is a gain to them let us revenge this with\n",
            "our pikes, ere we become rakes: for the gods know i\n",
            "speak this in hunger for bread, not in thirst for revenge.\n",
            "\n",
            "second citizen:\n",
            "would you proceed especially against caius marcius?\n",
            "\n",
            "all:\n",
            "against him first: he's a very dog to the commonalty.\n",
            "\n",
            "second citizen:\n",
            "consider you what services he has done for his country?\n",
            "\n",
            "first citizen:\n",
            "very well; and could be content to give him good\n",
            "report fort, but that he pays himself with being proud.\n",
            "\n",
            "second citizen:\n",
            "nay, but speak not maliciously.\n",
            "\n",
            "first citizen:\n",
            "i say unto you, what he hath done famously, he did\n",
            "it to that end: though soft-conscienced men can be\n",
            "content to say it was for his country he did it to\n",
            "please his mother and to be partly proud; which he\n",
            "is, even till the altitude of his virtue.\n",
            "\n",
            "second citizen:\n",
            "what he cannot help in his nature, you account a\n",
            "vice in him. you must in no way say he is covetous.\n",
            "\n",
            "first citizen:\n",
            "if i must not, i need not be barren of accusations;\n",
            "he hath faults, with surplus, to tire in repetition.\n",
            "what shouts are these? the other side o' the city\n",
            "is risen: why stay we prating here? to the capitol!\n",
            "\n",
            "all:\n",
            "come, come.\n",
            "\n",
            "first citizen:\n",
            "soft! who comes here?\n",
            "\n",
            "second citizen:\n",
            "worthy menenius agrippa; one that hath always loved\n",
            "the people.\n",
            "\n",
            "first citizen:\n",
            "he's one honest enough: would all the rest were so!\n",
            "\n",
            "menenius:\n",
            "what work's, my countrymen, in hand? where go you\n",
            "with bats and clubs? the matter? speak, i pray you.\n",
            "\n",
            "first citizen:\n",
            "our business is not unknown to the senate; they have\n",
            "had inkling this fortnight what we intend to do,\n",
            "which now we'll show 'em in deeds. they say poor\n",
            "suitors have strong breaths: they shall know we\n",
            "have strong arms too.\n",
            "\n",
            "menenius:\n",
            "why, masters, my good friends, mine honest neighbours,\n",
            "will you undo yourselves?\n",
            "\n",
            "first citizen:\n",
            "we cannot, sir, we are undone already.\n",
            "\n",
            "menenius:\n",
            "i tell you, friends, most charitable care\n",
            "have the patricians of you. for your wants,\n",
            "your suffering in this dearth, you may as well\n",
            "strike at the heaven with your staves as lift them\n",
            "against the roman state, whose course will on\n",
            "the way it takes, cracking ten thousand curbs\n",
            "of more strong link asunder than can ever\n",
            "appear in your impediment. for the dearth,\n",
            "the gods, not the patricians, make it, and\n",
            "your knees to them, not arms, must help. alack,\n",
            "you are transported by calamity\n",
            "thither where more attends you, and you slander\n",
            "the helms o' the state, who care for you like fathers,\n",
            "when you curse them as enemies.\n",
            "\n",
            "first citizen:\n",
            "care for us! true, indeed! they ne'er cared for us\n",
            "yet: suffer us to famish, and their store-houses\n",
            "crammed with grain; make edicts for usury, to\n",
            "support usurers; repeal daily any wholesome act\n",
            "established against the rich, and provide more\n",
            "piercing statutes daily, to chain up and restrain\n",
            "the poor. if the wars eat us not up, they will; and\n",
            "there's all the love they bear us.\n",
            "\n",
            "menenius:\n",
            "either you must\n",
            "confess yourselves wondrous malicious,\n",
            "or be accused of folly. i shall tell you\n",
            "a pretty tale: it may be you have heard it;\n",
            "but, since it serves my purpose, i will venture\n",
            "to stale 't a little more.\n",
            "\n",
            "first citizen:\n",
            "well, i'll hear it, sir: yet you must not think to\n",
            "fob off our disgrace with a tale: but, an 't please\n",
            "you, deliver.\n",
            "\n",
            "menenius:\n",
            "there was a time when all the body's members\n",
            "rebell'd against the belly, thus accused it:\n",
            "that only like a gulf it did remain\n",
            "i' the midst o' the body, idle and unactive,\n",
            "still cupboarding the viand, never bearing\n",
            "like labour with the rest, where the other instruments\n",
            "did see and hear, devise, instruct, walk, feel,\n",
            "and, mutually participate, did minister\n",
            "unto the appetite and affection common\n",
            "of the whole body. the belly answer'd--\n",
            "\n",
            "first citizen:\n",
            "well, sir, what answer made the belly?\n",
            "\n",
            "menenius:\n",
            "sir, i shall tell you. with a kind of smile,\n",
            "which ne'er came from the lungs, but even thus--\n",
            "for, look you, i may make the belly smile\n",
            "as well as speak--it tauntingly replied\n",
            "to the discontented members, the mutinous parts\n",
            "that envied his receipt; even so most fitly\n",
            "as you malign our senators for that\n",
            "they are not such as you.\n",
            "\n",
            "first citizen:\n",
            "your belly's answer? what!\n",
            "the kingly-crowned head, the vigilant eye,\n",
            "the counsell\n"
          ],
          "name": "stdout"
        }
      ]
    },
    {
      "cell_type": "code",
      "metadata": {
        "id": "kgpXmIqItje9"
      },
      "source": [
        ""
      ],
      "execution_count": null,
      "outputs": []
    }
  ]
}